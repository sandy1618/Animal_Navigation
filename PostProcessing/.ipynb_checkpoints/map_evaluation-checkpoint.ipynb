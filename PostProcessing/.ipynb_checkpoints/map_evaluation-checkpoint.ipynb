{
 "cells": [
  {
   "cell_type": "code",
   "execution_count": 1,
   "metadata": {
    "tags": []
   },
   "outputs": [],
   "source": [
    "import pandas as pd\n",
    "from datetime import datetime\n",
    "import numpy as np\n",
    "import matplotlib.pyplot as plt\n",
    "%matplotlib inline \n",
    "# import seaborn as sns;sns.set()\n",
    "import sys\n",
    "import os"
   ]
  },
  {
   "cell_type": "code",
   "execution_count": 2,
   "metadata": {
    "tags": []
   },
   "outputs": [],
   "source": [
    "dir_path = os.getcwd()\n",
    "# print dir_path\n",
    "state_path = dir_path + '/data/2020-11-04-20-32-20/_slash_state.csv' \n",
    "waypoint_path = dir_path + '/data/2020-11-04-20-32-20/_slash_move_base_slash_goal.csv' \n",
    "\n"
   ]
  },
  {
   "cell_type": "code",
   "execution_count": 3,
   "metadata": {},
   "outputs": [
    {
     "name": "stdout",
     "output_type": "stream",
     "text": [
      "   rosbagTimestamp  header  seq  stamp  secs      nsecs frame_id  state\n",
      "0     180612000000     NaN    1    NaN   180  610000000       ''      1\n",
      "1     216265000000     NaN    2    NaN   216  265000000       ''      2\n"
     ]
    }
   ],
   "source": [
    "state_df = pd.read_csv(state_path)\n",
    "print state_df"
   ]
  },
  {
   "cell_type": "code",
   "execution_count": 4,
   "metadata": {},
   "outputs": [],
   "source": [
    "state_df.loc[:,'rosbagTimestamp']\n",
    "state_list = list(state_df.loc[:,'state'])"
   ]
  },
  {
   "cell_type": "code",
   "execution_count": 5,
   "metadata": {
    "tags": []
   },
   "outputs": [
    {
     "name": "stdout",
     "output_type": "stream",
     "text": [
      "start\n",
      "end\n"
     ]
    }
   ],
   "source": [
    "for index,state in enumerate(state_list):\n",
    "    # switch(state)\n",
    "    #     case 1 : print \"start\" \n",
    "    #     case 2 : print \"end\"\n",
    "\n",
    "    if state == 1 :\n",
    "        print \"start\"\n",
    "        start_time = state_df.loc[index,\"rosbagTimestamp\"]\n",
    "        \n",
    "    if state == 2 : \n",
    "        print \"end\"\n",
    "        end_time = state_df.loc[index,\"rosbagTimestamp\"]\n",
    "    "
   ]
  },
  {
   "cell_type": "code",
   "execution_count": 6,
   "metadata": {},
   "outputs": [
    {
     "name": "stdout",
     "output_type": "stream",
     "text": [
      "   rosbagTimestamp  header  seq  stamp  secs      nsecs frame_id  goal_id  \\\n",
      "0     181109000000     NaN    1    NaN   181  108000000       ''      NaN   \n",
      "1     185342000000     NaN    2    NaN   185  341000000       ''      NaN   \n",
      "2     195996000000     NaN    3    NaN   195  995000000       ''      NaN   \n",
      "\n",
      "   stamp.1  secs.1  ...  pose position        x         y    z  orientation  \\\n",
      "0      NaN     181  ...   NaN      NaN -1.63246 -0.381120  0.0          NaN   \n",
      "1      NaN     185  ...   NaN      NaN -0.79485 -0.457388  0.0          NaN   \n",
      "2      NaN     195  ...   NaN      NaN -0.46635 -1.387190  0.0          NaN   \n",
      "\n",
      "   x.1  y.1       z.1         w  \n",
      "0  0.0  0.0 -0.030632  0.999531  \n",
      "1  0.0  0.0 -0.588813  0.808270  \n",
      "2  0.0  0.0  0.969736 -0.244158  \n",
      "\n",
      "[3 rows x 30 columns]\n"
     ]
    }
   ],
   "source": [
    "waypoint_df = pd.read_csv(waypoint_path)\n",
    "print waypoint_df"
   ]
  },
  {
   "cell_type": "code",
   "execution_count": 7,
   "metadata": {},
   "outputs": [],
   "source": [
    "waypoint_list_x = list(waypoint_df.loc[:,'x'])\n",
    "waypoint_list_y = list(waypoint_df.loc[:,'y'])\n"
   ]
  },
  {
   "cell_type": "code",
   "execution_count": 15,
   "metadata": {},
   "outputs": [
    {
     "name": "stdout",
     "output_type": "stream",
     "text": [
      "    rosbagTimestamp  header  seq  stamp  secs      nsecs frame_id  pose  \\\n",
      "0       61634000000     NaN    0    NaN     8  341000000    \"map\"   NaN   \n",
      "1      146161000000     NaN    1    NaN   145  953000000    \"map\"   NaN   \n",
      "2      183317000000     NaN    2    NaN   183  156000000    \"map\"   NaN   \n",
      "3      185742000000     NaN    3    NaN   185  551000000    \"map\"   NaN   \n",
      "4      188128000000     NaN    4    NaN   187  957000000    \"map\"   NaN   \n",
      "5      190494000000     NaN    5    NaN   190  356000000    \"map\"   NaN   \n",
      "6      192647000000     NaN    6    NaN   192  557000000    \"map\"   NaN   \n",
      "7      194818000000     NaN    7    NaN   194  757000000    \"map\"   NaN   \n",
      "8      197010000000     NaN    8    NaN   196  955000000    \"map\"   NaN   \n",
      "9      199197000000     NaN    9    NaN   199  162000000    \"map\"   NaN   \n",
      "10     201392000000     NaN   10    NaN   201  360000000    \"map\"   NaN   \n",
      "11     203599000000     NaN   11    NaN   203  555000000    \"map\"   NaN   \n",
      "12     205796000000     NaN   12    NaN   205  759000000    \"map\"   NaN   \n",
      "13     207988000000     NaN   13    NaN   207  955000000    \"map\"   NaN   \n",
      "14     210389000000     NaN   14    NaN   210  356000000    \"map\"   NaN   \n",
      "15     212791000000     NaN   15    NaN   212  755000000    \"map\"   NaN   \n",
      "16     215191000000     NaN   16    NaN   215  154000000    \"map\"   NaN   \n",
      "17     217591000000     NaN   17    NaN   217  555000000    \"map\"   NaN   \n",
      "18     219790000000     NaN   18    NaN   219  756000000    \"map\"   NaN   \n",
      "19     221793000000     NaN   19    NaN   221  757000000    \"map\"   NaN   \n",
      "\n",
      "    pose.1  position         x         y    z  orientation  x.1  y.1  \\\n",
      "0      NaN       NaN  0.001474  0.000735  0.0          NaN  0.0  0.0   \n",
      "1      NaN       NaN -2.030325 -0.387879  0.0          NaN  0.0  0.0   \n",
      "2      NaN       NaN -1.997597 -0.407689  0.0          NaN  0.0  0.0   \n",
      "3      NaN       NaN -1.775516 -0.380189  0.0          NaN  0.0  0.0   \n",
      "4      NaN       NaN -1.751117 -0.388047  0.0          NaN  0.0  0.0   \n",
      "5      NaN       NaN -1.543491 -0.405243  0.0          NaN  0.0  0.0   \n",
      "6      NaN       NaN -1.323123 -0.415650  0.0          NaN  0.0  0.0   \n",
      "7      NaN       NaN -1.106028 -0.432593  0.0          NaN  0.0  0.0   \n",
      "8      NaN       NaN -0.881575 -0.444875  0.0          NaN  0.0  0.0   \n",
      "9      NaN       NaN -0.866512 -0.444811  0.0          NaN  0.0  0.0   \n",
      "10     NaN       NaN -0.863366 -0.451311  0.0          NaN  0.0  0.0   \n",
      "11     NaN       NaN -0.858422 -0.453841  0.0          NaN  0.0  0.0   \n",
      "12     NaN       NaN -0.858278 -0.460367  0.0          NaN  0.0  0.0   \n",
      "13     NaN       NaN -0.858937 -0.461600  0.0          NaN  0.0  0.0   \n",
      "14     NaN       NaN -0.758568 -0.675143  0.0          NaN  0.0  0.0   \n",
      "15     NaN       NaN -0.653543 -0.891344  0.0          NaN  0.0  0.0   \n",
      "16     NaN       NaN -0.549850 -1.111583  0.0          NaN  0.0  0.0   \n",
      "17     NaN       NaN -0.447641 -1.327652  0.0          NaN  0.0  0.0   \n",
      "18     NaN       NaN -0.444962 -1.335074  0.0          NaN  0.0  0.0   \n",
      "19     NaN       NaN -0.446769 -1.337007  0.0          NaN  0.0  0.0   \n",
      "\n",
      "         z.1         w                                         covariance  \n",
      "0   0.001111  0.999999  [0.001111886673836551, 2.3581048517021933e-05,...  \n",
      "1  -0.041272  0.999148  [0.16932970570538686, -0.00574517912943584, 0....  \n",
      "2   0.065538  0.997850  [0.09900644149138538, -0.020416359438840237, 0...  \n",
      "3   0.082486  0.996592  [0.06039026656239388, -0.018512528251811267, 0...  \n",
      "4  -0.015163  0.999885  [0.04151216241248212, -0.0142710896577255, 0.0...  \n",
      "5  -0.022579  0.999745  [0.025678733824607836, -0.010636167899472526, ...  \n",
      "6  -0.017901  0.999840  [0.020483639312219637, -0.007616648206542731, ...  \n",
      "7  -0.011790  0.999930  [0.013696466085220793, -0.004278795432251736, ...  \n",
      "8  -0.007118  0.999975  [0.009327588963300326, -0.0025903904563506774,...  \n",
      "9  -0.108788  0.994065  [0.0075813775954658436, -0.001966920407976247,...  \n",
      "10 -0.213837  0.976869  [0.007209863163664787, -0.002490798029369301, ...  \n",
      "11 -0.317972  0.948100  [0.006293234682064441, -0.0016699143616044076,...  \n",
      "12 -0.421310  0.906917  [0.005620156911121721, -0.0009768289030366861,...  \n",
      "13 -0.522266  0.852782  [0.0055503381056535295, -0.0010399644215485782...  \n",
      "14 -0.527233  0.849721  [0.0058134307844788236, -0.0017632460958110219...  \n",
      "15 -0.525819  0.850597  [0.0077011069240358054, -0.0025052542873341688...  \n",
      "16 -0.527555  0.849521  [0.008483285343834857, -0.002119296874305343, ...  \n",
      "17 -0.529484  0.848320  [0.010658222180218974, -0.0018371206446892163,...  \n",
      "18 -0.613838  0.789432  [0.010916703419057289, -0.0018019962463065031,...  \n",
      "19 -0.689591  0.724199  [0.009708617368768435, -0.0020422547068464914,...  \n"
     ]
    }
   ],
   "source": [
    "trajectory_path = dir_path + '/data/2020-11-04-20-32-20/_slash_amcl_pose.csv' \n",
    "trajectory_df = pd.read_csv(trajectory_path)\n",
    "print trajectory_df"
   ]
  },
  {
   "cell_type": "code",
   "execution_count": 17,
   "metadata": {},
   "outputs": [],
   "source": [
    "trajectory_list_x = list(trajectory_df.loc[:,'x'])\n",
    "trajectory_list_y = list(trajectory_df.loc[:,'y'])"
   ]
  },
  {
   "cell_type": "code",
   "execution_count": null,
   "metadata": {},
   "outputs": [],
   "source": [
    "# fig, ax = plt.subplots()\n",
    "# ax.plot(waypoint_list_y,waypoint_list_x)\n",
    "# ax.grid()\n",
    "# plt.show()\n"
   ]
  },
  {
   "cell_type": "code",
   "execution_count": null,
   "metadata": {
    "tags": []
   },
   "outputs": [],
   "source": []
  },
  {
   "cell_type": "code",
   "execution_count": null,
   "metadata": {},
   "outputs": [],
   "source": []
  }
 ],
 "metadata": {
  "kernelspec": {
   "display_name": "Python 2.7.12 64-bit",
   "language": "python",
   "name": "python271264bit3c776da4e2cd4910a25c2ecd1d47af77"
  },
  "language_info": {
   "codemirror_mode": {
    "name": "ipython",
    "version": 2
   },
   "file_extension": ".py",
   "mimetype": "text/x-python",
   "name": "python",
   "nbconvert_exporter": "python",
   "pygments_lexer": "ipython2",
   "version": "2.7.12"
  }
 },
 "nbformat": 4,
 "nbformat_minor": 2
}
