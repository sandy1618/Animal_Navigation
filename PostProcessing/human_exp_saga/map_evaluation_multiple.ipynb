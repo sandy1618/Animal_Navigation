{
 "cells": [
  {
   "cell_type": "code",
   "execution_count": 3,
   "metadata": {
    "tags": []
   },
   "outputs": [],
   "source": [
    "# usr/bin/env python\n",
    "__author__ = \"Sandeep kumar Nayak\"\n",
    "__email__ = \"nayak.sandeep@rm.is.tohoku.ac.jp\"\n",
    "__copyright__ = \"Copyright 2020, Tadokoro Lab\"\n",
    "\n",
    "import pandas as pd\n",
    "from datetime import datetime\n",
    "import numpy as np\n",
    "import matplotlib.pyplot as plt\n",
    "import matplotlib\n",
    "font = {'family' : 'normal',\n",
    "        'weight' : 'bold',\n",
    "        'size'   : 26}\n",
    "\n",
    "matplotlib.rc('font', **font)\n",
    "# %matplotlib inline \n",
    "import seaborn as sns;sns.set()\n",
    "import sys\n",
    "import os\n",
    "from os.path import expanduser\n",
    "import math\n",
    "\n",
    "home = expanduser(\"~\")\n",
    "# dir_path = home + '/Animal_Navigation/data/tamura/'\n",
    "dir_path = os.getcwd() + \"/\"\n",
    "file_df = pd.read_csv(dir_path + '/Exp_time_mapping.csv')\n",
    "stimuli = ['light','audio']\n",
    "\n",
    "light_df = file_df.iloc[0:8,1:7]\n",
    "audio_df = file_df.iloc[0:8,7:13]\n",
    "\n",
    "stimuli_df = audio_df\n",
    "\n",
    "\n",
    "##____________COMMON FUNCTIONS __________________________--\n",
    "## Common Class\n",
    "\n",
    "import pandas as pd\n",
    "class Datetime_Dataframe:\n",
    "    def __init__(self, df: pd.DataFrame):\n",
    "        self.df = df.copy()\n",
    "    \n",
    "  \n",
    "    \n",
    "    def time_col_concat(self,col1,col2,new_col_name):\n",
    "        if self.df[col1].dtype == 'int64':\n",
    "            self.df[col1]= self.df[col1].astype(str)\n",
    "        if self.df[col2].dtype == 'int64':\n",
    "            self.df[col2] = self.df[col2].astype(str)\n",
    "        temp = self.df[col1] + self.df[col2]\n",
    "        temp = temp.astype('int64')\n",
    "        try:\n",
    "            self.df.insert(1,new_col_name,temp)\n",
    "        except: \n",
    "            pass\n",
    "        return self.df\n",
    "        \n",
    "    def time_diff(self, time_col, ref_time, new_col_name):\n",
    "        \n",
    "        temp_nano = self.df[time_col] - ref_time\n",
    "        temp_milli = temp_nano*math.pow(10,-6)\n",
    "        temp = temp_nano*math.pow(10,-9)\n",
    "        try:\n",
    "            self.df.insert(2,new_col_name,temp)\n",
    "            self.df.insert(3,new_col_name+\"milli\",temp_milli)\n",
    "            self.df.insert(4,new_col_name+\"nano\",temp_nano)\n",
    "        except:\n",
    "            pass\n",
    "        return self.df\n",
    "\n",
    "\n",
    "def interval_extractor(time_column, start_time, end_time, df, column):\n",
    "    \"\"\"# Exctract only the column defined by start_time, end_time column. \"\"\"\n",
    "    df_list = list(df.loc[:,time_column])\n",
    "    final_list = [] \n",
    "    for index, time in enumerate(df_list):\n",
    "        if time >= start_time and time <= end_time:\n",
    "            final_list.append(df.loc[index,column])\n",
    "    return final_list\n",
    "\n",
    "def velocity_calc(time_column,start_time, end_time,df,column_x,column_y):\n",
    "\n",
    "#  distance = math.sqrt(pow(waypoint.pose.pose.position.x-animal_pose.pose.pose.position.x,2)+pow(waypoint.pose.pose.position.y-animal_pose.pose.pose.position.y,2))\n",
    "    df_list=list(df.loc[:,time_column])\n",
    "    velocity_list_x = []\n",
    "    velocity_list_y = []\n",
    "    velocity_list_net = []\n",
    "    velocity_time = []\n",
    "    for index,time in enumerate(df_list):        \n",
    "        if time >= start_time and time <= end_time:\n",
    "            if index==0:\n",
    "                pass\n",
    "            else:                \n",
    "                velocity_time.append(time)\n",
    "                velocity_x=(df.loc[index,column_x]-df.loc[index-1,column_x])/(df.loc[index,time_column] - df.loc[index-1,time_column])\n",
    "                # Converting into m/s\n",
    "                velocity_x = velocity_x * pow(10,9)\n",
    "                velocity_list_x.append(velocity_x)\n",
    "\n",
    "                velocity_y=(df.loc[index,column_y]-df.loc[index-1,column_y])/(df.loc[index,time_column] - df.loc[index-1,time_column])\n",
    "                # Converting into m/s\n",
    "                velocity_y = velocity_y * pow(10,9)\n",
    "                velocity_list_y.append(velocity_y)\n",
    "\n",
    "                velocity_list_net.append(math.sqrt(pow(velocity_x,2)+pow(velocity_y,2)))\n",
    "    out_df = pd.DataFrame(list(zip(velocity_time,velocity_list_net,velocity_list_x,velocity_list_y)),columns=[\"velocity_time\",\"velocity_list_net\",\"velocity_list_x\",\"velocity_list_y\"])\n",
    "    # return velocity_list_net,velocity_list_x,velocity_list_y,velocity_time\n",
    "    return out_df\n",
    "\n",
    "\n",
    "def euclidean_distance_calc(x_list,y_list):\n",
    "    distance = 0\n",
    "    # Assuming lenght of x_list & y_list are same\n",
    "    try:\n",
    "        if len(x_list) == len(y_list):\n",
    "            for index,x in enumerate(x_list):\n",
    "                if index == 0:\n",
    "                    pass\n",
    "                else:\n",
    "                    distance += math.sqrt(pow(x_list[index]-x_list[index-1],2)+pow(y_list[index]-y_list[index-1],2))\n",
    "        else:\n",
    "            raise IndexError(\"List provided is not same length\")\n",
    "    except IndexError:\n",
    "        pass\n",
    "    return distance\n",
    "\n",
    "\n"
   ]
  },
  {
   "cell_type": "code",
   "execution_count": 34,
   "metadata": {
    "tags": []
   },
   "outputs": [
    {
     "output_type": "stream",
     "name": "stdout",
     "text": "2020-12-25-13-54-51\n10\nstart\nend\n2020-12-26-13-54-10\n10\nstart\nend\n2020-12-26-18-10-15\n10\nstart\n2020-12-27-14-19-27\n10\nstart\nend\n2020-12-29-11-20-37\n10\nstart\nend\n2020-12-29-14-13-05\n10\nstart\nend\n2020-12-29-17-04-34\n10\nstart\nend\n2020-12-25-13-49-03\n20\nstart\nend\n2020-12-26-13-50-37\n20\nstart\nend\n2020-12-26-18-04-23\n20\nstart\nend\n2020-12-27-14-15-01\n20\nstart\nend\n2020-12-29-11-29-17\n20\nstart\nend\n2020-12-29-14-16-55\n20\nstart\nend\n2020-12-29-17-01-39\n20\nstart\nend\n2020-12-25-13-42-09\n30\nstart\n2020-12-26-13-47-19\n30\nstart\nend\n2020-12-26-17-58-15\n30\nstart\n2020-12-27-14-11-31\n30\nstart\nend\n2020-12-29-11-32-19\n30\nstart\nend\n2020-12-29-14-19-43\n30\nstart\nend\n2020-12-29-16-59-04\n30\nstart\nend\n2020-12-25-13-34-56\n40\nstart\nend\n2020-12-26-13-43-14\n40\nstart\nend\n2020-12-26-17-54-13\n40\nstart\nend\n2020-12-27-14-08-29\n40\nstart\nend\n2020-12-29-11-34-53\n40\nstart\nend\n2020-12-29-14-22-13\n40\nstart\nend\n2020-12-29-16-56-09\n40\nstart\nend\n2020-12-25-13-28-10\n60\nstart\nend\n2020-12-26-13-34-08\n60\nstart\nend\n2020-12-26-17-47-18\n60\nstart\nend\n2020-12-27-14-04-04\n60\nstart\nend\n2020-12-29-11-38-00\n60\nstart\nend\n2020-12-29-14-22-13\n60\nstart\nend\n2020-12-29-16-52-28\n60\nstart\nend\n2020-12-25-13-19-48\n80\nstart\nend\n2020-12-26-13-27-15\n80\nstart\nend\n2020-12-26-17-40-00\n80\nstart\nend\n2020-12-27-13-58-18\n80\nstart\nend\n2020-12-29-11-41-51\n80\nstart\nend\n2020-12-29-14-28-43\n80\nstart\nend\n2020-12-29-16-48-07\n80\nstart\nend\n['10', '10', '10', '10', '10', '10', '10', '20', '20', '20', '20', '20', '20', '20', '30', '30', '30', '30', '30', '30', '30', '40', '40', '40', '40', '40', '40', '40', '60', '60', '60', '60', '60', '60', '60', '80', '80', '80', '80', '80', '80', '80']\n[157.7662019769572, 27.47883375925337, 13.767567877806176, 21.86577173820498, 16.774078798781154, 46.72061563036672, 8.689534779555023, 218.90342989127575, 13.88766325709016, 30.86072112165973, 16.052528411996995, 8.79102527419616, 18.760987789767526, 27.78290071184205, 297.795543051494, 17.744844285297575, 95.83244822956223, 17.82203243440544, 7.612579750581555, 18.55942172062023, 37.6305992939071, 190.50610701296625, 37.00105649472379, 37.21861374343801, 21.969623970038718, 18.597497815906472, 34.73063667667399, 40.17594080774945, 482.5894293336442, 65.47673606285332, 82.31142722323932, 52.9734480951072, 38.9494084128803, 34.73063667667399, 113.08338030103539, 46.804749126824504, 112.18553835404191, 62.65236359556936, 144.22701715273308, 144.48912096034715, 197.5414685215573, 166.71297080420416]\n[168.48878774800002, 240.66396426000003, 144.436322869, 269.509228854, 219.58681820700002, 140.288752106, 140.486325333, 180.33746901400002, 129.93967207900002, 175.04429247800002, 163.40666662, 108.04455434900001, 97.02839670600001, 113.550789182, 224.07435263000002, 123.164861766, 166.076483853, 128.233356971, 93.222498098, 86.71480654400001, 92.460857805, 187.60675905000002, 128.862626756, 126.03787795900001, 114.32095757200001, 122.36451831400001, 89.518001825, 96.572451719, 255.573940179, 205.08126340400003, 155.08909395400002, 138.559380744, 138.985047192, 89.518001825, 147.243735721, 113.55650820800001, 226.644765554, 170.43075212000002, 211.621558912, 218.885630875, 223.28107161000003, 178.536575598]\n"
    }
   ],
   "source": [
    "\n",
    "light_df = file_df.iloc[0:8,1:7]\n",
    "audio_df = file_df.iloc[0:8,7:13]\n",
    "\n",
    "stimuli_df = audio_df\n",
    "\n",
    "\n",
    "threshold_list = []\n",
    "exp_date_list = []\n",
    "tdr_list=[]\n",
    "navigation_time_list=[]\n",
    "\n",
    "\n",
    "for col_index,col_val in enumerate(stimuli_df.iloc[0,:]):\n",
    "    # print(col_val)\n",
    "    for row_index,row_val in enumerate(stimuli_df.iloc[1:,col_index]):\n",
    "        \n",
    "\n",
    "        file_path=row_val\n",
    "        print(file_path)\n",
    "        print(col_val)\n",
    "        # This is where the entire list for tdr calculation & time calculation . \n",
    "        state_path = dir_path + file_path + '/_slash_state.csv' \n",
    "        waypoint_path = dir_path + file_path + '/_slash_move_base_slash_goal.csv' \n",
    "        trajectory_path = dir_path + file_path + '/_slash_map_slash_robot_pose.csv' \n",
    "        signal_path = dir_path + file_path + '/_slash_cmd_sig.csv'\n",
    "\n",
    "        time_column = \"rosbagTimestamp\"\n",
    "        start_time = 0\n",
    "        end_time = 0\n",
    "        state_df = pd.read_csv(state_path)\n",
    "        waypoint_df = pd.read_csv(waypoint_path)\n",
    "        trajectory_df = pd.read_csv(trajectory_path)\n",
    "\n",
    "\n",
    "        # Geeting the start time & end time from state_df.\n",
    "        state_df.loc[:,time_column]\n",
    "        state_list = list(state_df.loc[:,'state'])\n",
    "\n",
    "        for index,state in enumerate(state_list):\n",
    "            if state == 1 :\n",
    "                \n",
    "                start_time = state_df.loc[index,time_column]\n",
    "                print(\"start\")\n",
    "                \n",
    "            if state == 2 : \n",
    "                \n",
    "                end_time = state_df.loc[index,time_column]\n",
    "                print(\"end\")\n",
    "\n",
    "\n",
    "        # If there is no start_time / end_time, then make the starting time or end time.\n",
    "        if not start_time :\n",
    "            start_time = trajectory_df[time_column].iloc[0]\n",
    "        if not end_time :\n",
    "            end_time = trajectory_df[time_column].iloc[-1]\n",
    "            \n",
    "\n",
    "        waypoint_list_x = list(waypoint_df.loc[:,'x'])\n",
    "        waypoint_list_y = list(waypoint_df.loc[:,'y'])\n",
    "        # Trying to add waypoint list to include the starting positoin as well. \n",
    "        for index,time in enumerate(list(trajectory_df[time_column])):\n",
    "            start_coordinate = []\n",
    "            if time >= start_time:\n",
    "                start_coordinate.append(trajectory_df[\"x\"].iloc[index])\n",
    "                start_coordinate.append(trajectory_df[\"y\"].iloc[index])\n",
    "                break \n",
    "        waypoint_list_x.insert(0,start_coordinate[0])\n",
    "        waypoint_list_y.insert(0,start_coordinate[1])\n",
    "\n",
    "\n",
    "\n",
    "\n",
    "        # Now, this list is extracted based on the start_time & end_time. \n",
    "        trajectory_list_x = interval_extractor(time_column,start_time,end_time,trajectory_df,'x')\n",
    "        trajectory_list_y = interval_extractor(time_column,start_time,end_time,trajectory_df,'y')\n",
    "\n",
    "\n",
    "\n",
    "        # # velocity_list_net,velocity_list_x,velocity_list_y,velocity_time = velocity_calc(time_column,start_time,end_time,trajectory_df,\"x\",\"y\")\n",
    "        # velocity_df = velocity_calc(time_column,start_time,end_time,trajectory_df,\"x\",\"y\")\n",
    "\n",
    "\n",
    "        # Measure of Deviation 1\n",
    "        waypoint_distance = euclidean_distance_calc(waypoint_list_x,waypoint_list_y)\n",
    "        trajectory_distance = euclidean_distance_calc(trajectory_list_x,trajectory_list_y)\n",
    "        trajectory_ratio = (((trajectory_distance-waypoint_distance)/waypoint_distance))*100\n",
    "        # Navigation time evaluation: \n",
    "        navigation_time = (end_time - start_time) * pow(10,-9)\n",
    "\n",
    "\n",
    "        # print (\"waypoint_distance\",waypoint_distance)\n",
    "        # print (\"trajectory_distance\",trajectory_distance)   \n",
    "        # print (\"TDR\",trajectory_ratio)\n",
    "        # print (\"navigation_time\",navigation_time)\n",
    "\n",
    "\n",
    "\n",
    "        image_path = dir_path+file_path+\"/\"+file_path+\".png\"\n",
    "        output_path =  dir_path+file_path+\"/\"+file_path+\".txt\"\n",
    "        with open(output_path, 'w') as f:\n",
    "            # f.write(\"waypoint_distance\",waypoint_distance)\n",
    "            print (\"waypoint_distance: {} \".format(waypoint_distance),file=f)    # Python 3.x\n",
    "            print (\"trajectory_distance: {} \".format(trajectory_distance),file=f)    # Python 3.x\n",
    "            print (\"TDR: {} \".format(trajectory_ratio),file=f)    # Python 3.x\n",
    "            print (\"navigation_time: {} \".format(navigation_time),file=f)    # Python 3.x\n",
    "        \n",
    "        ## Adding the TDR & navigation_time to the list & also appending the threshold.\n",
    "        threshold_list.append(col_val) # Appending threshold list. \n",
    "        tdr_list.append(trajectory_ratio)\n",
    "        navigation_time_list.append(navigation_time)\n",
    "\n",
    "        #____PLOTTING_____###\n",
    "        # fig, ax = plt.subplots()\n",
    "        # ax.plot(waypoint_list_x,waypoint_list_y,'ro-',label=\"Waypoints\")\n",
    "        # ax.plot(trajectory_list_x,trajectory_list_y,'b.-',label=\"Trajectory\")\n",
    "        # plt.xlabel('X distance',fontsize=22)\n",
    "        # plt.ylabel('Y distance',fontsize=22)\n",
    "        # #Plotting startig & ending poistions \n",
    "        # ax.scatter(trajectory_list_x[0],trajectory_list_y[0],s=100,marker='D',c='red',label = \"Begin\")\n",
    "        # ax.scatter(trajectory_list_x[-1],trajectory_list_y[-1],s=100,marker='D',c='black',label = \"End\")\n",
    "        # plt.title(\"Human Trajectory with Waypoint\",fontsize=22)\n",
    "        # plt.legend()\n",
    "        # plt.savefig(image_path,bbox_inches='tight')\n",
    "        # plt.show()\n",
    "\n",
    "      \n",
    "print(threshold_list)\n",
    "print(tdr_list)\n",
    "print(navigation_time_list)\n",
    "    "
   ]
  },
  {
   "cell_type": "code",
   "execution_count": 8,
   "metadata": {},
   "outputs": [
    {
     "output_type": "error",
     "ename": "NameError",
     "evalue": "name 'threshold_list' is not defined",
     "traceback": [
      "\u001b[0;31m---------------------------------------------------------------------------\u001b[0m",
      "\u001b[0;31mNameError\u001b[0m                                 Traceback (most recent call last)",
      "\u001b[0;32m<ipython-input-8-7e75597ce138>\u001b[0m in \u001b[0;36m<module>\u001b[0;34m\u001b[0m\n\u001b[1;32m      1\u001b[0m result_df = pd.DataFrame(\n\u001b[0;32m----> 2\u001b[0;31m     {'threshold':threshold_list,\n\u001b[0m\u001b[1;32m      3\u001b[0m     \u001b[0;34m'tdr'\u001b[0m\u001b[0;34m:\u001b[0m\u001b[0mtdr_list\u001b[0m\u001b[0;34m,\u001b[0m\u001b[0;34m\u001b[0m\u001b[0;34m\u001b[0m\u001b[0m\n\u001b[1;32m      4\u001b[0m     \u001b[0;34m'navigation_time'\u001b[0m\u001b[0;34m:\u001b[0m\u001b[0mnavigation_time_list\u001b[0m\u001b[0;34m\u001b[0m\u001b[0;34m\u001b[0m\u001b[0m\n\u001b[1;32m      5\u001b[0m     })\n",
      "\u001b[0;31mNameError\u001b[0m: name 'threshold_list' is not defined"
     ]
    }
   ],
   "source": [
    "result_df = pd.DataFrame(\n",
    "    {'threshold':threshold_list,\n",
    "    'tdr':tdr_list,\n",
    "    'navigation_time':navigation_time_list\n",
    "    })\n",
    "stimuli = ['light','audio']\n",
    "result_df.to_csv( dir_path +'results/'+ stimuli[1]+'.csv')\n",
    "\n",
    "\n"
   ]
  },
  {
   "cell_type": "code",
   "execution_count": 18,
   "metadata": {
    "tags": []
   },
   "outputs": [],
   "source": [
    "stimuli = ['light','audio']\n",
    "# Threshold Post Processing \n",
    "stimuli_df = pd.read_csv(dir_path +'results/'+ stimuli[0]+'.csv')"
   ]
  },
  {
   "cell_type": "code",
   "execution_count": 37,
   "metadata": {
    "tags": []
   },
   "outputs": [
    {
     "output_type": "execute_result",
     "data": {
      "text/plain": "<matplotlib.collections.PathCollection at 0x7f3f91718810>"
     },
     "metadata": {},
     "execution_count": 37
    },
    {
     "output_type": "display_data",
     "data": {
      "image/png": "[encoded data removed]",
      "text/plain": "<Figure size 432x288 with 2 Axes>",
      "image/svg+xml": "<?xml version=\"1.0\" encoding=\"utf-8\" standalone=\"no\"?>\n<!DOCTYPE svg PUBLIC \"-//W3C//DTD SVG 1.1//EN\"\n  \"http://www.w3.org/Graphics/SVG/1.1/DTD/svg11.dtd\">\n<!-- Created with matplotlib (https://matplotlib.org/) -->\n<svg height=\"251.985937pt\" version=\"1.1\" viewBox=\"0 0 389.314375 251.985937\" width=\"389.314375pt\" xmlns=\"http://www.w3.org/2000/svg\" xmlns:xlink=\"http://www.w3.org/1999/xlink\">\n <metadata>\n  <rdf:RDF xmlns:cc=\"http://creativecommons.org/ns#\" xmlns:dc=\"http://purl.org/dc/elements/1.1/\" xmlns:rdf=\"http://www.w3.org/1999/02/22-rdf-syntax-ns#\">\n   <cc:Work>\n    <dc:type rdf:resource=\"http://purl.org/dc/dcmitype/StillImage\"/>\n    <dc:date>2021-01-12T14:58:39.911258</dc:date>\n    <dc:format>image/svg+xml</dc:format>\n    <dc:creator>\n     <cc:Agent>\n      <dc:title>Matplotlib v3.3.3, https://matplotlib.org/</dc:title>\n     </cc:Agent>\n    </dc:creator>\n   </cc:Work>\n  </rdf:RDF>\n </metadata>\n <defs>\n  <style type=\"text/css\">*{stroke-linecap:butt;stroke-linejoin:round;}</style>\n </defs>\n <g id=\"figure_1\">\n  <g id=\"patch_1\">\n   <path d=\"M 0 251.985937 \nL 389.314375 251.985937 \nL 389.314375 0 \nL 0 0 \nz\n\" style=\"fill:#ffffff;\"/>\n  </g>\n  <g id=\"axes_1\">\n   <g id=\"patch_2\">\n    <path d=\"M 47.314375 106.036364 \nL 382.114375 106.036364 \nL 382.114375 7.2 \nL 47.314375 7.2 \nz\n\" style=\"fill:#eaeaf2;\"/>\n   </g>\n   <g id=\"matplotlib.axis_1\">\n    <g id=\"xtick_1\">\n     <g id=\"line2d_1\">\n      <path clip-path=\"url(#pe5fe2d0fb3)\" d=\"M 62.532557 106.036364 \nL 62.532557 7.2 \n\" style=\"fill:none;stroke:#ffffff;stroke-linecap:round;\"/>\n     </g>\n     <g id=\"text_1\">\n      <!-- 10 -->\n      <g style=\"fill:#262626;\" transform=\"translate(54.878963 123.894645)scale(0.11 -0.11)\">\n       <defs>\n        <path d=\"M 11.71875 12.984375 \nL 28.328125 12.984375 \nL 28.328125 60.109375 \nL 11.28125 56.59375 \nL 11.28125 69.390625 \nL 28.21875 72.90625 \nL 46.09375 72.90625 \nL 46.09375 12.984375 \nL 62.703125 12.984375 \nL 62.703125 0 \nL 11.71875 0 \nz\n\" id=\"DejaVuSans-Bold-49\"/>\n        <path d=\"M 46 36.53125 \nQ 46 50.203125 43.4375 55.78125 \nQ 40.875 61.375 34.8125 61.375 \nQ 28.765625 61.375 26.171875 55.78125 \nQ 23.578125 50.203125 23.578125 36.53125 \nQ 23.578125 22.703125 26.171875 17.03125 \nQ 28.765625 11.375 34.8125 11.375 \nQ 40.828125 11.375 43.40625 17.03125 \nQ 46 22.703125 46 36.53125 \nz\nM 64.796875 36.375 \nQ 64.796875 18.265625 56.984375 8.421875 \nQ 49.171875 -1.421875 34.8125 -1.421875 \nQ 20.40625 -1.421875 12.59375 8.421875 \nQ 4.78125 18.265625 4.78125 36.375 \nQ 4.78125 54.546875 12.59375 64.375 \nQ 20.40625 74.21875 34.8125 74.21875 \nQ 49.171875 74.21875 56.984375 64.375 \nQ 64.796875 54.546875 64.796875 36.375 \nz\n\" id=\"DejaVuSans-Bold-48\"/>\n       </defs>\n       <use xlink:href=\"#DejaVuSans-Bold-49\"/>\n       <use x=\"69.580078\" xlink:href=\"#DejaVuSans-Bold-48\"/>\n      </g>\n     </g>\n    </g>\n    <g id=\"xtick_2\">\n     <g id=\"line2d_2\">\n      <path clip-path=\"url(#pe5fe2d0fb3)\" d=\"M 106.013076 106.036364 \nL 106.013076 7.2 \n\" style=\"fill:none;stroke:#ffffff;stroke-linecap:round;\"/>\n     </g>\n     <g id=\"text_2\">\n      <!-- 20 -->\n      <g style=\"fill:#262626;\" transform=\"translate(98.359483 123.894645)scale(0.11 -0.11)\">\n       <defs>\n        <path d=\"M 28.8125 13.8125 \nL 60.890625 13.8125 \nL 60.890625 0 \nL 7.90625 0 \nL 7.90625 13.8125 \nL 34.515625 37.3125 \nQ 38.09375 40.53125 39.796875 43.609375 \nQ 41.5 46.6875 41.5 50 \nQ 41.5 55.125 38.0625 58.25 \nQ 34.625 61.375 28.90625 61.375 \nQ 24.515625 61.375 19.28125 59.5 \nQ 14.0625 57.625 8.109375 53.90625 \nL 8.109375 69.921875 \nQ 14.453125 72.015625 20.65625 73.109375 \nQ 26.859375 74.21875 32.8125 74.21875 \nQ 45.90625 74.21875 53.15625 68.453125 \nQ 60.40625 62.703125 60.40625 52.390625 \nQ 60.40625 46.4375 57.328125 41.28125 \nQ 54.25 36.140625 44.390625 27.484375 \nz\n\" id=\"DejaVuSans-Bold-50\"/>\n       </defs>\n       <use xlink:href=\"#DejaVuSans-Bold-50\"/>\n       <use x=\"69.580078\" xlink:href=\"#DejaVuSans-Bold-48\"/>\n      </g>\n     </g>\n    </g>\n    <g id=\"xtick_3\">\n     <g id=\"line2d_3\">\n      <path clip-path=\"url(#pe5fe2d0fb3)\" d=\"M 149.493596 106.036364 \nL 149.493596 7.2 \n\" style=\"fill:none;stroke:#ffffff;stroke-linecap:round;\"/>\n     </g>\n     <g id=\"text_3\">\n      <!-- 30 -->\n      <g style=\"fill:#262626;\" transform=\"translate(141.840002 123.894645)scale(0.11 -0.11)\">\n       <defs>\n        <path d=\"M 46.578125 39.3125 \nQ 53.953125 37.40625 57.78125 32.6875 \nQ 61.625 27.984375 61.625 20.703125 \nQ 61.625 9.859375 53.3125 4.21875 \nQ 45.015625 -1.421875 29.109375 -1.421875 \nQ 23.484375 -1.421875 17.84375 -0.515625 \nQ 12.203125 0.390625 6.6875 2.203125 \nL 6.6875 16.703125 \nQ 11.96875 14.0625 17.15625 12.71875 \nQ 22.359375 11.375 27.390625 11.375 \nQ 34.859375 11.375 38.84375 13.953125 \nQ 42.828125 16.546875 42.828125 21.390625 \nQ 42.828125 26.375 38.75 28.9375 \nQ 34.671875 31.5 26.703125 31.5 \nL 19.1875 31.5 \nL 19.1875 43.609375 \nL 27.09375 43.609375 \nQ 34.1875 43.609375 37.640625 45.828125 \nQ 41.109375 48.046875 41.109375 52.59375 \nQ 41.109375 56.78125 37.734375 59.078125 \nQ 34.375 61.375 28.21875 61.375 \nQ 23.6875 61.375 19.046875 60.34375 \nQ 14.40625 59.328125 9.8125 57.328125 \nL 9.8125 71.09375 \nQ 15.375 72.65625 20.84375 73.4375 \nQ 26.3125 74.21875 31.59375 74.21875 \nQ 45.796875 74.21875 52.84375 69.546875 \nQ 59.90625 64.890625 59.90625 55.515625 \nQ 59.90625 49.125 56.53125 45.046875 \nQ 53.171875 40.96875 46.578125 39.3125 \nz\n\" id=\"DejaVuSans-Bold-51\"/>\n       </defs>\n       <use xlink:href=\"#DejaVuSans-Bold-51\"/>\n       <use x=\"69.580078\" xlink:href=\"#DejaVuSans-Bold-48\"/>\n      </g>\n     </g>\n    </g>\n    <g id=\"xtick_4\">\n     <g id=\"line2d_4\">\n      <path clip-path=\"url(#pe5fe2d0fb3)\" d=\"M 192.974115 106.036364 \nL 192.974115 7.2 \n\" style=\"fill:none;stroke:#ffffff;stroke-linecap:round;\"/>\n     </g>\n     <g id=\"text_4\">\n      <!-- 40 -->\n      <g style=\"fill:#262626;\" transform=\"translate(185.320522 123.894645)scale(0.11 -0.11)\">\n       <defs>\n        <path d=\"M 36.8125 57.421875 \nL 16.21875 26.90625 \nL 36.8125 26.90625 \nz\nM 33.6875 72.90625 \nL 54.59375 72.90625 \nL 54.59375 26.90625 \nL 64.984375 26.90625 \nL 64.984375 13.28125 \nL 54.59375 13.28125 \nL 54.59375 0 \nL 36.8125 0 \nL 36.8125 13.28125 \nL 4.5 13.28125 \nL 4.5 29.390625 \nz\n\" id=\"DejaVuSans-Bold-52\"/>\n       </defs>\n       <use xlink:href=\"#DejaVuSans-Bold-52\"/>\n       <use x=\"69.580078\" xlink:href=\"#DejaVuSans-Bold-48\"/>\n      </g>\n     </g>\n    </g>\n    <g id=\"xtick_5\">\n     <g id=\"line2d_5\">\n      <path clip-path=\"url(#pe5fe2d0fb3)\" d=\"M 236.454635 106.036364 \nL 236.454635 7.2 \n\" style=\"fill:none;stroke:#ffffff;stroke-linecap:round;\"/>\n     </g>\n     <g id=\"text_5\">\n      <!-- 50 -->\n      <g style=\"fill:#262626;\" transform=\"translate(228.801041 123.894645)scale(0.11 -0.11)\">\n       <defs>\n        <path d=\"M 10.59375 72.90625 \nL 57.328125 72.90625 \nL 57.328125 59.078125 \nL 25.59375 59.078125 \nL 25.59375 47.796875 \nQ 27.734375 48.390625 29.90625 48.703125 \nQ 32.078125 49.03125 34.421875 49.03125 \nQ 47.75 49.03125 55.171875 42.359375 \nQ 62.59375 35.6875 62.59375 23.78125 \nQ 62.59375 11.96875 54.515625 5.265625 \nQ 46.4375 -1.421875 32.078125 -1.421875 \nQ 25.875 -1.421875 19.796875 -0.21875 \nQ 13.71875 0.984375 7.71875 3.421875 \nL 7.71875 18.21875 \nQ 13.671875 14.796875 19.015625 13.078125 \nQ 24.359375 11.375 29.109375 11.375 \nQ 35.9375 11.375 39.859375 14.71875 \nQ 43.796875 18.0625 43.796875 23.78125 \nQ 43.796875 29.546875 39.859375 32.859375 \nQ 35.9375 36.1875 29.109375 36.1875 \nQ 25.046875 36.1875 20.453125 35.125 \nQ 15.875 34.078125 10.59375 31.890625 \nz\n\" id=\"DejaVuSans-Bold-53\"/>\n       </defs>\n       <use xlink:href=\"#DejaVuSans-Bold-53\"/>\n       <use x=\"69.580078\" xlink:href=\"#DejaVuSans-Bold-48\"/>\n      </g>\n     </g>\n    </g>\n    <g id=\"xtick_6\">\n     <g id=\"line2d_6\">\n      <path clip-path=\"url(#pe5fe2d0fb3)\" d=\"M 279.935154 106.036364 \nL 279.935154 7.2 \n\" style=\"fill:none;stroke:#ffffff;stroke-linecap:round;\"/>\n     </g>\n     <g id=\"text_6\">\n      <!-- 60 -->\n      <g style=\"fill:#262626;\" transform=\"translate(272.28156 123.894645)scale(0.11 -0.11)\">\n       <defs>\n        <path d=\"M 36.1875 35.984375 \nQ 31.25 35.984375 28.78125 32.78125 \nQ 26.3125 29.59375 26.3125 23.1875 \nQ 26.3125 16.796875 28.78125 13.59375 \nQ 31.25 10.40625 36.1875 10.40625 \nQ 41.15625 10.40625 43.625 13.59375 \nQ 46.09375 16.796875 46.09375 23.1875 \nQ 46.09375 29.59375 43.625 32.78125 \nQ 41.15625 35.984375 36.1875 35.984375 \nz\nM 59.421875 71 \nL 59.421875 57.515625 \nQ 54.78125 59.71875 50.671875 60.765625 \nQ 46.578125 61.8125 42.671875 61.8125 \nQ 34.28125 61.8125 29.59375 57.140625 \nQ 24.90625 52.484375 24.125 43.3125 \nQ 27.34375 45.703125 31.09375 46.890625 \nQ 34.859375 48.09375 39.3125 48.09375 \nQ 50.484375 48.09375 57.34375 41.546875 \nQ 64.203125 35.015625 64.203125 24.421875 \nQ 64.203125 12.703125 56.53125 5.640625 \nQ 48.875 -1.421875 35.984375 -1.421875 \nQ 21.78125 -1.421875 13.984375 8.171875 \nQ 6.203125 17.78125 6.203125 35.40625 \nQ 6.203125 53.46875 15.3125 63.796875 \nQ 24.421875 74.125 40.28125 74.125 \nQ 45.3125 74.125 50.046875 73.34375 \nQ 54.78125 72.5625 59.421875 71 \nz\n\" id=\"DejaVuSans-Bold-54\"/>\n       </defs>\n       <use xlink:href=\"#DejaVuSans-Bold-54\"/>\n       <use x=\"69.580078\" xlink:href=\"#DejaVuSans-Bold-48\"/>\n      </g>\n     </g>\n    </g>\n    <g id=\"xtick_7\">\n     <g id=\"line2d_7\">\n      <path clip-path=\"url(#pe5fe2d0fb3)\" d=\"M 323.415674 106.036364 \nL 323.415674 7.2 \n\" style=\"fill:none;stroke:#ffffff;stroke-linecap:round;\"/>\n     </g>\n     <g id=\"text_7\">\n      <!-- 70 -->\n      <g style=\"fill:#262626;\" transform=\"translate(315.76208 123.894645)scale(0.11 -0.11)\">\n       <defs>\n        <path d=\"M 6.6875 72.90625 \nL 61.625 72.90625 \nL 61.625 62.3125 \nL 33.203125 0 \nL 14.890625 0 \nL 41.796875 59.078125 \nL 6.6875 59.078125 \nz\n\" id=\"DejaVuSans-Bold-55\"/>\n       </defs>\n       <use xlink:href=\"#DejaVuSans-Bold-55\"/>\n       <use x=\"69.580078\" xlink:href=\"#DejaVuSans-Bold-48\"/>\n      </g>\n     </g>\n    </g>\n    <g id=\"xtick_8\">\n     <g id=\"line2d_8\">\n      <path clip-path=\"url(#pe5fe2d0fb3)\" d=\"M 366.896193 106.036364 \nL 366.896193 7.2 \n\" style=\"fill:none;stroke:#ffffff;stroke-linecap:round;\"/>\n     </g>\n     <g id=\"text_8\">\n      <!-- 80 -->\n      <g style=\"fill:#262626;\" transform=\"translate(359.242599 123.894645)scale(0.11 -0.11)\">\n       <defs>\n        <path d=\"M 34.8125 32.625 \nQ 29.546875 32.625 26.703125 29.734375 \nQ 23.875 26.859375 23.875 21.484375 \nQ 23.875 16.109375 26.703125 13.25 \nQ 29.546875 10.40625 34.8125 10.40625 \nQ 40.046875 10.40625 42.828125 13.25 \nQ 45.609375 16.109375 45.609375 21.484375 \nQ 45.609375 26.90625 42.828125 29.765625 \nQ 40.046875 32.625 34.8125 32.625 \nz\nM 21.09375 38.8125 \nQ 14.453125 40.828125 11.078125 44.96875 \nQ 7.71875 49.125 7.71875 55.328125 \nQ 7.71875 64.546875 14.59375 69.375 \nQ 21.484375 74.21875 34.8125 74.21875 \nQ 48.046875 74.21875 54.921875 69.40625 \nQ 61.8125 64.59375 61.8125 55.328125 \nQ 61.8125 49.125 58.421875 44.96875 \nQ 55.03125 40.828125 48.390625 38.8125 \nQ 55.8125 36.765625 59.59375 32.15625 \nQ 63.375 27.546875 63.375 20.515625 \nQ 63.375 9.671875 56.171875 4.125 \nQ 48.96875 -1.421875 34.8125 -1.421875 \nQ 20.609375 -1.421875 13.359375 4.125 \nQ 6.109375 9.671875 6.109375 20.515625 \nQ 6.109375 27.546875 9.890625 32.15625 \nQ 13.671875 36.765625 21.09375 38.8125 \nz\nM 25.484375 53.421875 \nQ 25.484375 49.078125 27.90625 46.734375 \nQ 30.328125 44.390625 34.8125 44.390625 \nQ 39.203125 44.390625 41.59375 46.734375 \nQ 44 49.078125 44 53.421875 \nQ 44 57.765625 41.59375 60.078125 \nQ 39.203125 62.40625 34.8125 62.40625 \nQ 30.328125 62.40625 27.90625 60.0625 \nQ 25.484375 57.71875 25.484375 53.421875 \nz\n\" id=\"DejaVuSans-Bold-56\"/>\n       </defs>\n       <use xlink:href=\"#DejaVuSans-Bold-56\"/>\n       <use x=\"69.580078\" xlink:href=\"#DejaVuSans-Bold-48\"/>\n      </g>\n     </g>\n    </g>\n   </g>\n   <g id=\"matplotlib.axis_2\">\n    <g id=\"ytick_1\">\n     <g id=\"line2d_9\">\n      <path clip-path=\"url(#pe5fe2d0fb3)\" d=\"M 47.314375 102.116303 \nL 382.114375 102.116303 \n\" style=\"fill:none;stroke:#ffffff;stroke-linecap:round;\"/>\n     </g>\n     <g id=\"text_9\">\n      <!-- 0 -->\n      <g style=\"fill:#262626;\" transform=\"translate(30.160781 106.295443)scale(0.11 -0.11)\">\n       <use xlink:href=\"#DejaVuSans-Bold-48\"/>\n      </g>\n     </g>\n    </g>\n    <g id=\"ytick_2\">\n     <g id=\"line2d_10\">\n      <path clip-path=\"url(#pe5fe2d0fb3)\" d=\"M 47.314375 68.66048 \nL 382.114375 68.66048 \n\" style=\"fill:none;stroke:#ffffff;stroke-linecap:round;\"/>\n     </g>\n     <g id=\"text_10\">\n      <!-- 500 -->\n      <g style=\"fill:#262626;\" transform=\"translate(14.853594 72.839621)scale(0.11 -0.11)\">\n       <use xlink:href=\"#DejaVuSans-Bold-53\"/>\n       <use x=\"69.580078\" xlink:href=\"#DejaVuSans-Bold-48\"/>\n       <use x=\"139.160156\" xlink:href=\"#DejaVuSans-Bold-48\"/>\n      </g>\n     </g>\n    </g>\n    <g id=\"ytick_3\">\n     <g id=\"line2d_11\">\n      <path clip-path=\"url(#pe5fe2d0fb3)\" d=\"M 47.314375 35.204658 \nL 382.114375 35.204658 \n\" style=\"fill:none;stroke:#ffffff;stroke-linecap:round;\"/>\n     </g>\n     <g id=\"text_11\">\n      <!-- 1000 -->\n      <g style=\"fill:#262626;\" transform=\"translate(7.2 39.383799)scale(0.11 -0.11)\">\n       <use xlink:href=\"#DejaVuSans-Bold-49\"/>\n       <use x=\"69.580078\" xlink:href=\"#DejaVuSans-Bold-48\"/>\n       <use x=\"139.160156\" xlink:href=\"#DejaVuSans-Bold-48\"/>\n       <use x=\"208.740234\" xlink:href=\"#DejaVuSans-Bold-48\"/>\n      </g>\n     </g>\n    </g>\n   </g>\n   <g id=\"PathCollection_1\">\n    <defs>\n     <path d=\"M 0 3 \nC 0.795609 3 1.55874 2.683901 2.12132 2.12132 \nC 2.683901 1.55874 3 0.795609 3 0 \nC 3 -0.795609 2.683901 -1.55874 2.12132 -2.12132 \nC 1.55874 -2.683901 0.795609 -3 0 -3 \nC -0.795609 -3 -1.55874 -2.683901 -2.12132 -2.12132 \nC -2.683901 -1.55874 -3 -0.795609 -3 0 \nC -3 0.795609 -2.683901 1.55874 -2.12132 2.12132 \nC -1.55874 2.683901 -0.795609 3 0 3 \nz\n\" id=\"m4a09fee7b9\" style=\"stroke:#4c72b0;\"/>\n    </defs>\n    <g clip-path=\"url(#pe5fe2d0fb3)\">\n     <use style=\"fill:#4c72b0;stroke:#4c72b0;\" x=\"62.532557\" xlink:href=\"#m4a09fee7b9\" y=\"99.023461\"/>\n     <use style=\"fill:#4c72b0;stroke:#4c72b0;\" x=\"62.532557\" xlink:href=\"#m4a09fee7b9\" y=\"100.799354\"/>\n     <use style=\"fill:#4c72b0;stroke:#4c72b0;\" x=\"62.532557\" xlink:href=\"#m4a09fee7b9\" y=\"101.32162\"/>\n     <use style=\"fill:#4c72b0;stroke:#4c72b0;\" x=\"62.532557\" xlink:href=\"#m4a09fee7b9\" y=\"100.508572\"/>\n     <use style=\"fill:#4c72b0;stroke:#4c72b0;\" x=\"62.532557\" xlink:href=\"#m4a09fee7b9\" y=\"101.543802\"/>\n     <use style=\"fill:#4c72b0;stroke:#4c72b0;\" x=\"62.532557\" xlink:href=\"#m4a09fee7b9\" y=\"101.103427\"/>\n     <use style=\"fill:#4c72b0;stroke:#4c72b0;\" x=\"62.532557\" xlink:href=\"#m4a09fee7b9\" y=\"100.732899\"/>\n     <use style=\"fill:#4c72b0;stroke:#4c72b0;\" x=\"106.013076\" xlink:href=\"#m4a09fee7b9\" y=\"100.766216\"/>\n     <use style=\"fill:#4c72b0;stroke:#4c72b0;\" x=\"106.013076\" xlink:href=\"#m4a09fee7b9\" y=\"100.763366\"/>\n     <use style=\"fill:#4c72b0;stroke:#4c72b0;\" x=\"106.013076\" xlink:href=\"#m4a09fee7b9\" y=\"101.309844\"/>\n     <use style=\"fill:#4c72b0;stroke:#4c72b0;\" x=\"106.013076\" xlink:href=\"#m4a09fee7b9\" y=\"101.39689\"/>\n     <use style=\"fill:#4c72b0;stroke:#4c72b0;\" x=\"106.013076\" xlink:href=\"#m4a09fee7b9\" y=\"101.373126\"/>\n     <use style=\"fill:#4c72b0;stroke:#4c72b0;\" x=\"106.013076\" xlink:href=\"#m4a09fee7b9\" y=\"101.436642\"/>\n     <use style=\"fill:#4c72b0;stroke:#4c72b0;\" x=\"106.013076\" xlink:href=\"#m4a09fee7b9\" y=\"100.71399\"/>\n     <use style=\"fill:#4c72b0;stroke:#4c72b0;\" x=\"149.493596\" xlink:href=\"#m4a09fee7b9\" y=\"100.881675\"/>\n     <use style=\"fill:#4c72b0;stroke:#4c72b0;\" x=\"149.493596\" xlink:href=\"#m4a09fee7b9\" y=\"100.391552\"/>\n     <use style=\"fill:#4c72b0;stroke:#4c72b0;\" x=\"149.493596\" xlink:href=\"#m4a09fee7b9\" y=\"100.801044\"/>\n     <use style=\"fill:#4c72b0;stroke:#4c72b0;\" x=\"149.493596\" xlink:href=\"#m4a09fee7b9\" y=\"101.422886\"/>\n     <use style=\"fill:#4c72b0;stroke:#4c72b0;\" x=\"149.493596\" xlink:href=\"#m4a09fee7b9\" y=\"101.254011\"/>\n     <use style=\"fill:#4c72b0;stroke:#4c72b0;\" x=\"149.493596\" xlink:href=\"#m4a09fee7b9\" y=\"101.436642\"/>\n     <use style=\"fill:#4c72b0;stroke:#4c72b0;\" x=\"149.493596\" xlink:href=\"#m4a09fee7b9\" y=\"100.788768\"/>\n     <use style=\"fill:#4c72b0;stroke:#4c72b0;\" x=\"192.974115\" xlink:href=\"#m4a09fee7b9\" y=\"100.947716\"/>\n     <use style=\"fill:#4c72b0;stroke:#4c72b0;\" x=\"192.974115\" xlink:href=\"#m4a09fee7b9\" y=\"100.113107\"/>\n     <use style=\"fill:#4c72b0;stroke:#4c72b0;\" x=\"192.974115\" xlink:href=\"#m4a09fee7b9\" y=\"100.829666\"/>\n     <use style=\"fill:#4c72b0;stroke:#4c72b0;\" x=\"192.974115\" xlink:href=\"#m4a09fee7b9\" y=\"99.074255\"/>\n     <use style=\"fill:#4c72b0;stroke:#4c72b0;\" x=\"192.974115\" xlink:href=\"#m4a09fee7b9\" y=\"100.730823\"/>\n     <use style=\"fill:#4c72b0;stroke:#4c72b0;\" x=\"192.974115\" xlink:href=\"#m4a09fee7b9\" y=\"100.582076\"/>\n     <use style=\"fill:#4c72b0;stroke:#4c72b0;\" x=\"192.974115\" xlink:href=\"#m4a09fee7b9\" y=\"99.886714\"/>\n     <use style=\"fill:#4c72b0;stroke:#4c72b0;\" x=\"279.935154\" xlink:href=\"#m4a09fee7b9\" y=\"98.798692\"/>\n     <use style=\"fill:#4c72b0;stroke:#4c72b0;\" x=\"279.935154\" xlink:href=\"#m4a09fee7b9\" y=\"95.576545\"/>\n     <use style=\"fill:#4c72b0;stroke:#4c72b0;\" x=\"279.935154\" xlink:href=\"#m4a09fee7b9\" y=\"96.962608\"/>\n     <use style=\"fill:#4c72b0;stroke:#4c72b0;\" x=\"279.935154\" xlink:href=\"#m4a09fee7b9\" y=\"99.074255\"/>\n     <use style=\"fill:#4c72b0;stroke:#4c72b0;\" x=\"279.935154\" xlink:href=\"#m4a09fee7b9\" y=\"98.108897\"/>\n     <use style=\"fill:#4c72b0;stroke:#4c72b0;\" x=\"279.935154\" xlink:href=\"#m4a09fee7b9\" y=\"96.388775\"/>\n     <use style=\"fill:#4c72b0;stroke:#4c72b0;\" x=\"279.935154\" xlink:href=\"#m4a09fee7b9\" y=\"89.923476\"/>\n     <use style=\"fill:#4c72b0;stroke:#4c72b0;\" x=\"366.896193\" xlink:href=\"#m4a09fee7b9\" y=\"76.984257\"/>\n     <use style=\"fill:#4c72b0;stroke:#4c72b0;\" x=\"366.896193\" xlink:href=\"#m4a09fee7b9\" y=\"83.766264\"/>\n     <use style=\"fill:#4c72b0;stroke:#4c72b0;\" x=\"366.896193\" xlink:href=\"#m4a09fee7b9\" y=\"78.361584\"/>\n     <use style=\"fill:#4c72b0;stroke:#4c72b0;\" x=\"366.896193\" xlink:href=\"#m4a09fee7b9\" y=\"69.322852\"/>\n     <use style=\"fill:#4c72b0;stroke:#4c72b0;\" x=\"366.896193\" xlink:href=\"#m4a09fee7b9\" y=\"82.713441\"/>\n     <use style=\"fill:#4c72b0;stroke:#4c72b0;\" x=\"366.896193\" xlink:href=\"#m4a09fee7b9\" y=\"11.692562\"/>\n     <use style=\"fill:#4c72b0;stroke:#4c72b0;\" x=\"366.896193\" xlink:href=\"#m4a09fee7b9\" y=\"61.101035\"/>\n    </g>\n   </g>\n   <g id=\"patch_3\">\n    <path d=\"M 47.314375 106.036364 \nL 47.314375 7.2 \n\" style=\"fill:none;stroke:#ffffff;stroke-linecap:square;stroke-linejoin:miter;stroke-width:1.25;\"/>\n   </g>\n   <g id=\"patch_4\">\n    <path d=\"M 382.114375 106.036364 \nL 382.114375 7.2 \n\" style=\"fill:none;stroke:#ffffff;stroke-linecap:square;stroke-linejoin:miter;stroke-width:1.25;\"/>\n   </g>\n   <g id=\"patch_5\">\n    <path d=\"M 47.314375 106.036364 \nL 382.114375 106.036364 \n\" style=\"fill:none;stroke:#ffffff;stroke-linecap:square;stroke-linejoin:miter;stroke-width:1.25;\"/>\n   </g>\n   <g id=\"patch_6\">\n    <path d=\"M 47.314375 7.2 \nL 382.114375 7.2 \n\" style=\"fill:none;stroke:#ffffff;stroke-linecap:square;stroke-linejoin:miter;stroke-width:1.25;\"/>\n   </g>\n  </g>\n  <g id=\"axes_2\">\n   <g id=\"patch_7\">\n    <path d=\"M 47.314375 224.64 \nL 382.114375 224.64 \nL 382.114375 125.803636 \nL 47.314375 125.803636 \nz\n\" style=\"fill:#eaeaf2;\"/>\n   </g>\n   <g id=\"matplotlib.axis_3\">\n    <g id=\"xtick_9\">\n     <g id=\"line2d_12\">\n      <path clip-path=\"url(#pbc08ed921e)\" d=\"M 62.532557 224.64 \nL 62.532557 125.803636 \n\" style=\"fill:none;stroke:#ffffff;stroke-linecap:round;\"/>\n     </g>\n     <g id=\"text_12\">\n      <!-- 10 -->\n      <g style=\"fill:#262626;\" transform=\"translate(54.878963 242.498281)scale(0.11 -0.11)\">\n       <use xlink:href=\"#DejaVuSans-Bold-49\"/>\n       <use x=\"69.580078\" xlink:href=\"#DejaVuSans-Bold-48\"/>\n      </g>\n     </g>\n    </g>\n    <g id=\"xtick_10\">\n     <g id=\"line2d_13\">\n      <path clip-path=\"url(#pbc08ed921e)\" d=\"M 106.013076 224.64 \nL 106.013076 125.803636 \n\" style=\"fill:none;stroke:#ffffff;stroke-linecap:round;\"/>\n     </g>\n     <g id=\"text_13\">\n      <!-- 20 -->\n      <g style=\"fill:#262626;\" transform=\"translate(98.359483 242.498281)scale(0.11 -0.11)\">\n       <use xlink:href=\"#DejaVuSans-Bold-50\"/>\n       <use x=\"69.580078\" xlink:href=\"#DejaVuSans-Bold-48\"/>\n      </g>\n     </g>\n    </g>\n    <g id=\"xtick_11\">\n     <g id=\"line2d_14\">\n      <path clip-path=\"url(#pbc08ed921e)\" d=\"M 149.493596 224.64 \nL 149.493596 125.803636 \n\" style=\"fill:none;stroke:#ffffff;stroke-linecap:round;\"/>\n     </g>\n     <g id=\"text_14\">\n      <!-- 30 -->\n      <g style=\"fill:#262626;\" transform=\"translate(141.840002 242.498281)scale(0.11 -0.11)\">\n       <use xlink:href=\"#DejaVuSans-Bold-51\"/>\n       <use x=\"69.580078\" xlink:href=\"#DejaVuSans-Bold-48\"/>\n      </g>\n     </g>\n    </g>\n    <g id=\"xtick_12\">\n     <g id=\"line2d_15\">\n      <path clip-path=\"url(#pbc08ed921e)\" d=\"M 192.974115 224.64 \nL 192.974115 125.803636 \n\" style=\"fill:none;stroke:#ffffff;stroke-linecap:round;\"/>\n     </g>\n     <g id=\"text_15\">\n      <!-- 40 -->\n      <g style=\"fill:#262626;\" transform=\"translate(185.320522 242.498281)scale(0.11 -0.11)\">\n       <use xlink:href=\"#DejaVuSans-Bold-52\"/>\n       <use x=\"69.580078\" xlink:href=\"#DejaVuSans-Bold-48\"/>\n      </g>\n     </g>\n    </g>\n    <g id=\"xtick_13\">\n     <g id=\"line2d_16\">\n      <path clip-path=\"url(#pbc08ed921e)\" d=\"M 236.454635 224.64 \nL 236.454635 125.803636 \n\" style=\"fill:none;stroke:#ffffff;stroke-linecap:round;\"/>\n     </g>\n     <g id=\"text_16\">\n      <!-- 50 -->\n      <g style=\"fill:#262626;\" transform=\"translate(228.801041 242.498281)scale(0.11 -0.11)\">\n       <use xlink:href=\"#DejaVuSans-Bold-53\"/>\n       <use x=\"69.580078\" xlink:href=\"#DejaVuSans-Bold-48\"/>\n      </g>\n     </g>\n    </g>\n    <g id=\"xtick_14\">\n     <g id=\"line2d_17\">\n      <path clip-path=\"url(#pbc08ed921e)\" d=\"M 279.935154 224.64 \nL 279.935154 125.803636 \n\" style=\"fill:none;stroke:#ffffff;stroke-linecap:round;\"/>\n     </g>\n     <g id=\"text_17\">\n      <!-- 60 -->\n      <g style=\"fill:#262626;\" transform=\"translate(272.28156 242.498281)scale(0.11 -0.11)\">\n       <use xlink:href=\"#DejaVuSans-Bold-54\"/>\n       <use x=\"69.580078\" xlink:href=\"#DejaVuSans-Bold-48\"/>\n      </g>\n     </g>\n    </g>\n    <g id=\"xtick_15\">\n     <g id=\"line2d_18\">\n      <path clip-path=\"url(#pbc08ed921e)\" d=\"M 323.415674 224.64 \nL 323.415674 125.803636 \n\" style=\"fill:none;stroke:#ffffff;stroke-linecap:round;\"/>\n     </g>\n     <g id=\"text_18\">\n      <!-- 70 -->\n      <g style=\"fill:#262626;\" transform=\"translate(315.76208 242.498281)scale(0.11 -0.11)\">\n       <use xlink:href=\"#DejaVuSans-Bold-55\"/>\n       <use x=\"69.580078\" xlink:href=\"#DejaVuSans-Bold-48\"/>\n      </g>\n     </g>\n    </g>\n    <g id=\"xtick_16\">\n     <g id=\"line2d_19\">\n      <path clip-path=\"url(#pbc08ed921e)\" d=\"M 366.896193 224.64 \nL 366.896193 125.803636 \n\" style=\"fill:none;stroke:#ffffff;stroke-linecap:round;\"/>\n     </g>\n     <g id=\"text_19\">\n      <!-- 80 -->\n      <g style=\"fill:#262626;\" transform=\"translate(359.242599 242.498281)scale(0.11 -0.11)\">\n       <use xlink:href=\"#DejaVuSans-Bold-56\"/>\n       <use x=\"69.580078\" xlink:href=\"#DejaVuSans-Bold-48\"/>\n      </g>\n     </g>\n    </g>\n   </g>\n   <g id=\"matplotlib.axis_4\">\n    <g id=\"ytick_4\">\n     <g id=\"line2d_20\">\n      <path clip-path=\"url(#pbc08ed921e)\" d=\"M 47.314375 200.720474 \nL 382.114375 200.720474 \n\" style=\"fill:none;stroke:#ffffff;stroke-linecap:round;\"/>\n     </g>\n     <g id=\"text_20\">\n      <!-- 200 -->\n      <g style=\"fill:#262626;\" transform=\"translate(14.853594 204.899615)scale(0.11 -0.11)\">\n       <use xlink:href=\"#DejaVuSans-Bold-50\"/>\n       <use x=\"69.580078\" xlink:href=\"#DejaVuSans-Bold-48\"/>\n       <use x=\"139.160156\" xlink:href=\"#DejaVuSans-Bold-48\"/>\n      </g>\n     </g>\n    </g>\n    <g id=\"ytick_5\">\n     <g id=\"line2d_21\">\n      <path clip-path=\"url(#pbc08ed921e)\" d=\"M 47.314375 173.070118 \nL 382.114375 173.070118 \n\" style=\"fill:none;stroke:#ffffff;stroke-linecap:round;\"/>\n     </g>\n     <g id=\"text_21\">\n      <!-- 400 -->\n      <g style=\"fill:#262626;\" transform=\"translate(14.853594 177.249259)scale(0.11 -0.11)\">\n       <use xlink:href=\"#DejaVuSans-Bold-52\"/>\n       <use x=\"69.580078\" xlink:href=\"#DejaVuSans-Bold-48\"/>\n       <use x=\"139.160156\" xlink:href=\"#DejaVuSans-Bold-48\"/>\n      </g>\n     </g>\n    </g>\n    <g id=\"ytick_6\">\n     <g id=\"line2d_22\">\n      <path clip-path=\"url(#pbc08ed921e)\" d=\"M 47.314375 145.419762 \nL 382.114375 145.419762 \n\" style=\"fill:none;stroke:#ffffff;stroke-linecap:round;\"/>\n     </g>\n     <g id=\"text_22\">\n      <!-- 600 -->\n      <g style=\"fill:#262626;\" transform=\"translate(14.853594 149.598903)scale(0.11 -0.11)\">\n       <use xlink:href=\"#DejaVuSans-Bold-54\"/>\n       <use x=\"69.580078\" xlink:href=\"#DejaVuSans-Bold-48\"/>\n       <use x=\"139.160156\" xlink:href=\"#DejaVuSans-Bold-48\"/>\n      </g>\n     </g>\n    </g>\n   </g>\n   <g id=\"PathCollection_2\">\n    <defs>\n     <path d=\"M 0 3 \nC 0.795609 3 1.55874 2.683901 2.12132 2.12132 \nC 2.683901 1.55874 3 0.795609 3 0 \nC 3 -0.795609 2.683901 -1.55874 2.12132 -2.12132 \nC 1.55874 -2.683901 0.795609 -3 0 -3 \nC -0.795609 -3 -1.55874 -2.683901 -2.12132 -2.12132 \nC -2.683901 -1.55874 -3 -0.795609 -3 0 \nC -3 0.795609 -2.683901 1.55874 -2.12132 2.12132 \nC -1.55874 2.683901 -0.795609 3 0 3 \nz\n\" id=\"m5df952b8d5\" style=\"stroke:#008000;\"/>\n    </defs>\n    <g clip-path=\"url(#pbc08ed921e)\">\n     <use style=\"fill:#008000;stroke:#008000;\" x=\"62.532557\" xlink:href=\"#m5df952b8d5\" y=\"212.354368\"/>\n     <use style=\"fill:#008000;stroke:#008000;\" x=\"62.532557\" xlink:href=\"#m5df952b8d5\" y=\"212.288407\"/>\n     <use style=\"fill:#008000;stroke:#008000;\" x=\"62.532557\" xlink:href=\"#m5df952b8d5\" y=\"214.186543\"/>\n     <use style=\"fill:#008000;stroke:#008000;\" x=\"62.532557\" xlink:href=\"#m5df952b8d5\" y=\"213.999626\"/>\n     <use style=\"fill:#008000;stroke:#008000;\" x=\"62.532557\" xlink:href=\"#m5df952b8d5\" y=\"216.243449\"/>\n     <use style=\"fill:#008000;stroke:#008000;\" x=\"62.532557\" xlink:href=\"#m5df952b8d5\" y=\"217.378584\"/>\n     <use style=\"fill:#008000;stroke:#008000;\" x=\"62.532557\" xlink:href=\"#m5df952b8d5\" y=\"219.303234\"/>\n     <use style=\"fill:#008000;stroke:#008000;\" x=\"106.013076\" xlink:href=\"#m5df952b8d5\" y=\"215.497744\"/>\n     <use style=\"fill:#008000;stroke:#008000;\" x=\"106.013076\" xlink:href=\"#m5df952b8d5\" y=\"214.601852\"/>\n     <use style=\"fill:#008000;stroke:#008000;\" x=\"106.013076\" xlink:href=\"#m5df952b8d5\" y=\"217.95376\"/>\n     <use style=\"fill:#008000;stroke:#008000;\" x=\"106.013076\" xlink:href=\"#m5df952b8d5\" y=\"216.40347\"/>\n     <use style=\"fill:#008000;stroke:#008000;\" x=\"106.013076\" xlink:href=\"#m5df952b8d5\" y=\"216.285249\"/>\n     <use style=\"fill:#008000;stroke:#008000;\" x=\"106.013076\" xlink:href=\"#m5df952b8d5\" y=\"219.939711\"/>\n     <use style=\"fill:#008000;stroke:#008000;\" x=\"106.013076\" xlink:href=\"#m5df952b8d5\" y=\"219.524186\"/>\n     <use style=\"fill:#008000;stroke:#008000;\" x=\"149.493596\" xlink:href=\"#m5df952b8d5\" y=\"219.298599\"/>\n     <use style=\"fill:#008000;stroke:#008000;\" x=\"149.493596\" xlink:href=\"#m5df952b8d5\" y=\"214.186675\"/>\n     <use style=\"fill:#008000;stroke:#008000;\" x=\"149.493596\" xlink:href=\"#m5df952b8d5\" y=\"217.579528\"/>\n     <use style=\"fill:#008000;stroke:#008000;\" x=\"149.493596\" xlink:href=\"#m5df952b8d5\" y=\"216.679422\"/>\n     <use style=\"fill:#008000;stroke:#008000;\" x=\"149.493596\" xlink:href=\"#m5df952b8d5\" y=\"216.354261\"/>\n     <use style=\"fill:#008000;stroke:#008000;\" x=\"149.493596\" xlink:href=\"#m5df952b8d5\" y=\"219.939711\"/>\n     <use style=\"fill:#008000;stroke:#008000;\" x=\"149.493596\" xlink:href=\"#m5df952b8d5\" y=\"220.147438\"/>\n     <use style=\"fill:#008000;stroke:#008000;\" x=\"192.974115\" xlink:href=\"#m5df952b8d5\" y=\"219.114986\"/>\n     <use style=\"fill:#008000;stroke:#008000;\" x=\"192.974115\" xlink:href=\"#m5df952b8d5\" y=\"216.035235\"/>\n     <use style=\"fill:#008000;stroke:#008000;\" x=\"192.974115\" xlink:href=\"#m5df952b8d5\" y=\"217.750057\"/>\n     <use style=\"fill:#008000;stroke:#008000;\" x=\"192.974115\" xlink:href=\"#m5df952b8d5\" y=\"215.294916\"/>\n     <use style=\"fill:#008000;stroke:#008000;\" x=\"192.974115\" xlink:href=\"#m5df952b8d5\" y=\"215.039342\"/>\n     <use style=\"fill:#008000;stroke:#008000;\" x=\"192.974115\" xlink:href=\"#m5df952b8d5\" y=\"219.136449\"/>\n     <use style=\"fill:#008000;stroke:#008000;\" x=\"192.974115\" xlink:href=\"#m5df952b8d5\" y=\"218.486356\"/>\n     <use style=\"fill:#008000;stroke:#008000;\" x=\"279.935154\" xlink:href=\"#m5df952b8d5\" y=\"217.101085\"/>\n     <use style=\"fill:#008000;stroke:#008000;\" x=\"279.935154\" xlink:href=\"#m5df952b8d5\" y=\"203.727399\"/>\n     <use style=\"fill:#008000;stroke:#008000;\" x=\"279.935154\" xlink:href=\"#m5df952b8d5\" y=\"212.592455\"/>\n     <use style=\"fill:#008000;stroke:#008000;\" x=\"279.935154\" xlink:href=\"#m5df952b8d5\" y=\"215.294916\"/>\n     <use style=\"fill:#008000;stroke:#008000;\" x=\"279.935154\" xlink:href=\"#m5df952b8d5\" y=\"209.045496\"/>\n     <use style=\"fill:#008000;stroke:#008000;\" x=\"279.935154\" xlink:href=\"#m5df952b8d5\" y=\"215.786777\"/>\n     <use style=\"fill:#008000;stroke:#008000;\" x=\"279.935154\" xlink:href=\"#m5df952b8d5\" y=\"203.854073\"/>\n     <use style=\"fill:#008000;stroke:#008000;\" x=\"366.896193\" xlink:href=\"#m5df952b8d5\" y=\"191.373884\"/>\n     <use style=\"fill:#008000;stroke:#008000;\" x=\"366.896193\" xlink:href=\"#m5df952b8d5\" y=\"176.802335\"/>\n     <use style=\"fill:#008000;stroke:#008000;\" x=\"366.896193\" xlink:href=\"#m5df952b8d5\" y=\"130.296198\"/>\n     <use style=\"fill:#008000;stroke:#008000;\" x=\"366.896193\" xlink:href=\"#m5df952b8d5\" y=\"163.961059\"/>\n     <use style=\"fill:#008000;stroke:#008000;\" x=\"366.896193\" xlink:href=\"#m5df952b8d5\" y=\"173.137007\"/>\n     <use style=\"fill:#008000;stroke:#008000;\" x=\"366.896193\" xlink:href=\"#m5df952b8d5\" y=\"133.229233\"/>\n     <use style=\"fill:#008000;stroke:#008000;\" x=\"366.896193\" xlink:href=\"#m5df952b8d5\" y=\"150.089409\"/>\n    </g>\n   </g>\n   <g id=\"patch_8\">\n    <path d=\"M 47.314375 224.64 \nL 47.314375 125.803636 \n\" style=\"fill:none;stroke:#ffffff;stroke-linecap:square;stroke-linejoin:miter;stroke-width:1.25;\"/>\n   </g>\n   <g id=\"patch_9\">\n    <path d=\"M 382.114375 224.64 \nL 382.114375 125.803636 \n\" style=\"fill:none;stroke:#ffffff;stroke-linecap:square;stroke-linejoin:miter;stroke-width:1.25;\"/>\n   </g>\n   <g id=\"patch_10\">\n    <path d=\"M 47.314375 224.64 \nL 382.114375 224.64 \n\" style=\"fill:none;stroke:#ffffff;stroke-linecap:square;stroke-linejoin:miter;stroke-width:1.25;\"/>\n   </g>\n   <g id=\"patch_11\">\n    <path d=\"M 47.314375 125.803636 \nL 382.114375 125.803636 \n\" style=\"fill:none;stroke:#ffffff;stroke-linecap:square;stroke-linejoin:miter;stroke-width:1.25;\"/>\n   </g>\n  </g>\n </g>\n <defs>\n  <clipPath id=\"pe5fe2d0fb3\">\n   <rect height=\"98.836364\" width=\"334.8\" x=\"47.314375\" y=\"7.2\"/>\n  </clipPath>\n  <clipPath id=\"pbc08ed921e\">\n   <rect height=\"98.836364\" width=\"334.8\" x=\"47.314375\" y=\"125.803636\"/>\n  </clipPath>\n </defs>\n</svg>\n"
     },
     "metadata": {}
    }
   ],
   "source": [
    "threshold_list2 = list(stimuli_df.threshold)\n",
    "tdr_list2 = list(stimuli_df.tdr)\n",
    "navigation_time_list2=list(stimuli_df.navigation_time)\n",
    "fig, (ax1,ax2) = plt.subplots(2,1)\n",
    "\n",
    "ax1.scatter(threshold_list2,tdr_list2)\n",
    "ax2.scatter(threshold_list2,navigation_time_list2,c='green')\n",
    "# plt.savefig(dir_path +'results/'+ stimuli[0]+'.png',bbox_inches='tight')"
   ]
  },
  {
   "cell_type": "code",
   "execution_count": 42,
   "metadata": {},
   "outputs": [
    {
     "output_type": "execute_result",
     "data": {
      "text/plain": "<AxesSubplot:>"
     },
     "metadata": {},
     "execution_count": 42
    },
    {
     "output_type": "display_data",
     "data": {
      "image/png": "[encoded data removed]",
      "text/plain": "<Figure size 432x288 with 1 Axes>",
      "image/svg+xml": "<?xml version=\"1.0\" encoding=\"utf-8\" standalone=\"no\"?>\n<!DOCTYPE svg PUBLIC \"-//W3C//DTD SVG 1.1//EN\"\n  \"http://www.w3.org/Graphics/SVG/1.1/DTD/svg11.dtd\">\n<!-- Created with matplotlib (https://matplotlib.org/) -->\n<svg height=\"253.437077pt\" version=\"1.1\" viewBox=\"0 0 389.314375 253.437077\" width=\"389.314375pt\" xmlns=\"http://www.w3.org/2000/svg\" xmlns:xlink=\"http://www.w3.org/1999/xlink\">\n <metadata>\n  <rdf:RDF xmlns:cc=\"http://creativecommons.org/ns#\" xmlns:dc=\"http://purl.org/dc/elements/1.1/\" xmlns:rdf=\"http://www.w3.org/1999/02/22-rdf-syntax-ns#\">\n   <cc:Work>\n    <dc:type rdf:resource=\"http://purl.org/dc/dcmitype/StillImage\"/>\n    <dc:date>2021-01-12T15:03:44.649231</dc:date>\n    <dc:format>image/svg+xml</dc:format>\n    <dc:creator>\n     <cc:Agent>\n      <dc:title>Matplotlib v3.3.3, https://matplotlib.org/</dc:title>\n     </cc:Agent>\n    </dc:creator>\n   </cc:Work>\n  </rdf:RDF>\n </metadata>\n <defs>\n  <style type=\"text/css\">*{stroke-linecap:butt;stroke-linejoin:round;}</style>\n </defs>\n <g id=\"figure_1\">\n  <g id=\"patch_1\">\n   <path d=\"M 0 253.437077 \nL 389.314375 253.437077 \nL 389.314375 0 \nL 0 0 \nz\n\" style=\"fill:#ffffff;\"/>\n  </g>\n  <g id=\"axes_1\">\n   <g id=\"patch_2\">\n    <path d=\"M 47.314375 226.09114 \nL 382.114375 226.09114 \nL 382.114375 8.65114 \nL 47.314375 8.65114 \nz\n\" style=\"fill:#eaeaf2;\"/>\n   </g>\n   <g id=\"matplotlib.axis_1\">\n    <g id=\"xtick_1\">\n     <g id=\"text_1\">\n      <!-- 10 -->\n      <g style=\"fill:#262626;\" transform=\"translate(67.560781 243.949421)scale(0.11 -0.11)\">\n       <defs>\n        <path d=\"M 11.71875 12.984375 \nL 28.328125 12.984375 \nL 28.328125 60.109375 \nL 11.28125 56.59375 \nL 11.28125 69.390625 \nL 28.21875 72.90625 \nL 46.09375 72.90625 \nL 46.09375 12.984375 \nL 62.703125 12.984375 \nL 62.703125 0 \nL 11.71875 0 \nz\n\" id=\"DejaVuSans-Bold-49\"/>\n        <path d=\"M 46 36.53125 \nQ 46 50.203125 43.4375 55.78125 \nQ 40.875 61.375 34.8125 61.375 \nQ 28.765625 61.375 26.171875 55.78125 \nQ 23.578125 50.203125 23.578125 36.53125 \nQ 23.578125 22.703125 26.171875 17.03125 \nQ 28.765625 11.375 34.8125 11.375 \nQ 40.828125 11.375 43.40625 17.03125 \nQ 46 22.703125 46 36.53125 \nz\nM 64.796875 36.375 \nQ 64.796875 18.265625 56.984375 8.421875 \nQ 49.171875 -1.421875 34.8125 -1.421875 \nQ 20.40625 -1.421875 12.59375 8.421875 \nQ 4.78125 18.265625 4.78125 36.375 \nQ 4.78125 54.546875 12.59375 64.375 \nQ 20.40625 74.21875 34.8125 74.21875 \nQ 49.171875 74.21875 56.984375 64.375 \nQ 64.796875 54.546875 64.796875 36.375 \nz\n\" id=\"DejaVuSans-Bold-48\"/>\n       </defs>\n       <use xlink:href=\"#DejaVuSans-Bold-49\"/>\n       <use x=\"69.580078\" xlink:href=\"#DejaVuSans-Bold-48\"/>\n      </g>\n     </g>\n    </g>\n    <g id=\"xtick_2\">\n     <g id=\"text_2\">\n      <!-- 20 -->\n      <g style=\"fill:#262626;\" transform=\"translate(123.360781 243.949421)scale(0.11 -0.11)\">\n       <defs>\n        <path d=\"M 28.8125 13.8125 \nL 60.890625 13.8125 \nL 60.890625 0 \nL 7.90625 0 \nL 7.90625 13.8125 \nL 34.515625 37.3125 \nQ 38.09375 40.53125 39.796875 43.609375 \nQ 41.5 46.6875 41.5 50 \nQ 41.5 55.125 38.0625 58.25 \nQ 34.625 61.375 28.90625 61.375 \nQ 24.515625 61.375 19.28125 59.5 \nQ 14.0625 57.625 8.109375 53.90625 \nL 8.109375 69.921875 \nQ 14.453125 72.015625 20.65625 73.109375 \nQ 26.859375 74.21875 32.8125 74.21875 \nQ 45.90625 74.21875 53.15625 68.453125 \nQ 60.40625 62.703125 60.40625 52.390625 \nQ 60.40625 46.4375 57.328125 41.28125 \nQ 54.25 36.140625 44.390625 27.484375 \nz\n\" id=\"DejaVuSans-Bold-50\"/>\n       </defs>\n       <use xlink:href=\"#DejaVuSans-Bold-50\"/>\n       <use x=\"69.580078\" xlink:href=\"#DejaVuSans-Bold-48\"/>\n      </g>\n     </g>\n    </g>\n    <g id=\"xtick_3\">\n     <g id=\"text_3\">\n      <!-- 30 -->\n      <g style=\"fill:#262626;\" transform=\"translate(179.160781 243.949421)scale(0.11 -0.11)\">\n       <defs>\n        <path d=\"M 46.578125 39.3125 \nQ 53.953125 37.40625 57.78125 32.6875 \nQ 61.625 27.984375 61.625 20.703125 \nQ 61.625 9.859375 53.3125 4.21875 \nQ 45.015625 -1.421875 29.109375 -1.421875 \nQ 23.484375 -1.421875 17.84375 -0.515625 \nQ 12.203125 0.390625 6.6875 2.203125 \nL 6.6875 16.703125 \nQ 11.96875 14.0625 17.15625 12.71875 \nQ 22.359375 11.375 27.390625 11.375 \nQ 34.859375 11.375 38.84375 13.953125 \nQ 42.828125 16.546875 42.828125 21.390625 \nQ 42.828125 26.375 38.75 28.9375 \nQ 34.671875 31.5 26.703125 31.5 \nL 19.1875 31.5 \nL 19.1875 43.609375 \nL 27.09375 43.609375 \nQ 34.1875 43.609375 37.640625 45.828125 \nQ 41.109375 48.046875 41.109375 52.59375 \nQ 41.109375 56.78125 37.734375 59.078125 \nQ 34.375 61.375 28.21875 61.375 \nQ 23.6875 61.375 19.046875 60.34375 \nQ 14.40625 59.328125 9.8125 57.328125 \nL 9.8125 71.09375 \nQ 15.375 72.65625 20.84375 73.4375 \nQ 26.3125 74.21875 31.59375 74.21875 \nQ 45.796875 74.21875 52.84375 69.546875 \nQ 59.90625 64.890625 59.90625 55.515625 \nQ 59.90625 49.125 56.53125 45.046875 \nQ 53.171875 40.96875 46.578125 39.3125 \nz\n\" id=\"DejaVuSans-Bold-51\"/>\n       </defs>\n       <use xlink:href=\"#DejaVuSans-Bold-51\"/>\n       <use x=\"69.580078\" xlink:href=\"#DejaVuSans-Bold-48\"/>\n      </g>\n     </g>\n    </g>\n    <g id=\"xtick_4\">\n     <g id=\"text_4\">\n      <!-- 40 -->\n      <g style=\"fill:#262626;\" transform=\"translate(234.960781 243.949421)scale(0.11 -0.11)\">\n       <defs>\n        <path d=\"M 36.8125 57.421875 \nL 16.21875 26.90625 \nL 36.8125 26.90625 \nz\nM 33.6875 72.90625 \nL 54.59375 72.90625 \nL 54.59375 26.90625 \nL 64.984375 26.90625 \nL 64.984375 13.28125 \nL 54.59375 13.28125 \nL 54.59375 0 \nL 36.8125 0 \nL 36.8125 13.28125 \nL 4.5 13.28125 \nL 4.5 29.390625 \nz\n\" id=\"DejaVuSans-Bold-52\"/>\n       </defs>\n       <use xlink:href=\"#DejaVuSans-Bold-52\"/>\n       <use x=\"69.580078\" xlink:href=\"#DejaVuSans-Bold-48\"/>\n      </g>\n     </g>\n    </g>\n    <g id=\"xtick_5\">\n     <g id=\"text_5\">\n      <!-- 60 -->\n      <g style=\"fill:#262626;\" transform=\"translate(290.760781 243.949421)scale(0.11 -0.11)\">\n       <defs>\n        <path d=\"M 36.1875 35.984375 \nQ 31.25 35.984375 28.78125 32.78125 \nQ 26.3125 29.59375 26.3125 23.1875 \nQ 26.3125 16.796875 28.78125 13.59375 \nQ 31.25 10.40625 36.1875 10.40625 \nQ 41.15625 10.40625 43.625 13.59375 \nQ 46.09375 16.796875 46.09375 23.1875 \nQ 46.09375 29.59375 43.625 32.78125 \nQ 41.15625 35.984375 36.1875 35.984375 \nz\nM 59.421875 71 \nL 59.421875 57.515625 \nQ 54.78125 59.71875 50.671875 60.765625 \nQ 46.578125 61.8125 42.671875 61.8125 \nQ 34.28125 61.8125 29.59375 57.140625 \nQ 24.90625 52.484375 24.125 43.3125 \nQ 27.34375 45.703125 31.09375 46.890625 \nQ 34.859375 48.09375 39.3125 48.09375 \nQ 50.484375 48.09375 57.34375 41.546875 \nQ 64.203125 35.015625 64.203125 24.421875 \nQ 64.203125 12.703125 56.53125 5.640625 \nQ 48.875 -1.421875 35.984375 -1.421875 \nQ 21.78125 -1.421875 13.984375 8.171875 \nQ 6.203125 17.78125 6.203125 35.40625 \nQ 6.203125 53.46875 15.3125 63.796875 \nQ 24.421875 74.125 40.28125 74.125 \nQ 45.3125 74.125 50.046875 73.34375 \nQ 54.78125 72.5625 59.421875 71 \nz\n\" id=\"DejaVuSans-Bold-54\"/>\n       </defs>\n       <use xlink:href=\"#DejaVuSans-Bold-54\"/>\n       <use x=\"69.580078\" xlink:href=\"#DejaVuSans-Bold-48\"/>\n      </g>\n     </g>\n    </g>\n    <g id=\"xtick_6\">\n     <g id=\"text_6\">\n      <!-- 80 -->\n      <g style=\"fill:#262626;\" transform=\"translate(346.560781 243.949421)scale(0.11 -0.11)\">\n       <defs>\n        <path d=\"M 34.8125 32.625 \nQ 29.546875 32.625 26.703125 29.734375 \nQ 23.875 26.859375 23.875 21.484375 \nQ 23.875 16.109375 26.703125 13.25 \nQ 29.546875 10.40625 34.8125 10.40625 \nQ 40.046875 10.40625 42.828125 13.25 \nQ 45.609375 16.109375 45.609375 21.484375 \nQ 45.609375 26.90625 42.828125 29.765625 \nQ 40.046875 32.625 34.8125 32.625 \nz\nM 21.09375 38.8125 \nQ 14.453125 40.828125 11.078125 44.96875 \nQ 7.71875 49.125 7.71875 55.328125 \nQ 7.71875 64.546875 14.59375 69.375 \nQ 21.484375 74.21875 34.8125 74.21875 \nQ 48.046875 74.21875 54.921875 69.40625 \nQ 61.8125 64.59375 61.8125 55.328125 \nQ 61.8125 49.125 58.421875 44.96875 \nQ 55.03125 40.828125 48.390625 38.8125 \nQ 55.8125 36.765625 59.59375 32.15625 \nQ 63.375 27.546875 63.375 20.515625 \nQ 63.375 9.671875 56.171875 4.125 \nQ 48.96875 -1.421875 34.8125 -1.421875 \nQ 20.609375 -1.421875 13.359375 4.125 \nQ 6.109375 9.671875 6.109375 20.515625 \nQ 6.109375 27.546875 9.890625 32.15625 \nQ 13.671875 36.765625 21.09375 38.8125 \nz\nM 25.484375 53.421875 \nQ 25.484375 49.078125 27.90625 46.734375 \nQ 30.328125 44.390625 34.8125 44.390625 \nQ 39.203125 44.390625 41.59375 46.734375 \nQ 44 49.078125 44 53.421875 \nQ 44 57.765625 41.59375 60.078125 \nQ 39.203125 62.40625 34.8125 62.40625 \nQ 30.328125 62.40625 27.90625 60.0625 \nQ 25.484375 57.71875 25.484375 53.421875 \nz\n\" id=\"DejaVuSans-Bold-56\"/>\n       </defs>\n       <use xlink:href=\"#DejaVuSans-Bold-56\"/>\n       <use x=\"69.580078\" xlink:href=\"#DejaVuSans-Bold-48\"/>\n      </g>\n     </g>\n    </g>\n   </g>\n   <g id=\"matplotlib.axis_2\">\n    <g id=\"ytick_1\">\n     <g id=\"line2d_1\">\n      <path clip-path=\"url(#paf9a0f59e8)\" d=\"M 47.314375 217.467005 \nL 382.114375 217.467005 \n\" style=\"fill:none;stroke:#ffffff;stroke-linecap:round;\"/>\n     </g>\n     <g id=\"text_7\">\n      <!-- 0 -->\n      <g style=\"fill:#262626;\" transform=\"translate(30.160781 221.646146)scale(0.11 -0.11)\">\n       <use xlink:href=\"#DejaVuSans-Bold-48\"/>\n      </g>\n     </g>\n    </g>\n    <g id=\"ytick_2\">\n     <g id=\"line2d_2\">\n      <path clip-path=\"url(#paf9a0f59e8)\" d=\"M 47.314375 188.025882 \nL 382.114375 188.025882 \n\" style=\"fill:none;stroke:#ffffff;stroke-linecap:round;\"/>\n     </g>\n     <g id=\"text_8\">\n      <!-- 200 -->\n      <g style=\"fill:#262626;\" transform=\"translate(14.853594 192.205023)scale(0.11 -0.11)\">\n       <use xlink:href=\"#DejaVuSans-Bold-50\"/>\n       <use x=\"69.580078\" xlink:href=\"#DejaVuSans-Bold-48\"/>\n       <use x=\"139.160156\" xlink:href=\"#DejaVuSans-Bold-48\"/>\n      </g>\n     </g>\n    </g>\n    <g id=\"ytick_3\">\n     <g id=\"line2d_3\">\n      <path clip-path=\"url(#paf9a0f59e8)\" d=\"M 47.314375 158.584758 \nL 382.114375 158.584758 \n\" style=\"fill:none;stroke:#ffffff;stroke-linecap:round;\"/>\n     </g>\n     <g id=\"text_9\">\n      <!-- 400 -->\n      <g style=\"fill:#262626;\" transform=\"translate(14.853594 162.763899)scale(0.11 -0.11)\">\n       <use xlink:href=\"#DejaVuSans-Bold-52\"/>\n       <use x=\"69.580078\" xlink:href=\"#DejaVuSans-Bold-48\"/>\n       <use x=\"139.160156\" xlink:href=\"#DejaVuSans-Bold-48\"/>\n      </g>\n     </g>\n    </g>\n    <g id=\"ytick_4\">\n     <g id=\"line2d_4\">\n      <path clip-path=\"url(#paf9a0f59e8)\" d=\"M 47.314375 129.143635 \nL 382.114375 129.143635 \n\" style=\"fill:none;stroke:#ffffff;stroke-linecap:round;\"/>\n     </g>\n     <g id=\"text_10\">\n      <!-- 600 -->\n      <g style=\"fill:#262626;\" transform=\"translate(14.853594 133.322775)scale(0.11 -0.11)\">\n       <use xlink:href=\"#DejaVuSans-Bold-54\"/>\n       <use x=\"69.580078\" xlink:href=\"#DejaVuSans-Bold-48\"/>\n       <use x=\"139.160156\" xlink:href=\"#DejaVuSans-Bold-48\"/>\n      </g>\n     </g>\n    </g>\n    <g id=\"ytick_5\">\n     <g id=\"line2d_5\">\n      <path clip-path=\"url(#paf9a0f59e8)\" d=\"M 47.314375 99.702511 \nL 382.114375 99.702511 \n\" style=\"fill:none;stroke:#ffffff;stroke-linecap:round;\"/>\n     </g>\n     <g id=\"text_11\">\n      <!-- 800 -->\n      <g style=\"fill:#262626;\" transform=\"translate(14.853594 103.881652)scale(0.11 -0.11)\">\n       <use xlink:href=\"#DejaVuSans-Bold-56\"/>\n       <use x=\"69.580078\" xlink:href=\"#DejaVuSans-Bold-48\"/>\n       <use x=\"139.160156\" xlink:href=\"#DejaVuSans-Bold-48\"/>\n      </g>\n     </g>\n    </g>\n    <g id=\"ytick_6\">\n     <g id=\"line2d_6\">\n      <path clip-path=\"url(#paf9a0f59e8)\" d=\"M 47.314375 70.261388 \nL 382.114375 70.261388 \n\" style=\"fill:none;stroke:#ffffff;stroke-linecap:round;\"/>\n     </g>\n     <g id=\"text_12\">\n      <!-- 1000 -->\n      <g style=\"fill:#262626;\" transform=\"translate(7.2 74.440528)scale(0.11 -0.11)\">\n       <use xlink:href=\"#DejaVuSans-Bold-49\"/>\n       <use x=\"69.580078\" xlink:href=\"#DejaVuSans-Bold-48\"/>\n       <use x=\"139.160156\" xlink:href=\"#DejaVuSans-Bold-48\"/>\n       <use x=\"208.740234\" xlink:href=\"#DejaVuSans-Bold-48\"/>\n      </g>\n     </g>\n    </g>\n    <g id=\"ytick_7\">\n     <g id=\"line2d_7\">\n      <path clip-path=\"url(#paf9a0f59e8)\" d=\"M 47.314375 40.820264 \nL 382.114375 40.820264 \n\" style=\"fill:none;stroke:#ffffff;stroke-linecap:round;\"/>\n     </g>\n     <g id=\"text_13\">\n      <!-- 1200 -->\n      <g style=\"fill:#262626;\" transform=\"translate(7.2 44.999405)scale(0.11 -0.11)\">\n       <use xlink:href=\"#DejaVuSans-Bold-49\"/>\n       <use x=\"69.580078\" xlink:href=\"#DejaVuSans-Bold-50\"/>\n       <use x=\"139.160156\" xlink:href=\"#DejaVuSans-Bold-48\"/>\n       <use x=\"208.740234\" xlink:href=\"#DejaVuSans-Bold-48\"/>\n      </g>\n     </g>\n    </g>\n    <g id=\"ytick_8\">\n     <g id=\"line2d_8\">\n      <path clip-path=\"url(#paf9a0f59e8)\" d=\"M 47.314375 11.379141 \nL 382.114375 11.379141 \n\" style=\"fill:none;stroke:#ffffff;stroke-linecap:round;\"/>\n     </g>\n     <g id=\"text_14\">\n      <!-- 1400 -->\n      <g style=\"fill:#262626;\" transform=\"translate(7.2 15.558281)scale(0.11 -0.11)\">\n       <use xlink:href=\"#DejaVuSans-Bold-49\"/>\n       <use x=\"69.580078\" xlink:href=\"#DejaVuSans-Bold-52\"/>\n       <use x=\"139.160156\" xlink:href=\"#DejaVuSans-Bold-48\"/>\n       <use x=\"208.740234\" xlink:href=\"#DejaVuSans-Bold-48\"/>\n      </g>\n     </g>\n    </g>\n   </g>\n   <g id=\"patch_3\">\n    <path clip-path=\"url(#paf9a0f59e8)\" d=\"M 66.844375 215.478692 \nL 83.584375 215.478692 \nL 83.584375 214.176758 \nL 66.844375 214.176758 \nL 66.844375 215.478692 \nz\n\" style=\"fill:#5875a4;stroke:#494949;stroke-linejoin:miter;stroke-width:1.5;\"/>\n   </g>\n   <g id=\"patch_4\">\n    <path clip-path=\"url(#paf9a0f59e8)\" d=\"M 122.644375 215.858158 \nL 139.384375 215.858158 \nL 139.384375 214.49368 \nL 122.644375 214.49368 \nL 122.644375 215.858158 \nz\n\" style=\"fill:#cc8963;stroke:#494949;stroke-linejoin:miter;stroke-width:1.5;\"/>\n   </g>\n   <g id=\"patch_5\">\n    <path clip-path=\"url(#paf9a0f59e8)\" d=\"M 178.444375 215.755727 \nL 195.184375 215.755727 \nL 195.184375 214.559934 \nL 178.444375 214.559934 \nL 178.444375 215.755727 \nz\n\" style=\"fill:#5f9e6e;stroke:#494949;stroke-linejoin:miter;stroke-width:1.5;\"/>\n   </g>\n   <g id=\"patch_6\">\n    <path clip-path=\"url(#paf9a0f59e8)\" d=\"M 234.244375 214.527677 \nL 250.984375 214.527677 \nL 250.984375 212.810942 \nL 234.244375 212.810942 \nL 234.244375 214.527677 \nz\n\" style=\"fill:#b55d60;stroke:#494949;stroke-linejoin:miter;stroke-width:1.5;\"/>\n   </g>\n   <g id=\"patch_7\">\n    <path clip-path=\"url(#paf9a0f59e8)\" d=\"M 290.044375 209.409487 \nL 306.784375 209.409487 \nL 306.784375 203.972992 \nL 290.044375 203.972992 \nL 290.044375 209.409487 \nz\n\" style=\"fill:#857aab;stroke:#494949;stroke-linejoin:miter;stroke-width:1.5;\"/>\n   </g>\n   <g id=\"patch_8\">\n    <path clip-path=\"url(#paf9a0f59e8)\" d=\"M 345.844375 169.993667 \nL 362.584375 169.993667 \nL 362.584375 136.277415 \nL 345.844375 136.277415 \nL 345.844375 169.993667 \nz\n\" style=\"fill:#8d7866;stroke:#494949;stroke-linejoin:miter;stroke-width:1.5;\"/>\n   </g>\n   <g id=\"line2d_9\">\n    <path clip-path=\"url(#paf9a0f59e8)\" d=\"M 75.214375 215.478692 \nL 75.214375 216.207504 \n\" style=\"fill:none;stroke:#494949;stroke-linecap:round;stroke-width:1.5;\"/>\n   </g>\n   <g id=\"line2d_10\">\n    <path clip-path=\"url(#paf9a0f59e8)\" d=\"M 75.214375 214.176758 \nL 75.214375 213.929998 \n\" style=\"fill:none;stroke:#494949;stroke-linecap:round;stroke-width:1.5;\"/>\n   </g>\n   <g id=\"line2d_11\">\n    <path clip-path=\"url(#paf9a0f59e8)\" d=\"M 71.029375 216.207504 \nL 79.399375 216.207504 \n\" style=\"fill:none;stroke:#494949;stroke-linecap:round;stroke-width:1.5;\"/>\n   </g>\n   <g id=\"line2d_12\">\n    <path clip-path=\"url(#paf9a0f59e8)\" d=\"M 71.029375 213.929998 \nL 79.399375 213.929998 \n\" style=\"fill:none;stroke:#494949;stroke-linecap:round;stroke-width:1.5;\"/>\n   </g>\n   <g id=\"line2d_13\">\n    <defs>\n     <path d=\"M -0 3.535534 \nL 2.12132 0 \nL -0 -3.535534 \nL -2.12132 -0 \nz\n\" id=\"mc4a13dcfbc\" style=\"stroke:#494949;stroke-linejoin:miter;\"/>\n    </defs>\n    <g clip-path=\"url(#paf9a0f59e8)\">\n     <use style=\"fill:#494949;stroke:#494949;stroke-linejoin:miter;\" x=\"75.214375\" xlink:href=\"#mc4a13dcfbc\" y=\"210.662753\"/>\n    </g>\n   </g>\n   <g id=\"line2d_14\">\n    <path clip-path=\"url(#paf9a0f59e8)\" d=\"M 131.014375 215.858158 \nL 131.014375 215.971752 \n\" style=\"fill:none;stroke:#494949;stroke-linecap:round;stroke-width:1.5;\"/>\n   </g>\n   <g id=\"line2d_15\">\n    <path clip-path=\"url(#paf9a0f59e8)\" d=\"M 131.014375 214.49368 \nL 131.014375 214.381917 \n\" style=\"fill:none;stroke:#494949;stroke-linecap:round;stroke-width:1.5;\"/>\n   </g>\n   <g id=\"line2d_16\">\n    <path clip-path=\"url(#paf9a0f59e8)\" d=\"M 126.829375 215.971752 \nL 135.199375 215.971752 \n\" style=\"fill:none;stroke:#494949;stroke-linecap:round;stroke-width:1.5;\"/>\n   </g>\n   <g id=\"line2d_17\">\n    <path clip-path=\"url(#paf9a0f59e8)\" d=\"M 126.829375 214.381917 \nL 135.199375 214.381917 \n\" style=\"fill:none;stroke:#494949;stroke-linecap:round;stroke-width:1.5;\"/>\n   </g>\n   <g id=\"line2d_18\"/>\n   <g id=\"line2d_19\">\n    <path clip-path=\"url(#paf9a0f59e8)\" d=\"M 186.814375 215.755727 \nL 186.814375 215.971752 \n\" style=\"fill:none;stroke:#494949;stroke-linecap:round;stroke-width:1.5;\"/>\n   </g>\n   <g id=\"line2d_20\">\n    <path clip-path=\"url(#paf9a0f59e8)\" d=\"M 186.814375 214.559934 \nL 186.814375 213.672554 \n\" style=\"fill:none;stroke:#494949;stroke-linecap:round;stroke-width:1.5;\"/>\n   </g>\n   <g id=\"line2d_21\">\n    <path clip-path=\"url(#paf9a0f59e8)\" d=\"M 182.629375 215.971752 \nL 190.999375 215.971752 \n\" style=\"fill:none;stroke:#494949;stroke-linecap:round;stroke-width:1.5;\"/>\n   </g>\n   <g id=\"line2d_22\">\n    <path clip-path=\"url(#paf9a0f59e8)\" d=\"M 182.629375 213.672554 \nL 190.999375 213.672554 \n\" style=\"fill:none;stroke:#494949;stroke-linecap:round;stroke-width:1.5;\"/>\n   </g>\n   <g id=\"line2d_23\"/>\n   <g id=\"line2d_24\">\n    <path clip-path=\"url(#paf9a0f59e8)\" d=\"M 242.614375 214.527677 \nL 242.614375 214.896115 \n\" style=\"fill:none;stroke:#494949;stroke-linecap:round;stroke-width:1.5;\"/>\n   </g>\n   <g id=\"line2d_25\">\n    <path clip-path=\"url(#paf9a0f59e8)\" d=\"M 242.614375 212.810942 \nL 242.614375 210.774502 \n\" style=\"fill:none;stroke:#494949;stroke-linecap:round;stroke-width:1.5;\"/>\n   </g>\n   <g id=\"line2d_26\">\n    <path clip-path=\"url(#paf9a0f59e8)\" d=\"M 238.429375 214.896115 \nL 246.799375 214.896115 \n\" style=\"fill:none;stroke:#494949;stroke-linecap:round;stroke-width:1.5;\"/>\n   </g>\n   <g id=\"line2d_27\">\n    <path clip-path=\"url(#paf9a0f59e8)\" d=\"M 238.429375 210.774502 \nL 246.799375 210.774502 \n\" style=\"fill:none;stroke:#494949;stroke-linecap:round;stroke-width:1.5;\"/>\n   </g>\n   <g id=\"line2d_28\"/>\n   <g id=\"line2d_29\">\n    <path clip-path=\"url(#paf9a0f59e8)\" d=\"M 298.414375 209.409487 \nL 298.414375 210.774502 \n\" style=\"fill:none;stroke:#494949;stroke-linecap:round;stroke-width:1.5;\"/>\n   </g>\n   <g id=\"line2d_30\">\n    <path clip-path=\"url(#paf9a0f59e8)\" d=\"M 298.414375 203.972992 \nL 298.414375 203.07954 \n\" style=\"fill:none;stroke:#494949;stroke-linecap:round;stroke-width:1.5;\"/>\n   </g>\n   <g id=\"line2d_31\">\n    <path clip-path=\"url(#paf9a0f59e8)\" d=\"M 294.229375 210.774502 \nL 302.599375 210.774502 \n\" style=\"fill:none;stroke:#494949;stroke-linecap:round;stroke-width:1.5;\"/>\n   </g>\n   <g id=\"line2d_32\">\n    <path clip-path=\"url(#paf9a0f59e8)\" d=\"M 294.229375 203.07954 \nL 302.599375 203.07954 \n\" style=\"fill:none;stroke:#494949;stroke-linecap:round;stroke-width:1.5;\"/>\n   </g>\n   <g id=\"line2d_33\">\n    <g clip-path=\"url(#paf9a0f59e8)\">\n     <use style=\"fill:#494949;stroke:#494949;stroke-linejoin:miter;\" x=\"298.414375\" xlink:href=\"#mc4a13dcfbc\" y=\"190.642786\"/>\n    </g>\n   </g>\n   <g id=\"line2d_34\">\n    <path clip-path=\"url(#paf9a0f59e8)\" d=\"M 354.214375 169.993667 \nL 354.214375 177.09692 \n\" style=\"fill:none;stroke:#494949;stroke-linecap:round;stroke-width:1.5;\"/>\n   </g>\n   <g id=\"line2d_35\">\n    <path clip-path=\"url(#paf9a0f59e8)\" d=\"M 354.214375 136.277415 \nL 354.214375 127.233416 \n\" style=\"fill:none;stroke:#494949;stroke-linecap:round;stroke-width:1.5;\"/>\n   </g>\n   <g id=\"line2d_36\">\n    <path clip-path=\"url(#paf9a0f59e8)\" d=\"M 350.029375 177.09692 \nL 358.399375 177.09692 \n\" style=\"fill:none;stroke:#494949;stroke-linecap:round;stroke-width:1.5;\"/>\n   </g>\n   <g id=\"line2d_37\">\n    <path clip-path=\"url(#paf9a0f59e8)\" d=\"M 350.029375 127.233416 \nL 358.399375 127.233416 \n\" style=\"fill:none;stroke:#494949;stroke-linecap:round;stroke-width:1.5;\"/>\n   </g>\n   <g id=\"line2d_38\">\n    <g clip-path=\"url(#paf9a0f59e8)\">\n     <use style=\"fill:#494949;stroke:#494949;stroke-linejoin:miter;\" x=\"354.214375\" xlink:href=\"#mc4a13dcfbc\" y=\"18.534776\"/>\n    </g>\n   </g>\n   <g id=\"line2d_39\">\n    <path clip-path=\"url(#paf9a0f59e8)\" d=\"M 66.844375 214.569718 \nL 83.584375 214.569718 \n\" style=\"fill:none;stroke:#494949;stroke-linecap:round;stroke-width:1.5;\"/>\n   </g>\n   <g id=\"line2d_40\">\n    <path clip-path=\"url(#paf9a0f59e8)\" d=\"M 122.644375 215.692798 \nL 139.384375 215.692798 \n\" style=\"fill:none;stroke:#494949;stroke-linecap:round;stroke-width:1.5;\"/>\n   </g>\n   <g id=\"line2d_41\">\n    <path clip-path=\"url(#paf9a0f59e8)\" d=\"M 178.444375 214.750826 \nL 195.184375 214.750826 \n\" style=\"fill:none;stroke:#494949;stroke-linecap:round;stroke-width:1.5;\"/>\n   </g>\n   <g id=\"line2d_42\">\n    <path clip-path=\"url(#paf9a0f59e8)\" d=\"M 234.244375 214.091706 \nL 250.984375 214.091706 \n\" style=\"fill:none;stroke:#494949;stroke-linecap:round;stroke-width:1.5;\"/>\n   </g>\n   <g id=\"line2d_43\">\n    <path clip-path=\"url(#paf9a0f59e8)\" d=\"M 290.044375 206.128878 \nL 306.784375 206.128878 \n\" style=\"fill:none;stroke:#494949;stroke-linecap:round;stroke-width:1.5;\"/>\n   </g>\n   <g id=\"line2d_44\">\n    <path clip-path=\"url(#paf9a0f59e8)\" d=\"M 345.844375 162.176505 \nL 362.584375 162.176505 \n\" style=\"fill:none;stroke:#494949;stroke-linecap:round;stroke-width:1.5;\"/>\n   </g>\n   <g id=\"patch_9\">\n    <path d=\"M 47.314375 226.09114 \nL 47.314375 8.65114 \n\" style=\"fill:none;stroke:#ffffff;stroke-linecap:square;stroke-linejoin:miter;stroke-width:1.25;\"/>\n   </g>\n   <g id=\"patch_10\">\n    <path d=\"M 382.114375 226.09114 \nL 382.114375 8.65114 \n\" style=\"fill:none;stroke:#ffffff;stroke-linecap:square;stroke-linejoin:miter;stroke-width:1.25;\"/>\n   </g>\n   <g id=\"patch_11\">\n    <path d=\"M 47.314375 226.09114 \nL 382.114375 226.09114 \n\" style=\"fill:none;stroke:#ffffff;stroke-linecap:square;stroke-linejoin:miter;stroke-width:1.25;\"/>\n   </g>\n   <g id=\"patch_12\">\n    <path d=\"M 47.314375 8.65114 \nL 382.114375 8.65114 \n\" style=\"fill:none;stroke:#ffffff;stroke-linecap:square;stroke-linejoin:miter;stroke-width:1.25;\"/>\n   </g>\n  </g>\n </g>\n <defs>\n  <clipPath id=\"paf9a0f59e8\">\n   <rect height=\"217.44\" width=\"334.8\" x=\"47.314375\" y=\"8.65114\"/>\n  </clipPath>\n </defs>\n</svg>\n"
     },
     "metadata": {}
    }
   ],
   "source": [
    "# plt.boxplot(tdr_list2)\n",
    "sns.boxplot(x=threshold_list2, y = tdr_list2,width=0.3)"
   ]
  },
  {
   "cell_type": "code",
   "execution_count": 46,
   "metadata": {
    "tags": []
   },
   "outputs": [
    {
     "output_type": "stream",
     "name": "stdout",
     "text": "threshold  Unnamed: 0         tdr  navigation_time\n0         10           3   20.882515        95.934286\n1         20          10   15.060465        81.001116\n2         30          17   16.733238        76.888886\n3         40          24   27.007389        80.328049\n4         60          31   85.359623       125.230742\n5         80          38  535.614915       495.686395\ny = -12.21003 * x + 0.20633 * x^2 + 158.12059\n"
    },
    {
     "output_type": "execute_result",
     "data": {
      "text/plain": "[<matplotlib.lines.Line2D at 0x7f3f8f5c2b90>]"
     },
     "metadata": {},
     "execution_count": 46
    },
    {
     "output_type": "display_data",
     "data": {
      "image/png": "[encoded data removed]",
      "text/plain": "<Figure size 432x288 with 1 Axes>",
      "image/svg+xml": "<?xml version=\"1.0\" encoding=\"utf-8\" standalone=\"no\"?>\n<!DOCTYPE svg PUBLIC \"-//W3C//DTD SVG 1.1//EN\"\n  \"http://www.w3.org/Graphics/SVG/1.1/DTD/svg11.dtd\">\n<!-- Created with matplotlib (https://matplotlib.org/) -->\n<svg height=\"251.985937pt\" version=\"1.1\" viewBox=\"0 0 381.660781 251.985937\" width=\"381.660781pt\" xmlns=\"http://www.w3.org/2000/svg\" xmlns:xlink=\"http://www.w3.org/1999/xlink\">\n <metadata>\n  <rdf:RDF xmlns:cc=\"http://creativecommons.org/ns#\" xmlns:dc=\"http://purl.org/dc/elements/1.1/\" xmlns:rdf=\"http://www.w3.org/1999/02/22-rdf-syntax-ns#\">\n   <cc:Work>\n    <dc:type rdf:resource=\"http://purl.org/dc/dcmitype/StillImage\"/>\n    <dc:date>2021-01-12T15:05:09.961539</dc:date>\n    <dc:format>image/svg+xml</dc:format>\n    <dc:creator>\n     <cc:Agent>\n      <dc:title>Matplotlib v3.3.3, https://matplotlib.org/</dc:title>\n     </cc:Agent>\n    </dc:creator>\n   </cc:Work>\n  </rdf:RDF>\n </metadata>\n <defs>\n  <style type=\"text/css\">*{stroke-linecap:butt;stroke-linejoin:round;}</style>\n </defs>\n <g id=\"figure_1\">\n  <g id=\"patch_1\">\n   <path d=\"M -0 251.985937 \nL 381.660781 251.985937 \nL 381.660781 0 \nL -0 0 \nz\n\" style=\"fill:#ffffff;\"/>\n  </g>\n  <g id=\"axes_1\">\n   <g id=\"patch_2\">\n    <path d=\"M 39.660781 224.64 \nL 374.460781 224.64 \nL 374.460781 7.2 \nL 39.660781 7.2 \nz\n\" style=\"fill:#eaeaf2;\"/>\n   </g>\n   <g id=\"matplotlib.axis_1\">\n    <g id=\"xtick_1\">\n     <g id=\"line2d_1\">\n      <path clip-path=\"url(#p8eeef6fb75)\" d=\"M 54.878963 224.64 \nL 54.878963 7.2 \n\" style=\"fill:none;stroke:#ffffff;stroke-linecap:round;\"/>\n     </g>\n     <g id=\"text_1\">\n      <!-- 10 -->\n      <g style=\"fill:#262626;\" transform=\"translate(47.225369 242.498281)scale(0.11 -0.11)\">\n       <defs>\n        <path d=\"M 11.71875 12.984375 \nL 28.328125 12.984375 \nL 28.328125 60.109375 \nL 11.28125 56.59375 \nL 11.28125 69.390625 \nL 28.21875 72.90625 \nL 46.09375 72.90625 \nL 46.09375 12.984375 \nL 62.703125 12.984375 \nL 62.703125 0 \nL 11.71875 0 \nz\n\" id=\"DejaVuSans-Bold-49\"/>\n        <path d=\"M 46 36.53125 \nQ 46 50.203125 43.4375 55.78125 \nQ 40.875 61.375 34.8125 61.375 \nQ 28.765625 61.375 26.171875 55.78125 \nQ 23.578125 50.203125 23.578125 36.53125 \nQ 23.578125 22.703125 26.171875 17.03125 \nQ 28.765625 11.375 34.8125 11.375 \nQ 40.828125 11.375 43.40625 17.03125 \nQ 46 22.703125 46 36.53125 \nz\nM 64.796875 36.375 \nQ 64.796875 18.265625 56.984375 8.421875 \nQ 49.171875 -1.421875 34.8125 -1.421875 \nQ 20.40625 -1.421875 12.59375 8.421875 \nQ 4.78125 18.265625 4.78125 36.375 \nQ 4.78125 54.546875 12.59375 64.375 \nQ 20.40625 74.21875 34.8125 74.21875 \nQ 49.171875 74.21875 56.984375 64.375 \nQ 64.796875 54.546875 64.796875 36.375 \nz\n\" id=\"DejaVuSans-Bold-48\"/>\n       </defs>\n       <use xlink:href=\"#DejaVuSans-Bold-49\"/>\n       <use x=\"69.580078\" xlink:href=\"#DejaVuSans-Bold-48\"/>\n      </g>\n     </g>\n    </g>\n    <g id=\"xtick_2\">\n     <g id=\"line2d_2\">\n      <path clip-path=\"url(#p8eeef6fb75)\" d=\"M 98.359483 224.64 \nL 98.359483 7.2 \n\" style=\"fill:none;stroke:#ffffff;stroke-linecap:round;\"/>\n     </g>\n     <g id=\"text_2\">\n      <!-- 20 -->\n      <g style=\"fill:#262626;\" transform=\"translate(90.705889 242.498281)scale(0.11 -0.11)\">\n       <defs>\n        <path d=\"M 28.8125 13.8125 \nL 60.890625 13.8125 \nL 60.890625 0 \nL 7.90625 0 \nL 7.90625 13.8125 \nL 34.515625 37.3125 \nQ 38.09375 40.53125 39.796875 43.609375 \nQ 41.5 46.6875 41.5 50 \nQ 41.5 55.125 38.0625 58.25 \nQ 34.625 61.375 28.90625 61.375 \nQ 24.515625 61.375 19.28125 59.5 \nQ 14.0625 57.625 8.109375 53.90625 \nL 8.109375 69.921875 \nQ 14.453125 72.015625 20.65625 73.109375 \nQ 26.859375 74.21875 32.8125 74.21875 \nQ 45.90625 74.21875 53.15625 68.453125 \nQ 60.40625 62.703125 60.40625 52.390625 \nQ 60.40625 46.4375 57.328125 41.28125 \nQ 54.25 36.140625 44.390625 27.484375 \nz\n\" id=\"DejaVuSans-Bold-50\"/>\n       </defs>\n       <use xlink:href=\"#DejaVuSans-Bold-50\"/>\n       <use x=\"69.580078\" xlink:href=\"#DejaVuSans-Bold-48\"/>\n      </g>\n     </g>\n    </g>\n    <g id=\"xtick_3\">\n     <g id=\"line2d_3\">\n      <path clip-path=\"url(#p8eeef6fb75)\" d=\"M 141.840002 224.64 \nL 141.840002 7.2 \n\" style=\"fill:none;stroke:#ffffff;stroke-linecap:round;\"/>\n     </g>\n     <g id=\"text_3\">\n      <!-- 30 -->\n      <g style=\"fill:#262626;\" transform=\"translate(134.186408 242.498281)scale(0.11 -0.11)\">\n       <defs>\n        <path d=\"M 46.578125 39.3125 \nQ 53.953125 37.40625 57.78125 32.6875 \nQ 61.625 27.984375 61.625 20.703125 \nQ 61.625 9.859375 53.3125 4.21875 \nQ 45.015625 -1.421875 29.109375 -1.421875 \nQ 23.484375 -1.421875 17.84375 -0.515625 \nQ 12.203125 0.390625 6.6875 2.203125 \nL 6.6875 16.703125 \nQ 11.96875 14.0625 17.15625 12.71875 \nQ 22.359375 11.375 27.390625 11.375 \nQ 34.859375 11.375 38.84375 13.953125 \nQ 42.828125 16.546875 42.828125 21.390625 \nQ 42.828125 26.375 38.75 28.9375 \nQ 34.671875 31.5 26.703125 31.5 \nL 19.1875 31.5 \nL 19.1875 43.609375 \nL 27.09375 43.609375 \nQ 34.1875 43.609375 37.640625 45.828125 \nQ 41.109375 48.046875 41.109375 52.59375 \nQ 41.109375 56.78125 37.734375 59.078125 \nQ 34.375 61.375 28.21875 61.375 \nQ 23.6875 61.375 19.046875 60.34375 \nQ 14.40625 59.328125 9.8125 57.328125 \nL 9.8125 71.09375 \nQ 15.375 72.65625 20.84375 73.4375 \nQ 26.3125 74.21875 31.59375 74.21875 \nQ 45.796875 74.21875 52.84375 69.546875 \nQ 59.90625 64.890625 59.90625 55.515625 \nQ 59.90625 49.125 56.53125 45.046875 \nQ 53.171875 40.96875 46.578125 39.3125 \nz\n\" id=\"DejaVuSans-Bold-51\"/>\n       </defs>\n       <use xlink:href=\"#DejaVuSans-Bold-51\"/>\n       <use x=\"69.580078\" xlink:href=\"#DejaVuSans-Bold-48\"/>\n      </g>\n     </g>\n    </g>\n    <g id=\"xtick_4\">\n     <g id=\"line2d_4\">\n      <path clip-path=\"url(#p8eeef6fb75)\" d=\"M 185.320522 224.64 \nL 185.320522 7.2 \n\" style=\"fill:none;stroke:#ffffff;stroke-linecap:round;\"/>\n     </g>\n     <g id=\"text_4\">\n      <!-- 40 -->\n      <g style=\"fill:#262626;\" transform=\"translate(177.666928 242.498281)scale(0.11 -0.11)\">\n       <defs>\n        <path d=\"M 36.8125 57.421875 \nL 16.21875 26.90625 \nL 36.8125 26.90625 \nz\nM 33.6875 72.90625 \nL 54.59375 72.90625 \nL 54.59375 26.90625 \nL 64.984375 26.90625 \nL 64.984375 13.28125 \nL 54.59375 13.28125 \nL 54.59375 0 \nL 36.8125 0 \nL 36.8125 13.28125 \nL 4.5 13.28125 \nL 4.5 29.390625 \nz\n\" id=\"DejaVuSans-Bold-52\"/>\n       </defs>\n       <use xlink:href=\"#DejaVuSans-Bold-52\"/>\n       <use x=\"69.580078\" xlink:href=\"#DejaVuSans-Bold-48\"/>\n      </g>\n     </g>\n    </g>\n    <g id=\"xtick_5\">\n     <g id=\"line2d_5\">\n      <path clip-path=\"url(#p8eeef6fb75)\" d=\"M 228.801041 224.64 \nL 228.801041 7.2 \n\" style=\"fill:none;stroke:#ffffff;stroke-linecap:round;\"/>\n     </g>\n     <g id=\"text_5\">\n      <!-- 50 -->\n      <g style=\"fill:#262626;\" transform=\"translate(221.147447 242.498281)scale(0.11 -0.11)\">\n       <defs>\n        <path d=\"M 10.59375 72.90625 \nL 57.328125 72.90625 \nL 57.328125 59.078125 \nL 25.59375 59.078125 \nL 25.59375 47.796875 \nQ 27.734375 48.390625 29.90625 48.703125 \nQ 32.078125 49.03125 34.421875 49.03125 \nQ 47.75 49.03125 55.171875 42.359375 \nQ 62.59375 35.6875 62.59375 23.78125 \nQ 62.59375 11.96875 54.515625 5.265625 \nQ 46.4375 -1.421875 32.078125 -1.421875 \nQ 25.875 -1.421875 19.796875 -0.21875 \nQ 13.71875 0.984375 7.71875 3.421875 \nL 7.71875 18.21875 \nQ 13.671875 14.796875 19.015625 13.078125 \nQ 24.359375 11.375 29.109375 11.375 \nQ 35.9375 11.375 39.859375 14.71875 \nQ 43.796875 18.0625 43.796875 23.78125 \nQ 43.796875 29.546875 39.859375 32.859375 \nQ 35.9375 36.1875 29.109375 36.1875 \nQ 25.046875 36.1875 20.453125 35.125 \nQ 15.875 34.078125 10.59375 31.890625 \nz\n\" id=\"DejaVuSans-Bold-53\"/>\n       </defs>\n       <use xlink:href=\"#DejaVuSans-Bold-53\"/>\n       <use x=\"69.580078\" xlink:href=\"#DejaVuSans-Bold-48\"/>\n      </g>\n     </g>\n    </g>\n    <g id=\"xtick_6\">\n     <g id=\"line2d_6\">\n      <path clip-path=\"url(#p8eeef6fb75)\" d=\"M 272.28156 224.64 \nL 272.28156 7.2 \n\" style=\"fill:none;stroke:#ffffff;stroke-linecap:round;\"/>\n     </g>\n     <g id=\"text_6\">\n      <!-- 60 -->\n      <g style=\"fill:#262626;\" transform=\"translate(264.627967 242.498281)scale(0.11 -0.11)\">\n       <defs>\n        <path d=\"M 36.1875 35.984375 \nQ 31.25 35.984375 28.78125 32.78125 \nQ 26.3125 29.59375 26.3125 23.1875 \nQ 26.3125 16.796875 28.78125 13.59375 \nQ 31.25 10.40625 36.1875 10.40625 \nQ 41.15625 10.40625 43.625 13.59375 \nQ 46.09375 16.796875 46.09375 23.1875 \nQ 46.09375 29.59375 43.625 32.78125 \nQ 41.15625 35.984375 36.1875 35.984375 \nz\nM 59.421875 71 \nL 59.421875 57.515625 \nQ 54.78125 59.71875 50.671875 60.765625 \nQ 46.578125 61.8125 42.671875 61.8125 \nQ 34.28125 61.8125 29.59375 57.140625 \nQ 24.90625 52.484375 24.125 43.3125 \nQ 27.34375 45.703125 31.09375 46.890625 \nQ 34.859375 48.09375 39.3125 48.09375 \nQ 50.484375 48.09375 57.34375 41.546875 \nQ 64.203125 35.015625 64.203125 24.421875 \nQ 64.203125 12.703125 56.53125 5.640625 \nQ 48.875 -1.421875 35.984375 -1.421875 \nQ 21.78125 -1.421875 13.984375 8.171875 \nQ 6.203125 17.78125 6.203125 35.40625 \nQ 6.203125 53.46875 15.3125 63.796875 \nQ 24.421875 74.125 40.28125 74.125 \nQ 45.3125 74.125 50.046875 73.34375 \nQ 54.78125 72.5625 59.421875 71 \nz\n\" id=\"DejaVuSans-Bold-54\"/>\n       </defs>\n       <use xlink:href=\"#DejaVuSans-Bold-54\"/>\n       <use x=\"69.580078\" xlink:href=\"#DejaVuSans-Bold-48\"/>\n      </g>\n     </g>\n    </g>\n    <g id=\"xtick_7\">\n     <g id=\"line2d_7\">\n      <path clip-path=\"url(#p8eeef6fb75)\" d=\"M 315.76208 224.64 \nL 315.76208 7.2 \n\" style=\"fill:none;stroke:#ffffff;stroke-linecap:round;\"/>\n     </g>\n     <g id=\"text_7\">\n      <!-- 70 -->\n      <g style=\"fill:#262626;\" transform=\"translate(308.108486 242.498281)scale(0.11 -0.11)\">\n       <defs>\n        <path d=\"M 6.6875 72.90625 \nL 61.625 72.90625 \nL 61.625 62.3125 \nL 33.203125 0 \nL 14.890625 0 \nL 41.796875 59.078125 \nL 6.6875 59.078125 \nz\n\" id=\"DejaVuSans-Bold-55\"/>\n       </defs>\n       <use xlink:href=\"#DejaVuSans-Bold-55\"/>\n       <use x=\"69.580078\" xlink:href=\"#DejaVuSans-Bold-48\"/>\n      </g>\n     </g>\n    </g>\n    <g id=\"xtick_8\">\n     <g id=\"line2d_8\">\n      <path clip-path=\"url(#p8eeef6fb75)\" d=\"M 359.242599 224.64 \nL 359.242599 7.2 \n\" style=\"fill:none;stroke:#ffffff;stroke-linecap:round;\"/>\n     </g>\n     <g id=\"text_8\">\n      <!-- 80 -->\n      <g style=\"fill:#262626;\" transform=\"translate(351.589006 242.498281)scale(0.11 -0.11)\">\n       <defs>\n        <path d=\"M 34.8125 32.625 \nQ 29.546875 32.625 26.703125 29.734375 \nQ 23.875 26.859375 23.875 21.484375 \nQ 23.875 16.109375 26.703125 13.25 \nQ 29.546875 10.40625 34.8125 10.40625 \nQ 40.046875 10.40625 42.828125 13.25 \nQ 45.609375 16.109375 45.609375 21.484375 \nQ 45.609375 26.90625 42.828125 29.765625 \nQ 40.046875 32.625 34.8125 32.625 \nz\nM 21.09375 38.8125 \nQ 14.453125 40.828125 11.078125 44.96875 \nQ 7.71875 49.125 7.71875 55.328125 \nQ 7.71875 64.546875 14.59375 69.375 \nQ 21.484375 74.21875 34.8125 74.21875 \nQ 48.046875 74.21875 54.921875 69.40625 \nQ 61.8125 64.59375 61.8125 55.328125 \nQ 61.8125 49.125 58.421875 44.96875 \nQ 55.03125 40.828125 48.390625 38.8125 \nQ 55.8125 36.765625 59.59375 32.15625 \nQ 63.375 27.546875 63.375 20.515625 \nQ 63.375 9.671875 56.171875 4.125 \nQ 48.96875 -1.421875 34.8125 -1.421875 \nQ 20.609375 -1.421875 13.359375 4.125 \nQ 6.109375 9.671875 6.109375 20.515625 \nQ 6.109375 27.546875 9.890625 32.15625 \nQ 13.671875 36.765625 21.09375 38.8125 \nz\nM 25.484375 53.421875 \nQ 25.484375 49.078125 27.90625 46.734375 \nQ 30.328125 44.390625 34.8125 44.390625 \nQ 39.203125 44.390625 41.59375 46.734375 \nQ 44 49.078125 44 53.421875 \nQ 44 57.765625 41.59375 60.078125 \nQ 39.203125 62.40625 34.8125 62.40625 \nQ 30.328125 62.40625 27.90625 60.0625 \nQ 25.484375 57.71875 25.484375 53.421875 \nz\n\" id=\"DejaVuSans-Bold-56\"/>\n       </defs>\n       <use xlink:href=\"#DejaVuSans-Bold-56\"/>\n       <use x=\"69.580078\" xlink:href=\"#DejaVuSans-Bold-48\"/>\n      </g>\n     </g>\n    </g>\n   </g>\n   <g id=\"matplotlib.axis_2\">\n    <g id=\"ytick_1\">\n     <g id=\"line2d_9\">\n      <path clip-path=\"url(#p8eeef6fb75)\" d=\"M 39.660781 206.79421 \nL 374.460781 206.79421 \n\" style=\"fill:none;stroke:#ffffff;stroke-linecap:round;\"/>\n     </g>\n     <g id=\"text_9\">\n      <!-- 0 -->\n      <g style=\"fill:#262626;\" transform=\"translate(22.507188 210.97335)scale(0.11 -0.11)\">\n       <use xlink:href=\"#DejaVuSans-Bold-48\"/>\n      </g>\n     </g>\n    </g>\n    <g id=\"ytick_2\">\n     <g id=\"line2d_10\">\n      <path clip-path=\"url(#p8eeef6fb75)\" d=\"M 39.660781 171.374999 \nL 374.460781 171.374999 \n\" style=\"fill:none;stroke:#ffffff;stroke-linecap:round;\"/>\n     </g>\n     <g id=\"text_10\">\n      <!-- 100 -->\n      <g style=\"fill:#262626;\" transform=\"translate(7.2 175.55414)scale(0.11 -0.11)\">\n       <use xlink:href=\"#DejaVuSans-Bold-49\"/>\n       <use x=\"69.580078\" xlink:href=\"#DejaVuSans-Bold-48\"/>\n       <use x=\"139.160156\" xlink:href=\"#DejaVuSans-Bold-48\"/>\n      </g>\n     </g>\n    </g>\n    <g id=\"ytick_3\">\n     <g id=\"line2d_11\">\n      <path clip-path=\"url(#p8eeef6fb75)\" d=\"M 39.660781 135.955789 \nL 374.460781 135.955789 \n\" style=\"fill:none;stroke:#ffffff;stroke-linecap:round;\"/>\n     </g>\n     <g id=\"text_11\">\n      <!-- 200 -->\n      <g style=\"fill:#262626;\" transform=\"translate(7.2 140.13493)scale(0.11 -0.11)\">\n       <use xlink:href=\"#DejaVuSans-Bold-50\"/>\n       <use x=\"69.580078\" xlink:href=\"#DejaVuSans-Bold-48\"/>\n       <use x=\"139.160156\" xlink:href=\"#DejaVuSans-Bold-48\"/>\n      </g>\n     </g>\n    </g>\n    <g id=\"ytick_4\">\n     <g id=\"line2d_12\">\n      <path clip-path=\"url(#p8eeef6fb75)\" d=\"M 39.660781 100.536579 \nL 374.460781 100.536579 \n\" style=\"fill:none;stroke:#ffffff;stroke-linecap:round;\"/>\n     </g>\n     <g id=\"text_12\">\n      <!-- 300 -->\n      <g style=\"fill:#262626;\" transform=\"translate(7.2 104.715719)scale(0.11 -0.11)\">\n       <use xlink:href=\"#DejaVuSans-Bold-51\"/>\n       <use x=\"69.580078\" xlink:href=\"#DejaVuSans-Bold-48\"/>\n       <use x=\"139.160156\" xlink:href=\"#DejaVuSans-Bold-48\"/>\n      </g>\n     </g>\n    </g>\n    <g id=\"ytick_5\">\n     <g id=\"line2d_13\">\n      <path clip-path=\"url(#p8eeef6fb75)\" d=\"M 39.660781 65.117368 \nL 374.460781 65.117368 \n\" style=\"fill:none;stroke:#ffffff;stroke-linecap:round;\"/>\n     </g>\n     <g id=\"text_13\">\n      <!-- 400 -->\n      <g style=\"fill:#262626;\" transform=\"translate(7.2 69.296509)scale(0.11 -0.11)\">\n       <use xlink:href=\"#DejaVuSans-Bold-52\"/>\n       <use x=\"69.580078\" xlink:href=\"#DejaVuSans-Bold-48\"/>\n       <use x=\"139.160156\" xlink:href=\"#DejaVuSans-Bold-48\"/>\n      </g>\n     </g>\n    </g>\n    <g id=\"ytick_6\">\n     <g id=\"line2d_14\">\n      <path clip-path=\"url(#p8eeef6fb75)\" d=\"M 39.660781 29.698158 \nL 374.460781 29.698158 \n\" style=\"fill:none;stroke:#ffffff;stroke-linecap:round;\"/>\n     </g>\n     <g id=\"text_14\">\n      <!-- 500 -->\n      <g style=\"fill:#262626;\" transform=\"translate(7.2 33.877299)scale(0.11 -0.11)\">\n       <use xlink:href=\"#DejaVuSans-Bold-53\"/>\n       <use x=\"69.580078\" xlink:href=\"#DejaVuSans-Bold-48\"/>\n       <use x=\"139.160156\" xlink:href=\"#DejaVuSans-Bold-48\"/>\n      </g>\n     </g>\n    </g>\n   </g>\n   <g id=\"PathCollection_1\">\n    <defs>\n     <path d=\"M -0 4.242641 \nL 4.242641 0 \nL 0 -4.242641 \nL -4.242641 -0 \nz\n\" id=\"m2e780582d9\" style=\"stroke:#000000;\"/>\n    </defs>\n    <g clip-path=\"url(#p8eeef6fb75)\">\n     <use style=\"stroke:#000000;\" x=\"54.878963\" xlink:href=\"#m2e780582d9\" y=\"199.397788\"/>\n     <use style=\"stroke:#000000;\" x=\"98.359483\" xlink:href=\"#m2e780582d9\" y=\"201.459912\"/>\n     <use style=\"stroke:#000000;\" x=\"141.840002\" xlink:href=\"#m2e780582d9\" y=\"200.867429\"/>\n     <use style=\"stroke:#000000;\" x=\"185.320522\" xlink:href=\"#m2e780582d9\" y=\"197.228406\"/>\n     <use style=\"stroke:#000000;\" x=\"272.28156\" xlink:href=\"#m2e780582d9\" y=\"176.560505\"/>\n     <use style=\"stroke:#000000;\" x=\"359.242599\" xlink:href=\"#m2e780582d9\" y=\"17.083636\"/>\n    </g>\n   </g>\n   <g id=\"line2d_15\">\n    <path clip-path=\"url(#p8eeef6fb75)\" d=\"M 54.878963 186.727929 \nL 59.227015 189.517906 \nL 63.575067 192.16172 \nL 67.923119 194.65937 \nL 72.271171 197.010857 \nL 76.619223 199.216179 \nL 80.967275 201.275338 \nL 85.315327 203.188333 \nL 89.663379 204.955164 \nL 94.011431 206.575831 \nL 98.359483 208.050335 \nL 102.707534 209.378675 \nL 107.055586 210.560851 \nL 111.403638 211.596863 \nL 115.75169 212.486712 \nL 120.099742 213.230396 \nL 124.447794 213.827917 \nL 128.795846 214.279275 \nL 133.143898 214.584468 \nL 137.49195 214.743498 \nL 141.840002 214.756364 \nL 146.188054 214.623066 \nL 150.536106 214.343604 \nL 154.884158 213.917979 \nL 159.23221 213.346189 \nL 163.580262 212.628237 \nL 167.928314 211.76412 \nL 172.276366 210.753839 \nL 176.624418 209.597395 \nL 180.97247 208.294787 \nL 185.320522 206.846015 \nL 189.668573 205.251079 \nL 194.016625 203.50998 \nL 198.364677 201.622717 \nL 202.712729 199.58929 \nL 207.060781 197.409699 \nL 211.408833 195.083945 \nL 215.756885 192.612027 \nL 220.104937 189.993944 \nL 224.452989 187.229699 \nL 228.801041 184.319289 \nL 233.149093 181.262716 \nL 237.497145 178.059979 \nL 241.845197 174.711078 \nL 246.193249 171.216013 \nL 250.541301 167.574785 \nL 254.889353 163.787392 \nL 259.237405 159.853836 \nL 263.585457 155.774117 \nL 267.933509 151.548233 \nL 272.28156 147.176186 \nL 276.629612 142.657975 \nL 280.977664 137.9936 \nL 285.325716 133.183061 \nL 289.673768 128.226359 \nL 294.02182 123.123493 \nL 298.369872 117.874463 \nL 302.717924 112.479269 \nL 307.065976 106.937912 \nL 311.414028 101.25039 \nL 315.76208 95.416705 \nL 320.110132 89.436856 \nL 324.458184 83.310844 \nL 328.806236 77.038667 \nL 333.154288 70.620327 \nL 337.50234 64.055823 \nL 341.850392 57.345156 \nL 346.198444 50.488324 \nL 350.546496 43.485329 \nL 354.894547 36.33617 \n\" style=\"fill:none;stroke:#ff0000;stroke-dasharray:5.55,2.4;stroke-dashoffset:0;stroke-width:1.5;\"/>\n   </g>\n   <g id=\"patch_3\">\n    <path d=\"M 39.660781 224.64 \nL 39.660781 7.2 \n\" style=\"fill:none;stroke:#ffffff;stroke-linecap:square;stroke-linejoin:miter;stroke-width:1.25;\"/>\n   </g>\n   <g id=\"patch_4\">\n    <path d=\"M 374.460781 224.64 \nL 374.460781 7.2 \n\" style=\"fill:none;stroke:#ffffff;stroke-linecap:square;stroke-linejoin:miter;stroke-width:1.25;\"/>\n   </g>\n   <g id=\"patch_5\">\n    <path d=\"M 39.660781 224.64 \nL 374.460781 224.64 \n\" style=\"fill:none;stroke:#ffffff;stroke-linecap:square;stroke-linejoin:miter;stroke-width:1.25;\"/>\n   </g>\n   <g id=\"patch_6\">\n    <path d=\"M 39.660781 7.2 \nL 374.460781 7.2 \n\" style=\"fill:none;stroke:#ffffff;stroke-linecap:square;stroke-linejoin:miter;stroke-width:1.25;\"/>\n   </g>\n  </g>\n </g>\n <defs>\n  <clipPath id=\"p8eeef6fb75\">\n   <rect height=\"217.44\" width=\"334.8\" x=\"39.660781\" y=\"7.2\"/>\n  </clipPath>\n </defs>\n</svg>\n"
     },
     "metadata": {}
    }
   ],
   "source": [
    "# Finding Mean \n",
    "tdr_group = stimuli_df.groupby(['threshold']).mean().reset_index()\n",
    "x = list(tdr_group.threshold)\n",
    "y = list(tdr_group.tdr)\n",
    "# Cureve Fitting the functions. \n",
    "\n",
    "from scipy.optimize import curve_fit\n",
    "print(tdr_group)\n",
    "\n",
    "def objective(x,a,b,c):\n",
    "    return a*x + b * x**2 + c\n",
    "\n",
    "popt,_ = curve_fit(objective,x,y)\n",
    "# summarize the parameter values\n",
    "a, b, c = popt\n",
    "print('y = %.5f * x + %.5f * x^2 + %.5f' % (a, b, c))\n",
    "# plot input vs output\n",
    "plt.scatter(x, y,marker='D',c='black')\n",
    "# # define a sequence of inputs between the smallest and largest known inputs\n",
    "x_line = np.arange(min(x), max(x), 1)\n",
    "# # calculate the output for the range\n",
    "y_line = objective(x_line, a, b, c)\n",
    "# # create a line plot for the mapping function\n",
    "plt.plot(x_line, y_line, '--', color='red')\n"
   ]
  },
  {
   "cell_type": "code",
   "execution_count": 10,
   "metadata": {
    "tags": []
   },
   "outputs": [],
   "source": [
    "# Threshold Post Processing AUDIO\n",
    "stimuli_df = pd.read_csv(dir_path +'results/'+ stimuli[1]+'.csv') "
   ]
  },
  {
   "cell_type": "code",
   "execution_count": 6,
   "metadata": {
    "tags": []
   },
   "outputs": [
    {
     "output_type": "stream",
     "name": "stdout",
     "text": "['20', '20', '30', '30']\n[46.222774391933335, 19.681909162138002, 20.177153627529247, 20.219752372448433]\n[115.849955972, 116.32706146400001, 93.11335135200001, 99.593497498]\n"
    }
   ],
   "source": [
    "print(threshold_list)\n",
    "print(tdr_list)\n",
    "print(navigation_time_list)"
   ]
  },
  {
   "cell_type": "code",
   "execution_count": 27,
   "metadata": {},
   "outputs": [
    {
     "output_type": "execute_result",
     "data": {
      "text/html": "<div>\n<style scoped>\n    .dataframe tbody tr th:only-of-type {\n        vertical-align: middle;\n    }\n\n    .dataframe tbody tr th {\n        vertical-align: top;\n    }\n\n    .dataframe thead th {\n        text-align: right;\n    }\n</style>\n<table border=\"1\" class=\"dataframe\">\n  <thead>\n    <tr style=\"text-align: right;\">\n      <th></th>\n      <th>Audio</th>\n      <th>Unnamed: 8</th>\n      <th>Unnamed: 9</th>\n      <th>Unnamed: 10</th>\n      <th>Unnamed: 11</th>\n      <th>Unnamed: 12</th>\n    </tr>\n  </thead>\n  <tbody>\n    <tr>\n      <th>0</th>\n      <td>10</td>\n      <td>20</td>\n      <td>30</td>\n      <td>40</td>\n      <td>60</td>\n      <td>80</td>\n    </tr>\n    <tr>\n      <th>1</th>\n      <td>2020-12-25-13-54-51</td>\n      <td>2020-12-25-13-49-03</td>\n      <td>2020-12-25-13-42-09</td>\n      <td>2020-12-25-13-34-56</td>\n      <td>2020-12-25-13-28-10</td>\n      <td>2020-12-25-13-19-48</td>\n    </tr>\n    <tr>\n      <th>2</th>\n      <td>2020-12-26-13-54-10</td>\n      <td>2020-12-26-13-50-37</td>\n      <td>2020-12-26-13-47-19</td>\n      <td>2020-12-26-13-43-14</td>\n      <td>2020-12-26-13-34-08</td>\n      <td>2020-12-26-13-27-15</td>\n    </tr>\n    <tr>\n      <th>3</th>\n      <td>2020-12-26-18-10-15</td>\n      <td>2020-12-26-18-04-23</td>\n      <td>2020-12-26-17-58-15</td>\n      <td>2020-12-26-17-54-13</td>\n      <td>2020-12-26-17-47-18</td>\n      <td>2020-12-26-17-40-00</td>\n    </tr>\n    <tr>\n      <th>4</th>\n      <td>2020-12-27-14-19-27</td>\n      <td>2020-12-27-14-15-01</td>\n      <td>2020-12-27-14-11-31</td>\n      <td>2020-12-27-14-08-29</td>\n      <td>2020-12-27-14-04-04</td>\n      <td>2020-12-27-13-58-18</td>\n    </tr>\n    <tr>\n      <th>5</th>\n      <td>2020-12-29-11-20-37</td>\n      <td>2020-12-29-11-29-17</td>\n      <td>2020-12-29-11-32-19</td>\n      <td>2020-12-29-11-34-53</td>\n      <td>2020-12-29-11-38-00</td>\n      <td>2020-12-29-11-41-51</td>\n    </tr>\n    <tr>\n      <th>6</th>\n      <td>2020-12-29-14-13-05</td>\n      <td>2020-12-29-14-16-55</td>\n      <td>2020-12-29-14-19-43</td>\n      <td>2020-12-29-14-22-13</td>\n      <td>2020-12-29-14-22-13</td>\n      <td>2020-12-29-14-28-43</td>\n    </tr>\n    <tr>\n      <th>7</th>\n      <td>2020-12-29-17-04-34</td>\n      <td>2020-12-29-17-01-39</td>\n      <td>2020-12-29-16-59-04</td>\n      <td>2020-12-29-16-56-09</td>\n      <td>2020-12-29-16-52-28</td>\n      <td>2020-12-29-16-48-07</td>\n    </tr>\n  </tbody>\n</table>\n</div>",
      "text/plain": "                 Audio           Unnamed: 8           Unnamed: 9  \\\n0                   10                   20                   30   \n1  2020-12-25-13-54-51  2020-12-25-13-49-03  2020-12-25-13-42-09   \n2  2020-12-26-13-54-10  2020-12-26-13-50-37  2020-12-26-13-47-19   \n3  2020-12-26-18-10-15  2020-12-26-18-04-23  2020-12-26-17-58-15   \n4  2020-12-27-14-19-27  2020-12-27-14-15-01  2020-12-27-14-11-31   \n5  2020-12-29-11-20-37  2020-12-29-11-29-17  2020-12-29-11-32-19   \n6  2020-12-29-14-13-05  2020-12-29-14-16-55  2020-12-29-14-19-43   \n7  2020-12-29-17-04-34  2020-12-29-17-01-39  2020-12-29-16-59-04   \n\n           Unnamed: 10          Unnamed: 11          Unnamed: 12  \n0                   40                   60                   80  \n1  2020-12-25-13-34-56  2020-12-25-13-28-10  2020-12-25-13-19-48  \n2  2020-12-26-13-43-14  2020-12-26-13-34-08  2020-12-26-13-27-15  \n3  2020-12-26-17-54-13  2020-12-26-17-47-18  2020-12-26-17-40-00  \n4  2020-12-27-14-08-29  2020-12-27-14-04-04  2020-12-27-13-58-18  \n5  2020-12-29-11-34-53  2020-12-29-11-38-00  2020-12-29-11-41-51  \n6  2020-12-29-14-22-13  2020-12-29-14-22-13  2020-12-29-14-28-43  \n7  2020-12-29-16-56-09  2020-12-29-16-52-28  2020-12-29-16-48-07  "
     },
     "metadata": {},
     "execution_count": 27
    }
   ],
   "source": [
    "audio_df"
   ]
  },
  {
   "cell_type": "code",
   "execution_count": 28,
   "metadata": {
    "tags": []
   },
   "outputs": [
    {
     "output_type": "stream",
     "name": "stdout",
     "text": "10\n2020-12-25-13-54-51\n2020-12-26-13-54-10\n2020-12-26-18-10-15\n2020-12-27-14-19-27\n2020-12-29-11-20-37\n2020-12-29-14-13-05\n2020-12-29-17-04-34\n20\n2020-12-25-13-49-03\n2020-12-26-13-50-37\n2020-12-26-18-04-23\n2020-12-27-14-15-01\n2020-12-29-11-29-17\n2020-12-29-14-16-55\n2020-12-29-17-01-39\n30\n2020-12-25-13-42-09\n2020-12-26-13-47-19\n2020-12-26-17-58-15\n2020-12-27-14-11-31\n2020-12-29-11-32-19\n2020-12-29-14-19-43\n2020-12-29-16-59-04\n40\n2020-12-25-13-34-56\n2020-12-26-13-43-14\n2020-12-26-17-54-13\n2020-12-27-14-08-29\n2020-12-29-11-34-53\n2020-12-29-14-22-13\n2020-12-29-16-56-09\n60\n2020-12-25-13-28-10\n2020-12-26-13-34-08\n2020-12-26-17-47-18\n2020-12-27-14-04-04\n2020-12-29-11-38-00\n2020-12-29-14-22-13\n2020-12-29-16-52-28\n80\n2020-12-25-13-19-48\n2020-12-26-13-27-15\n2020-12-26-17-40-00\n2020-12-27-13-58-18\n2020-12-29-11-41-51\n2020-12-29-14-28-43\n2020-12-29-16-48-07\n"
    }
   ],
   "source": [
    "home = expanduser(\"~\")\n",
    "# dir_path = home + '/Animal_Navigation/data/tamura/'\n",
    "dir_path = os.getcwd() + \"/\"\n",
    "\n",
    "file_df = pd.read_csv(dir_path + '/Exp_time_mapping.csv')\n",
    "light_df = file_df.iloc[0:8,1:7]\n",
    "audio_df = file_df.iloc[0:8,7:13]\n",
    "\n",
    "# light_df = audio_df\n",
    "\n",
    "#___ PreProcessing for loop_______________\n",
    "file_path = \"2020-12-29-13-49-49\"\n",
    "threshold_list = []\n",
    "exp_date_list = []\n",
    "for col_index,col_val in enumerate(light_df.iloc[0,:]):\n",
    "    print(col_val)\n",
    "    for row_index,row_val in enumerate(light_df.iloc[1:,col_index]):\n",
    "        threshold_list.append(col_val)\n",
    "        exp_date_list.append(row_val)\n",
    "        file_path = row_val\n",
    "        # This is where the entire list for tdr calculation & time calculation . \n",
    "\n",
    "        # tdr_list.append() \n",
    "        print(row_val)\n",
    "\n"
   ]
  },
  {
   "cell_type": "code",
   "execution_count": 39,
   "metadata": {},
   "outputs": [
    {
     "output_type": "execute_result",
     "data": {
      "text/html": "<div>\n<style scoped>\n    .dataframe tbody tr th:only-of-type {\n        vertical-align: middle;\n    }\n\n    .dataframe tbody tr th {\n        vertical-align: top;\n    }\n\n    .dataframe thead th {\n        text-align: right;\n    }\n</style>\n<table border=\"1\" class=\"dataframe\">\n  <thead>\n    <tr style=\"text-align: right;\">\n      <th></th>\n      <th>Light</th>\n      <th>Unnamed: 2</th>\n      <th>Unnamed: 3</th>\n      <th>Unnamed: 4</th>\n      <th>Unnamed: 5</th>\n      <th>Unnamed: 6</th>\n    </tr>\n  </thead>\n  <tbody>\n    <tr>\n      <th>0</th>\n      <td>10</td>\n      <td>20</td>\n      <td>30</td>\n      <td>40</td>\n      <td>60</td>\n      <td>80</td>\n    </tr>\n    <tr>\n      <th>1</th>\n      <td>2020-12-25-12-42-18</td>\n      <td>2020-12-25-12-48-03</td>\n      <td>2020-12-25-12-52-20</td>\n      <td>2020-12-25-12-54-59</td>\n      <td>2020-12-25-12-57-38</td>\n      <td>2020-12-25-13-00-25</td>\n    </tr>\n    <tr>\n      <th>2</th>\n      <td>2020-12-26-12-56-44</td>\n      <td>2020-12-26-13-00-49</td>\n      <td>2020-12-26-13-03-58</td>\n      <td>2020-12-26-13-07-32</td>\n      <td>2020-12-26-13-10-21</td>\n      <td>2020-12-26-13-14-51</td>\n    </tr>\n    <tr>\n      <th>3</th>\n      <td>2020-12-26-19-12-07</td>\n      <td>2020-12-26-19-16-43</td>\n      <td>2020-12-26-19-19-36</td>\n      <td>2020-12-26-19-22-14</td>\n      <td>2020-12-26-19-24-28</td>\n      <td>2020-12-26-19-27-48</td>\n    </tr>\n    <tr>\n      <th>4</th>\n      <td>2020-12-27-13-16-58</td>\n      <td>2020-12-27-13-20-29</td>\n      <td>2020-12-27-13-23-02</td>\n      <td>2020-12-27-13-25-47</td>\n      <td>2020-12-27-13-25-47</td>\n      <td>2020-12-27-13-32-17</td>\n    </tr>\n    <tr>\n      <th>5</th>\n      <td>2020-12-29-11-01-21</td>\n      <td>2020-12-29-10-58-47</td>\n      <td>2020-12-29-10-56-02</td>\n      <td>2020-12-29-10-53-17</td>\n      <td>2020-12-29-10-49-34</td>\n      <td>2020-12-29-10-39-25</td>\n    </tr>\n    <tr>\n      <th>6</th>\n      <td>2020-12-29-13-34-35</td>\n      <td>2020-12-29-13-37-49</td>\n      <td>2020-12-29-13-37-49</td>\n      <td>2020-12-29-13-43-43</td>\n      <td>2020-12-29-13-46-44</td>\n      <td>2020-12-29-13-49-49</td>\n    </tr>\n    <tr>\n      <th>7</th>\n      <td>2020-12-29-16-16-33</td>\n      <td>2020-12-29-16-19-13</td>\n      <td>2020-12-29-16-21-53</td>\n      <td>2020-12-29-16-23-54</td>\n      <td>2020-12-29-16-26-14</td>\n      <td>2020-12-29-16-30-22</td>\n    </tr>\n  </tbody>\n</table>\n</div>",
      "text/plain": "                 Light           Unnamed: 2           Unnamed: 3  \\\n0                   10                   20                   30   \n1  2020-12-25-12-42-18  2020-12-25-12-48-03  2020-12-25-12-52-20   \n2  2020-12-26-12-56-44  2020-12-26-13-00-49  2020-12-26-13-03-58   \n3  2020-12-26-19-12-07  2020-12-26-19-16-43  2020-12-26-19-19-36   \n4  2020-12-27-13-16-58  2020-12-27-13-20-29  2020-12-27-13-23-02   \n5  2020-12-29-11-01-21  2020-12-29-10-58-47  2020-12-29-10-56-02   \n6  2020-12-29-13-34-35  2020-12-29-13-37-49  2020-12-29-13-37-49   \n7  2020-12-29-16-16-33  2020-12-29-16-19-13  2020-12-29-16-21-53   \n\n            Unnamed: 4           Unnamed: 5           Unnamed: 6  \n0                   40                   60                   80  \n1  2020-12-25-12-54-59  2020-12-25-12-57-38  2020-12-25-13-00-25  \n2  2020-12-26-13-07-32  2020-12-26-13-10-21  2020-12-26-13-14-51  \n3  2020-12-26-19-22-14  2020-12-26-19-24-28  2020-12-26-19-27-48  \n4  2020-12-27-13-25-47  2020-12-27-13-25-47  2020-12-27-13-32-17  \n5  2020-12-29-10-53-17  2020-12-29-10-49-34  2020-12-29-10-39-25  \n6  2020-12-29-13-43-43  2020-12-29-13-46-44  2020-12-29-13-49-49  \n7  2020-12-29-16-23-54  2020-12-29-16-26-14  2020-12-29-16-30-22  "
     },
     "metadata": {},
     "execution_count": 39
    }
   ],
   "source": [
    "home = expanduser(\"~\")\n",
    "dir_path = os.getcwd() + \"/\"\n",
    "file_df = pd.read_csv(dir_path + '/Exp_time_mapping.csv')\n",
    "light_df = file_df.iloc[0:8,1:7]\n",
    "audio_df = file_df.iloc[0:8,7:13]\n",
    "\n"
   ]
  },
  {
   "cell_type": "code",
   "execution_count": 58,
   "metadata": {
    "tags": []
   },
   "outputs": [
    {
     "output_type": "stream",
     "name": "stdout",
     "text": "<class 'str'>\n<class 'str'>\n<class 'str'>\n<class 'str'>\n<class 'str'>\n<class 'str'>\n<class 'str'>\n<class 'str'>\n<class 'str'>\n<class 'str'>\n<class 'str'>\n<class 'str'>\n<class 'str'>\n<class 'str'>\n<class 'str'>\n<class 'str'>\n<class 'str'>\n<class 'str'>\n<class 'str'>\n<class 'str'>\n<class 'str'>\n<class 'str'>\n<class 'str'>\n<class 'str'>\n<class 'str'>\n<class 'str'>\n<class 'str'>\n<class 'str'>\n<class 'str'>\n<class 'str'>\n<class 'str'>\n<class 'str'>\n<class 'str'>\n<class 'str'>\n<class 'str'>\n<class 'str'>\n<class 'str'>\n<class 'str'>\n<class 'str'>\n<class 'str'>\n<class 'str'>\n<class 'str'>\n"
    }
   ],
   "source": [
    "threshold_list = []\n",
    "exp_date_list = []\n",
    "tdr_list=[]\n",
    "navigation_time_list=[]\n",
    "for col_index,col_val in enumerate(light_df.iloc[0,:]):\n",
    "    # print(col_val)\n",
    "    for row_index,row_val in enumerate(light_df.iloc[1:,col_index]):\n",
    "        \n",
    "\n",
    "        file_path=row_val\n",
    "        # This is where the entire list for tdr calculation & time calculation . \n",
    "        state_path = dir_path + file_path + '/_slash_state.csv' \n",
    "        waypoint_path = dir_path + file_path + '/_slash_move_base_slash_goal.csv' \n",
    "        trajectory_path = dir_path + file_path + '/_slash_map_slash_robot_pose.csv' \n",
    "        signal_path = dir_path + file_path + '/_slash_cmd_sig.csv'\n",
    "\n",
    "        time_column = \"rosbagTimestamp\"\n",
    "        start_time = 0\n",
    "        end_time = 0\n",
    "        state_df = pd.read_csv(state_path)\n",
    "        waypoint_df = pd.read_csv(waypoint_path)\n",
    "        trajectory_df = pd.read_csv(trajectory_path)\n",
    "\n",
    "\n",
    "        # Geeting the start time & end time from state_df.\n",
    "        state_df.loc[:,time_column]\n",
    "        state_list = list(state_df.loc[:,'state'])\n",
    "\n",
    "        for index,state in enumerate(state_list):\n",
    "            if state == 1 :\n",
    "                \n",
    "                start_time = state_df.loc[index,time_column]\n",
    "                print(\"start\")\n",
    "                \n",
    "            if state == 2 : \n",
    "                \n",
    "                end_time = state_df.loc[index,time_column]\n",
    "                print(\"end\")\n",
    "\n",
    "\n",
    "        # If there is no start_time / end_time, then make the starting time or end time.\n",
    "        if not start_time :\n",
    "            start_time = trajectory_df[time_column].iloc[0]\n",
    "        if not end_time :\n",
    "            end_time = trajectory_df[time_column].iloc[-1]\n",
    "            \n",
    "\n",
    "        waypoint_list_x = list(waypoint_df.loc[:,'x'])\n",
    "        waypoint_list_y = list(waypoint_df.loc[:,'y'])\n",
    "        # Trying to add waypoint list to include the starting positoin as well. \n",
    "        for index,time in enumerate(list(trajectory_df[time_column])):\n",
    "            start_coordinate = []\n",
    "            if time >= start_time:\n",
    "                start_coordinate.append(trajectory_df[\"x\"].iloc[index])\n",
    "                start_coordinate.append(trajectory_df[\"y\"].iloc[index])\n",
    "                break \n",
    "        waypoint_list_x.insert(0,start_coordinate[0])\n",
    "        waypoint_list_y.insert(0,start_coordinate[1])\n",
    "\n",
    "\n",
    "\n",
    "\n",
    "        # Now, this list is extracted based on the start_time & end_time. \n",
    "        trajectory_list_x = interval_extractor(time_column,start_time,end_time,trajectory_df,'x')\n",
    "        trajectory_list_y = interval_extractor(time_column,start_time,end_time,trajectory_df,'y')\n",
    "\n",
    "\n",
    "\n",
    "        # # velocity_list_net,velocity_list_x,velocity_list_y,velocity_time = velocity_calc(time_column,start_time,end_time,trajectory_df,\"x\",\"y\")\n",
    "        # velocity_df = velocity_calc(time_column,start_time,end_time,trajectory_df,\"x\",\"y\")\n",
    "\n",
    "\n",
    "        # Measure of Deviation 1\n",
    "        waypoint_distance = euclidean_distance_calc(waypoint_list_x,waypoint_list_y)\n",
    "        trajectory_distance = euclidean_distance_calc(trajectory_list_x,trajectory_list_y)\n",
    "        print (\"waypoint_distance\",waypoint_distance)\n",
    "        print (\"trajectory_distance\",trajectory_distance)\n",
    "        trajectory_ratio = (((trajectory_distance-waypoint_distance)/waypoint_distance))*100\n",
    "\n",
    "        # Trajectory Deviation Ratio : TDR \n",
    "        print (\"TDR\",trajectory_ratio)\n",
    "\n",
    "        # Navigation time evaluation: \n",
    "        navigation_time = (end_time - start_time) * pow(10,-9)\n",
    "        print (\"navigation_time\",navigation_time)\n",
    "\n",
    "\n",
    "\n",
    "        image_path = dir_path+file_path+\"/\"+file_path+\".png\"\n",
    "        output_path =  dir_path+file_path+\"/\"+file_path+\".txt\"\n",
    "        with open(output_path, 'w') as f:\n",
    "            # f.write(\"waypoint_distance\",waypoint_distance)\n",
    "            print (\"waypoint_distance: {} \".format(waypoint_distance),file=f)    # Python 3.x\n",
    "            print (\"trajectory_distance: {} \".format(trajectory_distance),file=f)    # Python 3.x\n",
    "            print (\"TDR: {} \".format(trajectory_ratio),file=f)    # Python 3.x\n",
    "            print (\"navigation_time: {} \".format(navigation_time),file=f)    # Python 3.x\n",
    "        \n",
    "        ## Adding the TDR & navigation_time to the list & also appending the threshold.\n",
    "        threshold_list.append(col_val) # Appending threshold list. \n",
    "        tdr_list.append(trajectory_ratio)\n",
    "        navigation_time_list.append(navigation_time)\n",
    "\n",
    "        #____PLOTTING_____###\n",
    "        fig, ax = plt.subplots()\n",
    "        ax.plot(waypoint_list_x,waypoint_list_y,'ro-',label=\"Waypoints\")\n",
    "        ax.plot(trajectory_list_x,trajectory_list_y,'b.-',label=\"Trajectory\")\n",
    "        plt.xlabel('X distance',fontsize=22)\n",
    "        plt.ylabel('Y distance',fontsize=22)\n",
    "        #Plotting startig & ending poistions \n",
    "        ax.scatter(trajectory_list_x[0],trajectory_list_y[0],s=100,marker='D',c='red',label = \"Begin\")\n",
    "        ax.scatter(trajectory_list_x[-1],trajectory_list_y[-1],s=100,marker='D',c='black',label = \"End\")\n",
    "        plt.title(\"Human Trajectory with Waypoint\",fontsize=22)\n",
    "        plt.legend()\n",
    "        plt.savefig(image_path,bbox_inches='tight')\n",
    "        plt.show()\n",
    "\n",
    "        # tdr_list.append() \n",
    "        print(type(row_val))\n",
    "print(threshold_list)\n",
    "print(tdr_list)\n",
    "print(navigation_time_list)\n",
    "    "
   ]
  },
  {
   "cell_type": "code",
   "execution_count": 30,
   "metadata": {},
   "outputs": [
    {
     "output_type": "display_data",
     "data": {
      "image/png": "[encoded data removed]",
      "text/plain": "<Figure size 432x288 with 1 Axes>",
      "image/svg+xml": "<?xml version=\"1.0\" encoding=\"utf-8\" standalone=\"no\"?>\n<!DOCTYPE svg PUBLIC \"-//W3C//DTD SVG 1.1//EN\"\n  \"http://www.w3.org/Graphics/SVG/1.1/DTD/svg11.dtd\">\n<!-- Created with matplotlib (https://matplotlib.org/) -->\n<svg height=\"251.985937pt\" version=\"1.1\" viewBox=\"0 0 378.185469 251.985937\" width=\"378.185469pt\" xmlns=\"http://www.w3.org/2000/svg\" xmlns:xlink=\"http://www.w3.org/1999/xlink\">\n <metadata>\n  <rdf:RDF xmlns:cc=\"http://creativecommons.org/ns#\" xmlns:dc=\"http://purl.org/dc/elements/1.1/\" xmlns:rdf=\"http://www.w3.org/1999/02/22-rdf-syntax-ns#\">\n   <cc:Work>\n    <dc:type rdf:resource=\"http://purl.org/dc/dcmitype/StillImage\"/>\n    <dc:date>2021-01-11T16:47:42.215665</dc:date>\n    <dc:format>image/svg+xml</dc:format>\n    <dc:creator>\n     <cc:Agent>\n      <dc:title>Matplotlib v3.3.3, https://matplotlib.org/</dc:title>\n     </cc:Agent>\n    </dc:creator>\n   </cc:Work>\n  </rdf:RDF>\n </metadata>\n <defs>\n  <style type=\"text/css\">*{stroke-linecap:butt;stroke-linejoin:round;}</style>\n </defs>\n <g id=\"figure_1\">\n  <g id=\"patch_1\">\n   <path d=\"M 0 251.985937 \nL 378.185469 251.985937 \nL 378.185469 0 \nL 0 0 \nz\n\" style=\"fill:#ffffff;\"/>\n  </g>\n  <g id=\"axes_1\">\n   <g id=\"patch_2\">\n    <path d=\"M 36.185469 224.64 \nL 370.985469 224.64 \nL 370.985469 7.2 \nL 36.185469 7.2 \nz\n\" style=\"fill:#eaeaf2;\"/>\n   </g>\n   <g id=\"matplotlib.axis_1\">\n    <g id=\"xtick_1\">\n     <g id=\"line2d_1\">\n      <path clip-path=\"url(#p66492bfb12)\" d=\"M 51.403651 224.64 \nL 51.403651 7.2 \n\" style=\"fill:none;stroke:#ffffff;stroke-linecap:round;\"/>\n     </g>\n     <g id=\"text_1\">\n      <!-- 10.0 -->\n      <g style=\"fill:#262626;\" transform=\"translate(37.834119 242.498281)scale(0.11 -0.11)\">\n       <defs>\n        <path d=\"M 11.71875 12.984375 \nL 28.328125 12.984375 \nL 28.328125 60.109375 \nL 11.28125 56.59375 \nL 11.28125 69.390625 \nL 28.21875 72.90625 \nL 46.09375 72.90625 \nL 46.09375 12.984375 \nL 62.703125 12.984375 \nL 62.703125 0 \nL 11.71875 0 \nz\n\" id=\"DejaVuSans-Bold-49\"/>\n        <path d=\"M 46 36.53125 \nQ 46 50.203125 43.4375 55.78125 \nQ 40.875 61.375 34.8125 61.375 \nQ 28.765625 61.375 26.171875 55.78125 \nQ 23.578125 50.203125 23.578125 36.53125 \nQ 23.578125 22.703125 26.171875 17.03125 \nQ 28.765625 11.375 34.8125 11.375 \nQ 40.828125 11.375 43.40625 17.03125 \nQ 46 22.703125 46 36.53125 \nz\nM 64.796875 36.375 \nQ 64.796875 18.265625 56.984375 8.421875 \nQ 49.171875 -1.421875 34.8125 -1.421875 \nQ 20.40625 -1.421875 12.59375 8.421875 \nQ 4.78125 18.265625 4.78125 36.375 \nQ 4.78125 54.546875 12.59375 64.375 \nQ 20.40625 74.21875 34.8125 74.21875 \nQ 49.171875 74.21875 56.984375 64.375 \nQ 64.796875 54.546875 64.796875 36.375 \nz\n\" id=\"DejaVuSans-Bold-48\"/>\n        <path d=\"M 10.203125 18.890625 \nL 27.78125 18.890625 \nL 27.78125 0 \nL 10.203125 0 \nz\n\" id=\"DejaVuSans-Bold-46\"/>\n       </defs>\n       <use xlink:href=\"#DejaVuSans-Bold-49\"/>\n       <use x=\"69.580078\" xlink:href=\"#DejaVuSans-Bold-48\"/>\n       <use x=\"139.160156\" xlink:href=\"#DejaVuSans-Bold-46\"/>\n       <use x=\"177.148438\" xlink:href=\"#DejaVuSans-Bold-48\"/>\n      </g>\n     </g>\n    </g>\n    <g id=\"xtick_2\">\n     <g id=\"line2d_2\">\n      <path clip-path=\"url(#p66492bfb12)\" d=\"M 89.449105 224.64 \nL 89.449105 7.2 \n\" style=\"fill:none;stroke:#ffffff;stroke-linecap:round;\"/>\n     </g>\n     <g id=\"text_2\">\n      <!-- 12.5 -->\n      <g style=\"fill:#262626;\" transform=\"translate(75.879574 242.498281)scale(0.11 -0.11)\">\n       <defs>\n        <path d=\"M 28.8125 13.8125 \nL 60.890625 13.8125 \nL 60.890625 0 \nL 7.90625 0 \nL 7.90625 13.8125 \nL 34.515625 37.3125 \nQ 38.09375 40.53125 39.796875 43.609375 \nQ 41.5 46.6875 41.5 50 \nQ 41.5 55.125 38.0625 58.25 \nQ 34.625 61.375 28.90625 61.375 \nQ 24.515625 61.375 19.28125 59.5 \nQ 14.0625 57.625 8.109375 53.90625 \nL 8.109375 69.921875 \nQ 14.453125 72.015625 20.65625 73.109375 \nQ 26.859375 74.21875 32.8125 74.21875 \nQ 45.90625 74.21875 53.15625 68.453125 \nQ 60.40625 62.703125 60.40625 52.390625 \nQ 60.40625 46.4375 57.328125 41.28125 \nQ 54.25 36.140625 44.390625 27.484375 \nz\n\" id=\"DejaVuSans-Bold-50\"/>\n        <path d=\"M 10.59375 72.90625 \nL 57.328125 72.90625 \nL 57.328125 59.078125 \nL 25.59375 59.078125 \nL 25.59375 47.796875 \nQ 27.734375 48.390625 29.90625 48.703125 \nQ 32.078125 49.03125 34.421875 49.03125 \nQ 47.75 49.03125 55.171875 42.359375 \nQ 62.59375 35.6875 62.59375 23.78125 \nQ 62.59375 11.96875 54.515625 5.265625 \nQ 46.4375 -1.421875 32.078125 -1.421875 \nQ 25.875 -1.421875 19.796875 -0.21875 \nQ 13.71875 0.984375 7.71875 3.421875 \nL 7.71875 18.21875 \nQ 13.671875 14.796875 19.015625 13.078125 \nQ 24.359375 11.375 29.109375 11.375 \nQ 35.9375 11.375 39.859375 14.71875 \nQ 43.796875 18.0625 43.796875 23.78125 \nQ 43.796875 29.546875 39.859375 32.859375 \nQ 35.9375 36.1875 29.109375 36.1875 \nQ 25.046875 36.1875 20.453125 35.125 \nQ 15.875 34.078125 10.59375 31.890625 \nz\n\" id=\"DejaVuSans-Bold-53\"/>\n       </defs>\n       <use xlink:href=\"#DejaVuSans-Bold-49\"/>\n       <use x=\"69.580078\" xlink:href=\"#DejaVuSans-Bold-50\"/>\n       <use x=\"139.160156\" xlink:href=\"#DejaVuSans-Bold-46\"/>\n       <use x=\"177.148438\" xlink:href=\"#DejaVuSans-Bold-53\"/>\n      </g>\n     </g>\n    </g>\n    <g id=\"xtick_3\">\n     <g id=\"line2d_3\">\n      <path clip-path=\"url(#p66492bfb12)\" d=\"M 127.49456 224.64 \nL 127.49456 7.2 \n\" style=\"fill:none;stroke:#ffffff;stroke-linecap:round;\"/>\n     </g>\n     <g id=\"text_3\">\n      <!-- 15.0 -->\n      <g style=\"fill:#262626;\" transform=\"translate(113.925028 242.498281)scale(0.11 -0.11)\">\n       <use xlink:href=\"#DejaVuSans-Bold-49\"/>\n       <use x=\"69.580078\" xlink:href=\"#DejaVuSans-Bold-53\"/>\n       <use x=\"139.160156\" xlink:href=\"#DejaVuSans-Bold-46\"/>\n       <use x=\"177.148438\" xlink:href=\"#DejaVuSans-Bold-48\"/>\n      </g>\n     </g>\n    </g>\n    <g id=\"xtick_4\">\n     <g id=\"line2d_4\">\n      <path clip-path=\"url(#p66492bfb12)\" d=\"M 165.540014 224.64 \nL 165.540014 7.2 \n\" style=\"fill:none;stroke:#ffffff;stroke-linecap:round;\"/>\n     </g>\n     <g id=\"text_4\">\n      <!-- 17.5 -->\n      <g style=\"fill:#262626;\" transform=\"translate(151.970483 242.498281)scale(0.11 -0.11)\">\n       <defs>\n        <path d=\"M 6.6875 72.90625 \nL 61.625 72.90625 \nL 61.625 62.3125 \nL 33.203125 0 \nL 14.890625 0 \nL 41.796875 59.078125 \nL 6.6875 59.078125 \nz\n\" id=\"DejaVuSans-Bold-55\"/>\n       </defs>\n       <use xlink:href=\"#DejaVuSans-Bold-49\"/>\n       <use x=\"69.580078\" xlink:href=\"#DejaVuSans-Bold-55\"/>\n       <use x=\"139.160156\" xlink:href=\"#DejaVuSans-Bold-46\"/>\n       <use x=\"177.148438\" xlink:href=\"#DejaVuSans-Bold-53\"/>\n      </g>\n     </g>\n    </g>\n    <g id=\"xtick_5\">\n     <g id=\"line2d_5\">\n      <path clip-path=\"url(#p66492bfb12)\" d=\"M 203.585469 224.64 \nL 203.585469 7.2 \n\" style=\"fill:none;stroke:#ffffff;stroke-linecap:round;\"/>\n     </g>\n     <g id=\"text_5\">\n      <!-- 20.0 -->\n      <g style=\"fill:#262626;\" transform=\"translate(190.015938 242.498281)scale(0.11 -0.11)\">\n       <use xlink:href=\"#DejaVuSans-Bold-50\"/>\n       <use x=\"69.580078\" xlink:href=\"#DejaVuSans-Bold-48\"/>\n       <use x=\"139.160156\" xlink:href=\"#DejaVuSans-Bold-46\"/>\n       <use x=\"177.148438\" xlink:href=\"#DejaVuSans-Bold-48\"/>\n      </g>\n     </g>\n    </g>\n    <g id=\"xtick_6\">\n     <g id=\"line2d_6\">\n      <path clip-path=\"url(#p66492bfb12)\" d=\"M 241.630923 224.64 \nL 241.630923 7.2 \n\" style=\"fill:none;stroke:#ffffff;stroke-linecap:round;\"/>\n     </g>\n     <g id=\"text_6\">\n      <!-- 22.5 -->\n      <g style=\"fill:#262626;\" transform=\"translate(228.061392 242.498281)scale(0.11 -0.11)\">\n       <use xlink:href=\"#DejaVuSans-Bold-50\"/>\n       <use x=\"69.580078\" xlink:href=\"#DejaVuSans-Bold-50\"/>\n       <use x=\"139.160156\" xlink:href=\"#DejaVuSans-Bold-46\"/>\n       <use x=\"177.148438\" xlink:href=\"#DejaVuSans-Bold-53\"/>\n      </g>\n     </g>\n    </g>\n    <g id=\"xtick_7\">\n     <g id=\"line2d_7\">\n      <path clip-path=\"url(#p66492bfb12)\" d=\"M 279.676378 224.64 \nL 279.676378 7.2 \n\" style=\"fill:none;stroke:#ffffff;stroke-linecap:round;\"/>\n     </g>\n     <g id=\"text_7\">\n      <!-- 25.0 -->\n      <g style=\"fill:#262626;\" transform=\"translate(266.106847 242.498281)scale(0.11 -0.11)\">\n       <use xlink:href=\"#DejaVuSans-Bold-50\"/>\n       <use x=\"69.580078\" xlink:href=\"#DejaVuSans-Bold-53\"/>\n       <use x=\"139.160156\" xlink:href=\"#DejaVuSans-Bold-46\"/>\n       <use x=\"177.148438\" xlink:href=\"#DejaVuSans-Bold-48\"/>\n      </g>\n     </g>\n    </g>\n    <g id=\"xtick_8\">\n     <g id=\"line2d_8\">\n      <path clip-path=\"url(#p66492bfb12)\" d=\"M 317.721832 224.64 \nL 317.721832 7.2 \n\" style=\"fill:none;stroke:#ffffff;stroke-linecap:round;\"/>\n     </g>\n     <g id=\"text_8\">\n      <!-- 27.5 -->\n      <g style=\"fill:#262626;\" transform=\"translate(304.152301 242.498281)scale(0.11 -0.11)\">\n       <use xlink:href=\"#DejaVuSans-Bold-50\"/>\n       <use x=\"69.580078\" xlink:href=\"#DejaVuSans-Bold-55\"/>\n       <use x=\"139.160156\" xlink:href=\"#DejaVuSans-Bold-46\"/>\n       <use x=\"177.148438\" xlink:href=\"#DejaVuSans-Bold-53\"/>\n      </g>\n     </g>\n    </g>\n    <g id=\"xtick_9\">\n     <g id=\"line2d_9\">\n      <path clip-path=\"url(#p66492bfb12)\" d=\"M 355.767287 224.64 \nL 355.767287 7.2 \n\" style=\"fill:none;stroke:#ffffff;stroke-linecap:round;\"/>\n     </g>\n     <g id=\"text_9\">\n      <!-- 30.0 -->\n      <g style=\"fill:#262626;\" transform=\"translate(342.197756 242.498281)scale(0.11 -0.11)\">\n       <defs>\n        <path d=\"M 46.578125 39.3125 \nQ 53.953125 37.40625 57.78125 32.6875 \nQ 61.625 27.984375 61.625 20.703125 \nQ 61.625 9.859375 53.3125 4.21875 \nQ 45.015625 -1.421875 29.109375 -1.421875 \nQ 23.484375 -1.421875 17.84375 -0.515625 \nQ 12.203125 0.390625 6.6875 2.203125 \nL 6.6875 16.703125 \nQ 11.96875 14.0625 17.15625 12.71875 \nQ 22.359375 11.375 27.390625 11.375 \nQ 34.859375 11.375 38.84375 13.953125 \nQ 42.828125 16.546875 42.828125 21.390625 \nQ 42.828125 26.375 38.75 28.9375 \nQ 34.671875 31.5 26.703125 31.5 \nL 19.1875 31.5 \nL 19.1875 43.609375 \nL 27.09375 43.609375 \nQ 34.1875 43.609375 37.640625 45.828125 \nQ 41.109375 48.046875 41.109375 52.59375 \nQ 41.109375 56.78125 37.734375 59.078125 \nQ 34.375 61.375 28.21875 61.375 \nQ 23.6875 61.375 19.046875 60.34375 \nQ 14.40625 59.328125 9.8125 57.328125 \nL 9.8125 71.09375 \nQ 15.375 72.65625 20.84375 73.4375 \nQ 26.3125 74.21875 31.59375 74.21875 \nQ 45.796875 74.21875 52.84375 69.546875 \nQ 59.90625 64.890625 59.90625 55.515625 \nQ 59.90625 49.125 56.53125 45.046875 \nQ 53.171875 40.96875 46.578125 39.3125 \nz\n\" id=\"DejaVuSans-Bold-51\"/>\n       </defs>\n       <use xlink:href=\"#DejaVuSans-Bold-51\"/>\n       <use x=\"69.580078\" xlink:href=\"#DejaVuSans-Bold-48\"/>\n       <use x=\"139.160156\" xlink:href=\"#DejaVuSans-Bold-46\"/>\n       <use x=\"177.148438\" xlink:href=\"#DejaVuSans-Bold-48\"/>\n      </g>\n     </g>\n    </g>\n   </g>\n   <g id=\"matplotlib.axis_2\">\n    <g id=\"ytick_1\">\n     <g id=\"line2d_10\">\n      <path clip-path=\"url(#p66492bfb12)\" d=\"M 36.185469 214.756364 \nL 370.985469 214.756364 \n\" style=\"fill:none;stroke:#ffffff;stroke-linecap:round;\"/>\n     </g>\n     <g id=\"text_10\">\n      <!-- 1.0 -->\n      <g style=\"fill:#262626;\" transform=\"translate(7.2 218.935504)scale(0.11 -0.11)\">\n       <use xlink:href=\"#DejaVuSans-Bold-49\"/>\n       <use x=\"69.580078\" xlink:href=\"#DejaVuSans-Bold-46\"/>\n       <use x=\"107.568359\" xlink:href=\"#DejaVuSans-Bold-48\"/>\n      </g>\n     </g>\n    </g>\n    <g id=\"ytick_2\">\n     <g id=\"line2d_11\">\n      <path clip-path=\"url(#p66492bfb12)\" d=\"M 36.185469 190.047273 \nL 370.985469 190.047273 \n\" style=\"fill:none;stroke:#ffffff;stroke-linecap:round;\"/>\n     </g>\n     <g id=\"text_11\">\n      <!-- 1.5 -->\n      <g style=\"fill:#262626;\" transform=\"translate(7.2 194.226413)scale(0.11 -0.11)\">\n       <use xlink:href=\"#DejaVuSans-Bold-49\"/>\n       <use x=\"69.580078\" xlink:href=\"#DejaVuSans-Bold-46\"/>\n       <use x=\"107.568359\" xlink:href=\"#DejaVuSans-Bold-53\"/>\n      </g>\n     </g>\n    </g>\n    <g id=\"ytick_3\">\n     <g id=\"line2d_12\">\n      <path clip-path=\"url(#p66492bfb12)\" d=\"M 36.185469 165.338182 \nL 370.985469 165.338182 \n\" style=\"fill:none;stroke:#ffffff;stroke-linecap:round;\"/>\n     </g>\n     <g id=\"text_12\">\n      <!-- 2.0 -->\n      <g style=\"fill:#262626;\" transform=\"translate(7.2 169.517322)scale(0.11 -0.11)\">\n       <use xlink:href=\"#DejaVuSans-Bold-50\"/>\n       <use x=\"69.580078\" xlink:href=\"#DejaVuSans-Bold-46\"/>\n       <use x=\"107.568359\" xlink:href=\"#DejaVuSans-Bold-48\"/>\n      </g>\n     </g>\n    </g>\n    <g id=\"ytick_4\">\n     <g id=\"line2d_13\">\n      <path clip-path=\"url(#p66492bfb12)\" d=\"M 36.185469 140.629091 \nL 370.985469 140.629091 \n\" style=\"fill:none;stroke:#ffffff;stroke-linecap:round;\"/>\n     </g>\n     <g id=\"text_13\">\n      <!-- 2.5 -->\n      <g style=\"fill:#262626;\" transform=\"translate(7.2 144.808232)scale(0.11 -0.11)\">\n       <use xlink:href=\"#DejaVuSans-Bold-50\"/>\n       <use x=\"69.580078\" xlink:href=\"#DejaVuSans-Bold-46\"/>\n       <use x=\"107.568359\" xlink:href=\"#DejaVuSans-Bold-53\"/>\n      </g>\n     </g>\n    </g>\n    <g id=\"ytick_5\">\n     <g id=\"line2d_14\">\n      <path clip-path=\"url(#p66492bfb12)\" d=\"M 36.185469 115.92 \nL 370.985469 115.92 \n\" style=\"fill:none;stroke:#ffffff;stroke-linecap:round;\"/>\n     </g>\n     <g id=\"text_14\">\n      <!-- 3.0 -->\n      <g style=\"fill:#262626;\" transform=\"translate(7.2 120.099141)scale(0.11 -0.11)\">\n       <use xlink:href=\"#DejaVuSans-Bold-51\"/>\n       <use x=\"69.580078\" xlink:href=\"#DejaVuSans-Bold-46\"/>\n       <use x=\"107.568359\" xlink:href=\"#DejaVuSans-Bold-48\"/>\n      </g>\n     </g>\n    </g>\n    <g id=\"ytick_6\">\n     <g id=\"line2d_15\">\n      <path clip-path=\"url(#p66492bfb12)\" d=\"M 36.185469 91.210909 \nL 370.985469 91.210909 \n\" style=\"fill:none;stroke:#ffffff;stroke-linecap:round;\"/>\n     </g>\n     <g id=\"text_15\">\n      <!-- 3.5 -->\n      <g style=\"fill:#262626;\" transform=\"translate(7.2 95.39005)scale(0.11 -0.11)\">\n       <use xlink:href=\"#DejaVuSans-Bold-51\"/>\n       <use x=\"69.580078\" xlink:href=\"#DejaVuSans-Bold-46\"/>\n       <use x=\"107.568359\" xlink:href=\"#DejaVuSans-Bold-53\"/>\n      </g>\n     </g>\n    </g>\n    <g id=\"ytick_7\">\n     <g id=\"line2d_16\">\n      <path clip-path=\"url(#p66492bfb12)\" d=\"M 36.185469 66.501818 \nL 370.985469 66.501818 \n\" style=\"fill:none;stroke:#ffffff;stroke-linecap:round;\"/>\n     </g>\n     <g id=\"text_16\">\n      <!-- 4.0 -->\n      <g style=\"fill:#262626;\" transform=\"translate(7.2 70.680959)scale(0.11 -0.11)\">\n       <defs>\n        <path d=\"M 36.8125 57.421875 \nL 16.21875 26.90625 \nL 36.8125 26.90625 \nz\nM 33.6875 72.90625 \nL 54.59375 72.90625 \nL 54.59375 26.90625 \nL 64.984375 26.90625 \nL 64.984375 13.28125 \nL 54.59375 13.28125 \nL 54.59375 0 \nL 36.8125 0 \nL 36.8125 13.28125 \nL 4.5 13.28125 \nL 4.5 29.390625 \nz\n\" id=\"DejaVuSans-Bold-52\"/>\n       </defs>\n       <use xlink:href=\"#DejaVuSans-Bold-52\"/>\n       <use x=\"69.580078\" xlink:href=\"#DejaVuSans-Bold-46\"/>\n       <use x=\"107.568359\" xlink:href=\"#DejaVuSans-Bold-48\"/>\n      </g>\n     </g>\n    </g>\n    <g id=\"ytick_8\">\n     <g id=\"line2d_17\">\n      <path clip-path=\"url(#p66492bfb12)\" d=\"M 36.185469 41.792727 \nL 370.985469 41.792727 \n\" style=\"fill:none;stroke:#ffffff;stroke-linecap:round;\"/>\n     </g>\n     <g id=\"text_17\">\n      <!-- 4.5 -->\n      <g style=\"fill:#262626;\" transform=\"translate(7.2 45.971868)scale(0.11 -0.11)\">\n       <use xlink:href=\"#DejaVuSans-Bold-52\"/>\n       <use x=\"69.580078\" xlink:href=\"#DejaVuSans-Bold-46\"/>\n       <use x=\"107.568359\" xlink:href=\"#DejaVuSans-Bold-53\"/>\n      </g>\n     </g>\n    </g>\n    <g id=\"ytick_9\">\n     <g id=\"line2d_18\">\n      <path clip-path=\"url(#p66492bfb12)\" d=\"M 36.185469 17.083636 \nL 370.985469 17.083636 \n\" style=\"fill:none;stroke:#ffffff;stroke-linecap:round;\"/>\n     </g>\n     <g id=\"text_18\">\n      <!-- 5.0 -->\n      <g style=\"fill:#262626;\" transform=\"translate(7.2 21.262777)scale(0.11 -0.11)\">\n       <use xlink:href=\"#DejaVuSans-Bold-53\"/>\n       <use x=\"69.580078\" xlink:href=\"#DejaVuSans-Bold-46\"/>\n       <use x=\"107.568359\" xlink:href=\"#DejaVuSans-Bold-48\"/>\n      </g>\n     </g>\n    </g>\n   </g>\n   <g id=\"PathCollection_1\">\n    <defs>\n     <path d=\"M 0 3 \nC 0.795609 3 1.55874 2.683901 2.12132 2.12132 \nC 2.683901 1.55874 3 0.795609 3 0 \nC 3 -0.795609 2.683901 -1.55874 2.12132 -2.12132 \nC 1.55874 -2.683901 0.795609 -3 0 -3 \nC -0.795609 -3 -1.55874 -2.683901 -2.12132 -2.12132 \nC -2.683901 -1.55874 -3 -0.795609 -3 0 \nC -3 0.795609 -2.683901 1.55874 -2.12132 2.12132 \nC -1.55874 2.683901 -0.795609 3 0 3 \nz\n\" id=\"me358ffd8ed\" style=\"stroke:#4c72b0;\"/>\n    </defs>\n    <g clip-path=\"url(#p66492bfb12)\">\n     <use style=\"fill:#4c72b0;stroke:#4c72b0;\" x=\"51.403651\" xlink:href=\"#me358ffd8ed\" y=\"214.756364\"/>\n    </g>\n   </g>\n   <g id=\"PathCollection_2\">\n    <defs>\n     <path d=\"M 0 3 \nC 0.795609 3 1.55874 2.683901 2.12132 2.12132 \nC 2.683901 1.55874 3 0.795609 3 0 \nC 3 -0.795609 2.683901 -1.55874 2.12132 -2.12132 \nC 1.55874 -2.683901 0.795609 -3 0 -3 \nC -0.795609 -3 -1.55874 -2.683901 -2.12132 -2.12132 \nC -2.683901 -1.55874 -3 -0.795609 -3 0 \nC -3 0.795609 -2.683901 1.55874 -2.12132 2.12132 \nC -1.55874 2.683901 -0.795609 3 0 3 \nz\n\" id=\"m084aba676a\" style=\"stroke:#dd8452;\"/>\n    </defs>\n    <g clip-path=\"url(#p66492bfb12)\">\n     <use style=\"fill:#dd8452;stroke:#dd8452;\" x=\"51.403651\" xlink:href=\"#m084aba676a\" y=\"165.338182\"/>\n    </g>\n   </g>\n   <g id=\"PathCollection_3\">\n    <defs>\n     <path d=\"M 0 3 \nC 0.795609 3 1.55874 2.683901 2.12132 2.12132 \nC 2.683901 1.55874 3 0.795609 3 0 \nC 3 -0.795609 2.683901 -1.55874 2.12132 -2.12132 \nC 1.55874 -2.683901 0.795609 -3 0 -3 \nC -0.795609 -3 -1.55874 -2.683901 -2.12132 -2.12132 \nC -2.683901 -1.55874 -3 -0.795609 -3 0 \nC -3 0.795609 -2.683901 1.55874 -2.12132 2.12132 \nC -1.55874 2.683901 -0.795609 3 0 3 \nz\n\" id=\"m101c0e354d\" style=\"stroke:#55a868;\"/>\n    </defs>\n    <g clip-path=\"url(#p66492bfb12)\">\n     <use style=\"fill:#55a868;stroke:#55a868;\" x=\"51.403651\" xlink:href=\"#m101c0e354d\" y=\"66.501818\"/>\n    </g>\n   </g>\n   <g id=\"PathCollection_4\">\n    <defs>\n     <path d=\"M 0 3 \nC 0.795609 3 1.55874 2.683901 2.12132 2.12132 \nC 2.683901 1.55874 3 0.795609 3 0 \nC 3 -0.795609 2.683901 -1.55874 2.12132 -2.12132 \nC 1.55874 -2.683901 0.795609 -3 0 -3 \nC -0.795609 -3 -1.55874 -2.683901 -2.12132 -2.12132 \nC -2.683901 -1.55874 -3 -0.795609 -3 0 \nC -3 0.795609 -2.683901 1.55874 -2.12132 2.12132 \nC -1.55874 2.683901 -0.795609 3 0 3 \nz\n\" id=\"mf8137c5e73\" style=\"stroke:#c44e52;\"/>\n    </defs>\n    <g clip-path=\"url(#p66492bfb12)\">\n     <use style=\"fill:#c44e52;stroke:#c44e52;\" x=\"203.585469\" xlink:href=\"#mf8137c5e73\" y=\"66.501818\"/>\n    </g>\n   </g>\n   <g id=\"PathCollection_5\">\n    <defs>\n     <path d=\"M 0 3 \nC 0.795609 3 1.55874 2.683901 2.12132 2.12132 \nC 2.683901 1.55874 3 0.795609 3 0 \nC 3 -0.795609 2.683901 -1.55874 2.12132 -2.12132 \nC 1.55874 -2.683901 0.795609 -3 0 -3 \nC -0.795609 -3 -1.55874 -2.683901 -2.12132 -2.12132 \nC -2.683901 -1.55874 -3 -0.795609 -3 0 \nC -3 0.795609 -2.683901 1.55874 -2.12132 2.12132 \nC -1.55874 2.683901 -0.795609 3 0 3 \nz\n\" id=\"m4963bfd9b8\" style=\"stroke:#8172b3;\"/>\n    </defs>\n    <g clip-path=\"url(#p66492bfb12)\">\n     <use style=\"fill:#8172b3;stroke:#8172b3;\" x=\"203.585469\" xlink:href=\"#m4963bfd9b8\" y=\"115.92\"/>\n    </g>\n   </g>\n   <g id=\"PathCollection_6\">\n    <defs>\n     <path d=\"M 0 3 \nC 0.795609 3 1.55874 2.683901 2.12132 2.12132 \nC 2.683901 1.55874 3 0.795609 3 0 \nC 3 -0.795609 2.683901 -1.55874 2.12132 -2.12132 \nC 1.55874 -2.683901 0.795609 -3 0 -3 \nC -0.795609 -3 -1.55874 -2.683901 -2.12132 -2.12132 \nC -2.683901 -1.55874 -3 -0.795609 -3 0 \nC -3 0.795609 -2.683901 1.55874 -2.12132 2.12132 \nC -1.55874 2.683901 -0.795609 3 0 3 \nz\n\" id=\"m829760a959\" style=\"stroke:#937860;\"/>\n    </defs>\n    <g clip-path=\"url(#p66492bfb12)\">\n     <use style=\"fill:#937860;stroke:#937860;\" x=\"203.585469\" xlink:href=\"#m829760a959\" y=\"165.338182\"/>\n    </g>\n   </g>\n   <g id=\"PathCollection_7\">\n    <defs>\n     <path d=\"M 0 3 \nC 0.795609 3 1.55874 2.683901 2.12132 2.12132 \nC 2.683901 1.55874 3 0.795609 3 0 \nC 3 -0.795609 2.683901 -1.55874 2.12132 -2.12132 \nC 1.55874 -2.683901 0.795609 -3 0 -3 \nC -0.795609 -3 -1.55874 -2.683901 -2.12132 -2.12132 \nC -2.683901 -1.55874 -3 -0.795609 -3 0 \nC -3 0.795609 -2.683901 1.55874 -2.12132 2.12132 \nC -1.55874 2.683901 -0.795609 3 0 3 \nz\n\" id=\"m7384a349ea\" style=\"stroke:#da8bc3;\"/>\n    </defs>\n    <g clip-path=\"url(#p66492bfb12)\">\n     <use style=\"fill:#da8bc3;stroke:#da8bc3;\" x=\"355.767287\" xlink:href=\"#m7384a349ea\" y=\"214.756364\"/>\n    </g>\n   </g>\n   <g id=\"PathCollection_8\">\n    <defs>\n     <path d=\"M 0 3 \nC 0.795609 3 1.55874 2.683901 2.12132 2.12132 \nC 2.683901 1.55874 3 0.795609 3 0 \nC 3 -0.795609 2.683901 -1.55874 2.12132 -2.12132 \nC 1.55874 -2.683901 0.795609 -3 0 -3 \nC -0.795609 -3 -1.55874 -2.683901 -2.12132 -2.12132 \nC -2.683901 -1.55874 -3 -0.795609 -3 0 \nC -3 0.795609 -2.683901 1.55874 -2.12132 2.12132 \nC -1.55874 2.683901 -0.795609 3 0 3 \nz\n\" id=\"md127475d17\" style=\"stroke:#8c8c8c;\"/>\n    </defs>\n    <g clip-path=\"url(#p66492bfb12)\">\n     <use style=\"fill:#8c8c8c;stroke:#8c8c8c;\" x=\"355.767287\" xlink:href=\"#md127475d17\" y=\"165.338182\"/>\n    </g>\n   </g>\n   <g id=\"PathCollection_9\">\n    <defs>\n     <path d=\"M 0 3 \nC 0.795609 3 1.55874 2.683901 2.12132 2.12132 \nC 2.683901 1.55874 3 0.795609 3 0 \nC 3 -0.795609 2.683901 -1.55874 2.12132 -2.12132 \nC 1.55874 -2.683901 0.795609 -3 0 -3 \nC -0.795609 -3 -1.55874 -2.683901 -2.12132 -2.12132 \nC -2.683901 -1.55874 -3 -0.795609 -3 0 \nC -3 0.795609 -2.683901 1.55874 -2.12132 2.12132 \nC -1.55874 2.683901 -0.795609 3 0 3 \nz\n\" id=\"me919656d1c\" style=\"stroke:#ccb974;\"/>\n    </defs>\n    <g clip-path=\"url(#p66492bfb12)\">\n     <use style=\"fill:#ccb974;stroke:#ccb974;\" x=\"355.767287\" xlink:href=\"#me919656d1c\" y=\"17.083636\"/>\n    </g>\n   </g>\n   <g id=\"patch_3\">\n    <path d=\"M 36.185469 224.64 \nL 36.185469 7.2 \n\" style=\"fill:none;stroke:#ffffff;stroke-linecap:square;stroke-linejoin:miter;stroke-width:1.25;\"/>\n   </g>\n   <g id=\"patch_4\">\n    <path d=\"M 370.985469 224.64 \nL 370.985469 7.2 \n\" style=\"fill:none;stroke:#ffffff;stroke-linecap:square;stroke-linejoin:miter;stroke-width:1.25;\"/>\n   </g>\n   <g id=\"patch_5\">\n    <path d=\"M 36.185469 224.64 \nL 370.985469 224.64 \n\" style=\"fill:none;stroke:#ffffff;stroke-linecap:square;stroke-linejoin:miter;stroke-width:1.25;\"/>\n   </g>\n   <g id=\"patch_6\">\n    <path d=\"M 36.185469 7.2 \nL 370.985469 7.2 \n\" style=\"fill:none;stroke:#ffffff;stroke-linecap:square;stroke-linejoin:miter;stroke-width:1.25;\"/>\n   </g>\n  </g>\n </g>\n <defs>\n  <clipPath id=\"p66492bfb12\">\n   <rect height=\"217.44\" width=\"334.8\" x=\"36.185469\" y=\"7.2\"/>\n  </clipPath>\n </defs>\n</svg>\n"
     },
     "metadata": {}
    }
   ],
   "source": [
    "l_x = [10,20,30]\n",
    "l_y = [[1,2,4],[4,3,2],[1,2,5]]\n",
    "for i,x in enumerate(l_x):\n",
    "    for j,y in enumerate(l_y[i]):\n",
    "        plt.scatter(x,y)"
   ]
  },
  {
   "cell_type": "code",
   "execution_count": 86,
   "metadata": {},
   "outputs": [
    {
     "name": "stdout",
     "output_type": "stream",
     "text": [
      "       rosbagTimestamp  header            seq  stamp          secs  \\\n",
      "count     3.888300e+04     0.0   38883.000000    0.0  3.888300e+04   \n",
      "mean      1.606295e+18     NaN  490799.000000    NaN  1.606295e+09   \n",
      "std       5.612236e+10     NaN   11224.699595    NaN  5.613819e+01   \n",
      "min       1.606295e+18     NaN  471358.000000    NaN  1.606295e+09   \n",
      "25%       1.606295e+18     NaN  481078.500000    NaN  1.606295e+09   \n",
      "50%       1.606295e+18     NaN  490799.000000    NaN  1.606295e+09   \n",
      "75%       1.606296e+18     NaN  500519.500000    NaN  1.606296e+09   \n",
      "max       1.606296e+18     NaN  510240.000000    NaN  1.606296e+09   \n",
      "\n",
      "              nsecs  pose  pose.1  position             x             y  \\\n",
      "count  3.888300e+04   0.0     0.0       0.0  38883.000000  38883.000000   \n",
      "mean   5.008862e+08   NaN     NaN       NaN     -1.769355     86.533586   \n",
      "std    2.944629e+08   NaN     NaN       NaN      8.226737      6.051403   \n",
      "min    2.829616e+07   NaN     NaN       NaN    -15.987244     80.638063   \n",
      "25%    2.383948e+08   NaN     NaN       NaN     -7.120259     80.826721   \n",
      "50%    5.337957e+08   NaN     NaN       NaN     -6.004612     84.284702   \n",
      "75%    7.461962e+08   NaN     NaN       NaN      9.170187     90.096152   \n",
      "max    9.523684e+08   NaN     NaN       NaN      9.350196    100.756842   \n",
      "\n",
      "             z  orientation           x.1           y.1           z.1  \\\n",
      "count  38883.0          0.0  38883.000000  38883.000000  38883.000000   \n",
      "mean       2.0          NaN      0.255934     -0.402547     -0.091267   \n",
      "std        0.0          NaN      0.693705      0.468955      0.187962   \n",
      "min        2.0          NaN     -0.900161     -0.975379     -0.355273   \n",
      "25%        2.0          NaN     -0.504804     -0.724593     -0.267358   \n",
      "50%        2.0          NaN      0.686055     -0.627797     -0.187818   \n",
      "75%        2.0          NaN      0.909991     -0.146315      0.113148   \n",
      "max        2.0          NaN      0.971640      0.726493      0.231969   \n",
      "\n",
      "                  w  \n",
      "count  38883.000000  \n",
      "mean      -0.104455  \n",
      "std        0.129449  \n",
      "min       -0.325924  \n",
      "25%       -0.203305  \n",
      "50%       -0.149455  \n",
      "75%       -0.022058  \n",
      "max        0.245742  \n",
      "rosbagTimestamp      int64\n",
      "header             float64\n",
      "seq                  int64\n",
      "stamp              float64\n",
      "secs                 int64\n",
      "nsecs                int64\n",
      "frame_id            object\n",
      "pose               float64\n",
      "pose.1             float64\n",
      "position           float64\n",
      "x                  float64\n",
      "y                  float64\n",
      "z                  float64\n",
      "orientation        float64\n",
      "x.1                float64\n",
      "y.1                float64\n",
      "z.1                float64\n",
      "w                  float64\n",
      "covariance          object\n",
      "dtype: object\n",
      "Index(['rosbagTimestamp', 'header', 'seq', 'stamp', 'secs', 'nsecs',\n",
      "       'frame_id', 'pose', 'pose.1', 'position', 'x', 'y', 'z', 'orientation',\n",
      "       'x.1', 'y.1', 'z.1', 'w', 'covariance'],\n",
      "      dtype='object')\n",
      "0:rosbagTimestamp , 1:header , 2:seq , 3:stamp , 4:secs , 5:nsecs , 6:frame_id , 7:pose , 8:pose.1 , 9:position , 10:x , 11:y , 12:z , 13:orientation , 14:x.1 , 15:y.1 , 16:z.1 , 17:w , 18:covariance , "
     ]
    }
   ],
   "source": [
    "# Data Summary \n",
    "print(trajectory_df.describe())\n",
    "print(trajectory_df.dtypes)\n",
    "print(trajectory_df.columns)\n",
    "  # # joy_final_df.memory_usage()\n",
    "    # print(joy_final_df.max())\n",
    "for index, val in enumerate(trajectory_df.columns):\n",
    "    print (\"{}:{}\".format(index,val), end=\" , \")\n",
    "# 0:rosbagTimestamp , 1:header , 2:seq , 3:stamp , 4:secs , 5:nsecs , 6:frame_id , \n",
    "# 7:pose , 8:pose.1 , 9:position , 10:x , 11:y , 12:z , 13:orientation , 14:x.1 , \n",
    "#                             15:y.1 , 16:z.1 , 17:w , 18:covariance \n"
   ]
  },
  {
   "cell_type": "code",
   "execution_count": 87,
   "metadata": {},
   "outputs": [
    {
     "data": {
      "text/html": [
       "<div>\n",
       "<style scoped>\n",
       "    .dataframe tbody tr th:only-of-type {\n",
       "        vertical-align: middle;\n",
       "    }\n",
       "\n",
       "    .dataframe tbody tr th {\n",
       "        vertical-align: top;\n",
       "    }\n",
       "\n",
       "    .dataframe thead th {\n",
       "        text-align: right;\n",
       "    }\n",
       "</style>\n",
       "<table border=\"1\" class=\"dataframe\">\n",
       "  <thead>\n",
       "    <tr style=\"text-align: right;\">\n",
       "      <th></th>\n",
       "      <th>rosbagTimestamp</th>\n",
       "      <th>header</th>\n",
       "      <th>seq</th>\n",
       "      <th>stamp</th>\n",
       "      <th>secs</th>\n",
       "      <th>nsecs</th>\n",
       "      <th>frame_id</th>\n",
       "      <th>pose</th>\n",
       "      <th>pose.1</th>\n",
       "      <th>position</th>\n",
       "      <th>x</th>\n",
       "      <th>y</th>\n",
       "      <th>z</th>\n",
       "      <th>orientation</th>\n",
       "      <th>x.1</th>\n",
       "      <th>y.1</th>\n",
       "      <th>z.1</th>\n",
       "      <th>w</th>\n",
       "      <th>covariance</th>\n",
       "    </tr>\n",
       "  </thead>\n",
       "  <tbody>\n",
       "    <tr>\n",
       "      <th>0</th>\n",
       "      <td>1606295379778546741</td>\n",
       "      <td>NaN</td>\n",
       "      <td>471358</td>\n",
       "      <td>NaN</td>\n",
       "      <td>1606295379</td>\n",
       "      <td>329066840</td>\n",
       "      <td>\"map\"</td>\n",
       "      <td>NaN</td>\n",
       "      <td>NaN</td>\n",
       "      <td>NaN</td>\n",
       "      <td>9.132759</td>\n",
       "      <td>80.69424</td>\n",
       "      <td>2.0</td>\n",
       "      <td>NaN</td>\n",
       "      <td>-0.696802</td>\n",
       "      <td>-0.676601</td>\n",
       "      <td>0.161537</td>\n",
       "      <td>-0.174882</td>\n",
       "      <td>[0.0, 0.0, 0.0, 0.0, 0.0, 0.0, 0.0, 0.0, 0.0, ...</td>\n",
       "    </tr>\n",
       "  </tbody>\n",
       "</table>\n",
       "</div>"
      ],
      "text/plain": [
       "       rosbagTimestamp  header     seq  stamp        secs      nsecs frame_id  \\\n",
       "0  1606295379778546741     NaN  471358    NaN  1606295379  329066840    \"map\"   \n",
       "\n",
       "   pose  pose.1  position         x         y    z  orientation       x.1  \\\n",
       "0   NaN     NaN       NaN  9.132759  80.69424  2.0          NaN -0.696802   \n",
       "\n",
       "        y.1       z.1         w  \\\n",
       "0 -0.676601  0.161537 -0.174882   \n",
       "\n",
       "                                          covariance  \n",
       "0  [0.0, 0.0, 0.0, 0.0, 0.0, 0.0, 0.0, 0.0, 0.0, ...  "
      ]
     },
     "execution_count": 87,
     "metadata": {},
     "output_type": "execute_result"
    }
   ],
   "source": [
    "trajectory_df.head(1)"
   ]
  },
  {
   "cell_type": "code",
   "execution_count": 88,
   "metadata": {},
   "outputs": [],
   "source": [
    "# checking Data  for Nan values. \n",
    "# print(trajectory_df.isnull().sum())\n",
    "\n",
    "# # Data Cleaning  \n",
    "# class Clean_df(object):\n",
    "#     def __init__(self,df,col_list):\n",
    "#         self.df = df\n",
    "#         self.col_list = col_list    \n",
    "    "
   ]
  },
  {
   "cell_type": "code",
   "execution_count": 89,
   "metadata": {},
   "outputs": [],
   "source": [
    "# converting & appending the time into multiple format for simplification of functions later. \n",
    "class Datetime_Dataframe:\n",
    "    def __init__(self, df: pd.DataFrame):\n",
    "        self.df = df.copy()\n",
    "    \n",
    "  \n",
    "    \n",
    "    def time_col_concat(self,col1,col2,new_col_name):\n",
    "        if self.df[col1].dtype == 'int64':\n",
    "            self.df[col1]= self.df[col1].astype(str)\n",
    "        if self.df[col2].dtype == 'int64':\n",
    "            self.df[col2] = self.df[col2].astype(str)\n",
    "        temp = self.df[col1] + self.df[col2]\n",
    "        temp = temp.astype('int64')\n",
    "        try:\n",
    "            self.df.insert(1,new_col_name,temp)\n",
    "        except: \n",
    "            pass\n",
    "        return self.df\n",
    "        \n",
    "    def time_diff(self, time_col, ref_time, new_col_name):\n",
    "        \n",
    "        temp_nano = self.df[time_col] - ref_time\n",
    "        temp_milli = temp_nano*math.pow(10,-6)\n",
    "        temp = temp_nano*math.pow(10,-9)\n",
    "        try:\n",
    "            self.df.insert(2,new_col_name,temp)\n",
    "            self.df.insert(3,new_col_name+\"milli\",temp_milli)\n",
    "            self.df.insert(4,new_col_name+\"nano\",temp_nano)\n",
    "        except:\n",
    "            pass\n",
    "        return self.df\n",
    "        "
   ]
  },
  {
   "cell_type": "code",
   "execution_count": 90,
   "metadata": {},
   "outputs": [
    {
     "name": "stdout",
     "output_type": "stream",
     "text": [
      "(38883, 19)\n",
      "(21871, 19)\n"
     ]
    }
   ],
   "source": [
    "# SLICKING TRAJECTORY DF \n",
    "trajectory_df.head(1)\n",
    "print(trajectory_df.shape)\n",
    "trajectory_df=trajectory_df[trajectory_df[\"rosbagTimestamp\"] > start_time ]\n",
    "trajectory_df=trajectory_df[trajectory_df[\"rosbagTimestamp\"] < end_time ]\n",
    "print(trajectory_df.shape)\n"
   ]
  },
  {
   "cell_type": "code",
   "execution_count": 91,
   "metadata": {},
   "outputs": [
    {
     "data": {
      "text/html": [
       "<div>\n",
       "<style scoped>\n",
       "    .dataframe tbody tr th:only-of-type {\n",
       "        vertical-align: middle;\n",
       "    }\n",
       "\n",
       "    .dataframe tbody tr th {\n",
       "        vertical-align: top;\n",
       "    }\n",
       "\n",
       "    .dataframe thead th {\n",
       "        text-align: right;\n",
       "    }\n",
       "</style>\n",
       "<table border=\"1\" class=\"dataframe\">\n",
       "  <thead>\n",
       "    <tr style=\"text-align: right;\">\n",
       "      <th></th>\n",
       "      <th>rosbagTimestamp</th>\n",
       "      <th>sensor_time</th>\n",
       "      <th>time_diff</th>\n",
       "      <th>time_diffmilli</th>\n",
       "      <th>time_diffnano</th>\n",
       "      <th>header</th>\n",
       "      <th>seq</th>\n",
       "      <th>stamp</th>\n",
       "      <th>secs</th>\n",
       "      <th>nsecs</th>\n",
       "      <th>...</th>\n",
       "      <th>position</th>\n",
       "      <th>x</th>\n",
       "      <th>y</th>\n",
       "      <th>z</th>\n",
       "      <th>orientation</th>\n",
       "      <th>x.1</th>\n",
       "      <th>y.1</th>\n",
       "      <th>z.1</th>\n",
       "      <th>w</th>\n",
       "      <th>covariance</th>\n",
       "    </tr>\n",
       "  </thead>\n",
       "  <tbody>\n",
       "    <tr>\n",
       "      <th>1</th>\n",
       "      <td>1606295379778562832</td>\n",
       "      <td>1606295379329066840</td>\n",
       "      <td>0.000016</td>\n",
       "      <td>0.016091</td>\n",
       "      <td>16091</td>\n",
       "      <td>NaN</td>\n",
       "      <td>471359</td>\n",
       "      <td>NaN</td>\n",
       "      <td>1606295379</td>\n",
       "      <td>329066840</td>\n",
       "      <td>...</td>\n",
       "      <td>NaN</td>\n",
       "      <td>9.132759</td>\n",
       "      <td>80.69424</td>\n",
       "      <td>2.0</td>\n",
       "      <td>NaN</td>\n",
       "      <td>-0.699378</td>\n",
       "      <td>-0.673762</td>\n",
       "      <td>0.163187</td>\n",
       "      <td>-0.174026</td>\n",
       "      <td>[0.0, 0.0, 0.0, 0.0, 0.0, 0.0, 0.0, 0.0, 0.0, ...</td>\n",
       "    </tr>\n",
       "  </tbody>\n",
       "</table>\n",
       "<p>1 rows × 23 columns</p>\n",
       "</div>"
      ],
      "text/plain": [
       "       rosbagTimestamp          sensor_time  time_diff  time_diffmilli  \\\n",
       "1  1606295379778562832  1606295379329066840   0.000016        0.016091   \n",
       "\n",
       "   time_diffnano  header     seq  stamp        secs      nsecs  ... position  \\\n",
       "1          16091     NaN  471359    NaN  1606295379  329066840  ...      NaN   \n",
       "\n",
       "          x         y    z  orientation       x.1       y.1       z.1  \\\n",
       "1  9.132759  80.69424  2.0          NaN -0.699378 -0.673762  0.163187   \n",
       "\n",
       "          w                                         covariance  \n",
       "1 -0.174026  [0.0, 0.0, 0.0, 0.0, 0.0, 0.0, 0.0, 0.0, 0.0, ...  \n",
       "\n",
       "[1 rows x 23 columns]"
      ]
     },
     "execution_count": 91,
     "metadata": {},
     "output_type": "execute_result"
    }
   ],
   "source": [
    "# trajectory_df.loc[:,\"secs\"].describe\n",
    "# trajectory_df.loc[:,\"secs\"].dtype\n",
    "# if trajectory_df[\"secs\"].dtype == 'int64':\n",
    "#     print(\"True\")\n",
    "#     trajectory_df[\"secs\"] = trajectory_df[\"secs\"].astype(str)\n",
    "#     print(trajectory_df[\"secs\"].dtype)\n",
    "# if trajectory_df[\"nsecs\"].dtype == 'int64':\n",
    "#     print(\"True\")\n",
    "#     trajectory_df[\"nsecs\"] = trajectory_df[\"nsecs\"].astype(str)   \n",
    "    \n",
    "# print(trajectory_df[\"secs\"][0])\n",
    "# print(trajectory_df[\"nsecs\"][0])\n",
    "# temp = trajectory_df[\"secs\"] + trajectory_df[\"nsecs\"]\n",
    "# print(temp[0])\n",
    "# print(type(trajectory_df[\"nsecs\"][0]))\n",
    "# type(trajectory_df[\"secs\"])\n",
    "sensor_time = \"sensor_time\"\n",
    "rosbag_time = \"rosbagTimestamp\"\n",
    "ref_time = start_time\n",
    "time_diff = \"time_diff\"\n",
    "time_convert_obj = Datetime_Dataframe(trajectory_df)\n",
    "new_trajectory_df=time_convert_obj.time_col_concat(\"secs\",\"nsecs\",sensor_time)\n",
    "new_trajectory_df=time_convert_obj.time_diff(rosbag_time,ref_time,time_diff)\n",
    "new_trajectory_df.head(1)\n",
    "# new_trajectory_df.iloc[0:1000,2] * math.pow(10,-6)\n",
    "# new_trajectory_df.iloc[0:1000,2] * math.pow(10,-9)\n"
   ]
  },
  {
   "cell_type": "code",
   "execution_count": 92,
   "metadata": {},
   "outputs": [
    {
     "name": "stdout",
     "output_type": "stream",
     "text": [
      "1606295379778562832\n",
      "16091\n",
      "1606295488636339249\n",
      "108857792508\n"
     ]
    }
   ],
   "source": [
    "# print(new_trajectory_df.columns)\n",
    "# print(new_trajectory_df.shape)\n",
    "# print(new_trajectory_df.describe())\n",
    "# new_trajectory_df[\"sensor_time\"] = new_trajectory_df[\"sensor_time\"] \n",
    "# print(new_trajectory_df[\"sensor_time\"].min())\n",
    "# print(new_trajectory_df[\"sensor_time\"].min() - ref_time)\n",
    "# print(new_trajectory_df[\"sensor_time\"].max())\n",
    "# print(new_trajectory_df[\"sensor_time\"].max() - ref_time)\n",
    "\n",
    "print(new_trajectory_df[\"rosbagTimestamp\"].min())\n",
    "print(new_trajectory_df[\"rosbagTimestamp\"].min() - ref_time)\n",
    "print(new_trajectory_df[\"rosbagTimestamp\"].max())\n",
    "print(new_trajectory_df[\"rosbagTimestamp\"].max() - ref_time)"
   ]
  },
  {
   "cell_type": "code",
   "execution_count": 93,
   "metadata": {},
   "outputs": [
    {
     "data": {
      "text/plain": [
       "1.6091000000000002e-05"
      ]
     },
     "execution_count": 93,
     "metadata": {},
     "output_type": "execute_result"
    }
   ],
   "source": [
    "from scipy.spatial.transform import Rotation \n",
    "euler_name = [\"roll\",\"pitch\",\"yaw\"]\n",
    "quat_name = [\"x.1\",\"y.1\",\"z.1\",\"w\"]\n",
    "\n",
    "quat_df = new_trajectory_df.loc[: , \"x.1\":\"w\"]\n",
    "quat_df\n",
    "rot = Rotation.from_quat(quat_df)\n",
    "rot_euler = rot.as_euler('xyz', degrees=True)\n",
    "euler_df = pd.DataFrame(data=rot_euler, columns=euler_name)\n",
    "euler_trajectory_df=new_trajectory_df.join(euler_df)\n",
    "euler_trajectory_df.describe()\n",
    "# euler_trajectory_df.tail()\n",
    "# euler_trajectory_df.isnull().sum()\n",
    "euler_trajectory_df['time_diff'].min()\n",
    "\n"
   ]
  },
  {
   "cell_type": "code",
   "execution_count": 94,
   "metadata": {},
   "outputs": [],
   "source": [
    "euler_trajectory_df=euler_trajectory_df.drop_duplicates(subset=\"nsecs\")"
   ]
  },
  {
   "cell_type": "code",
   "execution_count": 95,
   "metadata": {},
   "outputs": [
    {
     "name": "stderr",
     "output_type": "stream",
     "text": [
      "*c* argument looks like a single numeric RGB or RGBA sequence, which should be avoided as value-mapping will have precedence in case its length matches with *x* & *y*.  Please use the *color* keyword-argument or provide a 2-D array with a single row if you intend to specify the same RGB or RGBA value for all points.\n"
     ]
    },
    {
     "name": "stdout",
     "output_type": "stream",
     "text": [
      "(1036, 26)\n"
     ]
    },
    {
     "data": {
      "image/png": "[encoded data removed]",
      "text/plain": [
       "<Figure size 432x288 with 1 Axes>"
      ]
     },
     "metadata": {},
     "output_type": "display_data"
    }
   ],
   "source": [
    "euler_trajectory_df.plot(x='time_diff',y='yaw',kind='scatter')\n",
    "print(euler_trajectory_df.shape)"
   ]
  },
  {
   "cell_type": "code",
   "execution_count": null,
   "metadata": {},
   "outputs": [],
   "source": []
  },
  {
   "cell_type": "code",
   "execution_count": 96,
   "metadata": {},
   "outputs": [
    {
     "data": {
      "text/html": [
       "<div>\n",
       "<style scoped>\n",
       "    .dataframe tbody tr th:only-of-type {\n",
       "        vertical-align: middle;\n",
       "    }\n",
       "\n",
       "    .dataframe tbody tr th {\n",
       "        vertical-align: top;\n",
       "    }\n",
       "\n",
       "    .dataframe thead th {\n",
       "        text-align: right;\n",
       "    }\n",
       "</style>\n",
       "<table border=\"1\" class=\"dataframe\">\n",
       "  <thead>\n",
       "    <tr style=\"text-align: right;\">\n",
       "      <th></th>\n",
       "      <th>rosbagTimestamp</th>\n",
       "      <th>header</th>\n",
       "      <th>seq</th>\n",
       "      <th>stamp</th>\n",
       "      <th>secs</th>\n",
       "      <th>nsecs</th>\n",
       "      <th>frame_id</th>\n",
       "      <th>left</th>\n",
       "      <th>right</th>\n",
       "      <th>forward</th>\n",
       "      <th>stop</th>\n",
       "      <th>sound</th>\n",
       "      <th>state</th>\n",
       "    </tr>\n",
       "  </thead>\n",
       "  <tbody>\n",
       "    <tr>\n",
       "      <th>0</th>\n",
       "      <td>1606295379778515675</td>\n",
       "      <td>NaN</td>\n",
       "      <td>847</td>\n",
       "      <td>NaN</td>\n",
       "      <td>1606295379</td>\n",
       "      <td>329066840</td>\n",
       "      <td>\"map\"</td>\n",
       "      <td>1</td>\n",
       "      <td>0</td>\n",
       "      <td>0</td>\n",
       "      <td>0</td>\n",
       "      <td>0</td>\n",
       "      <td>0</td>\n",
       "    </tr>\n",
       "  </tbody>\n",
       "</table>\n",
       "</div>"
      ],
      "text/plain": [
       "       rosbagTimestamp  header  seq  stamp        secs      nsecs frame_id  \\\n",
       "0  1606295379778515675     NaN  847    NaN  1606295379  329066840    \"map\"   \n",
       "\n",
       "   left  right  forward  stop  sound  state  \n",
       "0     1      0        0     0      0      0  "
      ]
     },
     "execution_count": 96,
     "metadata": {},
     "output_type": "execute_result"
    }
   ],
   "source": [
    "# Plotting the Left signal graph to time_diff gdata \n",
    "signal_path = dir_path + file_path + '/_slash_cmd_sig.csv'\n",
    "left_sig = \"left\"\n",
    "right_sig = \"right\"\n",
    "forward_sig = \"forward\"\n",
    "stop_sig = \"stop\"\n",
    "\n",
    "\n",
    "signal_df = pd.read_csv(signal_path)\n",
    "signal_df.head(1)"
   ]
  },
  {
   "cell_type": "code",
   "execution_count": 97,
   "metadata": {},
   "outputs": [
    {
     "data": {
      "text/html": [
       "<div>\n",
       "<style scoped>\n",
       "    .dataframe tbody tr th:only-of-type {\n",
       "        vertical-align: middle;\n",
       "    }\n",
       "\n",
       "    .dataframe tbody tr th {\n",
       "        vertical-align: top;\n",
       "    }\n",
       "\n",
       "    .dataframe thead th {\n",
       "        text-align: right;\n",
       "    }\n",
       "</style>\n",
       "<table border=\"1\" class=\"dataframe\">\n",
       "  <thead>\n",
       "    <tr style=\"text-align: right;\">\n",
       "      <th></th>\n",
       "      <th>rosbagTimestamp</th>\n",
       "      <th>header</th>\n",
       "      <th>seq</th>\n",
       "      <th>stamp</th>\n",
       "      <th>secs</th>\n",
       "      <th>nsecs</th>\n",
       "      <th>frame_id</th>\n",
       "      <th>left</th>\n",
       "      <th>right</th>\n",
       "      <th>forward</th>\n",
       "      <th>stop</th>\n",
       "      <th>sound</th>\n",
       "      <th>state</th>\n",
       "    </tr>\n",
       "  </thead>\n",
       "  <tbody>\n",
       "    <tr>\n",
       "      <th>4</th>\n",
       "      <td>1606295379778549643</td>\n",
       "      <td>NaN</td>\n",
       "      <td>851</td>\n",
       "      <td>NaN</td>\n",
       "      <td>1606295379</td>\n",
       "      <td>329066840</td>\n",
       "      <td>\"map\"</td>\n",
       "      <td>1</td>\n",
       "      <td>0</td>\n",
       "      <td>0</td>\n",
       "      <td>0</td>\n",
       "      <td>0</td>\n",
       "      <td>0</td>\n",
       "    </tr>\n",
       "    <tr>\n",
       "      <th>9</th>\n",
       "      <td>1606295379778588088</td>\n",
       "      <td>NaN</td>\n",
       "      <td>856</td>\n",
       "      <td>NaN</td>\n",
       "      <td>1606295379</td>\n",
       "      <td>433929773</td>\n",
       "      <td>\"map\"</td>\n",
       "      <td>1</td>\n",
       "      <td>0</td>\n",
       "      <td>0</td>\n",
       "      <td>0</td>\n",
       "      <td>0</td>\n",
       "      <td>0</td>\n",
       "    </tr>\n",
       "    <tr>\n",
       "      <th>29</th>\n",
       "      <td>1606295379779378275</td>\n",
       "      <td>NaN</td>\n",
       "      <td>876</td>\n",
       "      <td>NaN</td>\n",
       "      <td>1606295379</td>\n",
       "      <td>529790645</td>\n",
       "      <td>\"map\"</td>\n",
       "      <td>1</td>\n",
       "      <td>0</td>\n",
       "      <td>0</td>\n",
       "      <td>0</td>\n",
       "      <td>0</td>\n",
       "      <td>0</td>\n",
       "    </tr>\n",
       "    <tr>\n",
       "      <th>52</th>\n",
       "      <td>1606295379780117648</td>\n",
       "      <td>NaN</td>\n",
       "      <td>899</td>\n",
       "      <td>NaN</td>\n",
       "      <td>1606295379</td>\n",
       "      <td>634087016</td>\n",
       "      <td>\"map\"</td>\n",
       "      <td>1</td>\n",
       "      <td>0</td>\n",
       "      <td>0</td>\n",
       "      <td>0</td>\n",
       "      <td>0</td>\n",
       "      <td>0</td>\n",
       "    </tr>\n",
       "    <tr>\n",
       "      <th>69</th>\n",
       "      <td>1606295379780424925</td>\n",
       "      <td>NaN</td>\n",
       "      <td>916</td>\n",
       "      <td>NaN</td>\n",
       "      <td>1606295379</td>\n",
       "      <td>728485137</td>\n",
       "      <td>\"map\"</td>\n",
       "      <td>1</td>\n",
       "      <td>0</td>\n",
       "      <td>0</td>\n",
       "      <td>0</td>\n",
       "      <td>0</td>\n",
       "      <td>0</td>\n",
       "    </tr>\n",
       "  </tbody>\n",
       "</table>\n",
       "</div>"
      ],
      "text/plain": [
       "        rosbagTimestamp  header  seq  stamp        secs      nsecs frame_id  \\\n",
       "4   1606295379778549643     NaN  851    NaN  1606295379  329066840    \"map\"   \n",
       "9   1606295379778588088     NaN  856    NaN  1606295379  433929773    \"map\"   \n",
       "29  1606295379779378275     NaN  876    NaN  1606295379  529790645    \"map\"   \n",
       "52  1606295379780117648     NaN  899    NaN  1606295379  634087016    \"map\"   \n",
       "69  1606295379780424925     NaN  916    NaN  1606295379  728485137    \"map\"   \n",
       "\n",
       "    left  right  forward  stop  sound  state  \n",
       "4      1      0        0     0      0      0  \n",
       "9      1      0        0     0      0      0  \n",
       "29     1      0        0     0      0      0  \n",
       "52     1      0        0     0      0      0  \n",
       "69     1      0        0     0      0      0  "
      ]
     },
     "execution_count": 97,
     "metadata": {},
     "output_type": "execute_result"
    }
   ],
   "source": [
    "signal_df=signal_df[signal_df[\"rosbagTimestamp\"] > start_time ]\n",
    "signal_df=signal_df[signal_df[\"rosbagTimestamp\"] < end_time ]\n",
    "signal_df = signal_df.drop_duplicates(subset=\"nsecs\")\n",
    "signal_df.shape\n",
    "signal_df.head()\n"
   ]
  },
  {
   "cell_type": "code",
   "execution_count": 98,
   "metadata": {},
   "outputs": [
    {
     "data": {
      "text/html": [
       "<div>\n",
       "<style scoped>\n",
       "    .dataframe tbody tr th:only-of-type {\n",
       "        vertical-align: middle;\n",
       "    }\n",
       "\n",
       "    .dataframe tbody tr th {\n",
       "        vertical-align: top;\n",
       "    }\n",
       "\n",
       "    .dataframe thead th {\n",
       "        text-align: right;\n",
       "    }\n",
       "</style>\n",
       "<table border=\"1\" class=\"dataframe\">\n",
       "  <thead>\n",
       "    <tr style=\"text-align: right;\">\n",
       "      <th></th>\n",
       "      <th>rosbagTimestamp</th>\n",
       "      <th>header</th>\n",
       "      <th>time_diff</th>\n",
       "      <th>time_diffmilli</th>\n",
       "      <th>time_diffnano</th>\n",
       "      <th>seq</th>\n",
       "      <th>stamp</th>\n",
       "      <th>secs</th>\n",
       "      <th>nsecs</th>\n",
       "      <th>frame_id</th>\n",
       "      <th>left</th>\n",
       "      <th>right</th>\n",
       "      <th>forward</th>\n",
       "      <th>stop</th>\n",
       "      <th>sound</th>\n",
       "      <th>state</th>\n",
       "    </tr>\n",
       "  </thead>\n",
       "  <tbody>\n",
       "    <tr>\n",
       "      <th>4</th>\n",
       "      <td>1606295379778549643</td>\n",
       "      <td>NaN</td>\n",
       "      <td>0.000003</td>\n",
       "      <td>0.002902</td>\n",
       "      <td>2902</td>\n",
       "      <td>851</td>\n",
       "      <td>NaN</td>\n",
       "      <td>1606295379</td>\n",
       "      <td>329066840</td>\n",
       "      <td>\"map\"</td>\n",
       "      <td>1</td>\n",
       "      <td>0</td>\n",
       "      <td>0</td>\n",
       "      <td>0</td>\n",
       "      <td>0</td>\n",
       "      <td>0</td>\n",
       "    </tr>\n",
       "  </tbody>\n",
       "</table>\n",
       "</div>"
      ],
      "text/plain": [
       "       rosbagTimestamp  header  time_diff  time_diffmilli  time_diffnano  seq  \\\n",
       "4  1606295379778549643     NaN   0.000003        0.002902           2902  851   \n",
       "\n",
       "   stamp        secs      nsecs frame_id  left  right  forward  stop  sound  \\\n",
       "4    NaN  1606295379  329066840    \"map\"     1      0        0     0      0   \n",
       "\n",
       "   state  \n",
       "4      0  "
      ]
     },
     "execution_count": 98,
     "metadata": {},
     "output_type": "execute_result"
    }
   ],
   "source": [
    "# Time transformation of signal_df \n",
    "rosbag_time = \"rosbagTimestamp\"\n",
    "ref_time = start_time\n",
    "time_diff = \"time_diff\"\n",
    "time_convert_obj2 = Datetime_Dataframe(signal_df)\n",
    "signal_df=time_convert_obj2.time_diff(rosbag_time,ref_time,new_col_name=time_diff)\n",
    "signal_df.head(1)"
   ]
  },
  {
   "cell_type": "code",
   "execution_count": 99,
   "metadata": {},
   "outputs": [
    {
     "name": "stdout",
     "output_type": "stream",
     "text": [
      "(1036, 16)\n"
     ]
    },
    {
     "data": {
      "image/png": "[encoded data removed]",
      "text/plain": [
       "<Figure size 432x288 with 1 Axes>"
      ]
     },
     "metadata": {},
     "output_type": "display_data"
    }
   ],
   "source": [
    "signal_df.plot(x='time_diff',y=left_sig,kind='scatter',marker='_',color='r')\n",
    "print(signal_df.shape)"
   ]
  },
  {
   "cell_type": "code",
   "execution_count": 100,
   "metadata": {},
   "outputs": [
    {
     "name": "stderr",
     "output_type": "stream",
     "text": [
      "*c* argument looks like a single numeric RGB or RGBA sequence, which should be avoided as value-mapping will have precedence in case its length matches with *x* & *y*.  Please use the *color* keyword-argument or provide a 2-D array with a single row if you intend to specify the same RGB or RGBA value for all points.\n"
     ]
    },
    {
     "data": {
      "text/plain": [
       "<matplotlib.collections.PathCollection at 0x7fa46ab43e90>"
      ]
     },
     "execution_count": 100,
     "metadata": {},
     "output_type": "execute_result"
    },
    {
     "data": {
      "image/png": "[encoded data removed]",
      "text/plain": [
       "<Figure size 432x288 with 1 Axes>"
      ]
     },
     "metadata": {},
     "output_type": "display_data"
    }
   ],
   "source": [
    "\n",
    "ax = euler_trajectory_df.plot(x='time_diff',y='yaw',kind='scatter')\n",
    "# signal_df.plot(x='time_diff',y=left_sig,kind='scatter',marker='_',color='r',ax=ax)\n",
    "# signal_df[signal_df[\"rosbagTimestamp\"] > start_time ]\n",
    "left_df = signal_df[signal_df[left_sig] > 0]\n",
    "right_df = signal_df[signal_df[right_sig] > 0]\n",
    "forward_df = signal_df[signal_df[forward_sig] > 0]\n",
    "\n",
    "ax.scatter(left_df['time_diff'],left_df[left_sig]*150,color='r',marker='_')\n",
    "ax.scatter(right_df['time_diff'],right_df[right_sig]*120,color='g',marker='_')\n",
    "ax.scatter(forward_df['time_diff'],forward_df[forward_sig],color='b',marker='_')"
   ]
  },
  {
   "cell_type": "code",
   "execution_count": 101,
   "metadata": {},
   "outputs": [],
   "source": [
    "def value_extract(df,ref_time, val_col_name, time_col_name):\n",
    "    for i,column in df.iterrows():\n",
    "        if column[time_col_name] > ref_time: \n",
    "            return column[val_col_name]"
   ]
  },
  {
   "cell_type": "code",
   "execution_count": 102,
   "metadata": {},
   "outputs": [
    {
     "name": "stdout",
     "output_type": "stream",
     "text": [
      "[-6.124739651875146, 39.03238495460961, 32.278003872998966, 32.11471921116991, 45.376097789013656, 47.77378762276133, 87.58612172116314, -241.4368955215469, -265.5189596689536, -41.107977402427395]\n"
     ]
    }
   ],
   "source": [
    "state = 0\n",
    "angle_list = []\n",
    "time_col_name = \"rosbagTimestamp\"\n",
    "column_name = \"left\"\n",
    "angle_col_name = \"yaw\"\n",
    "for i,column in signal_df.iterrows():\n",
    "    \n",
    "\n",
    "#     print(column[time_col_name])\n",
    "#     type(j['rosbagTimestamp'])\n",
    "#     print(j['rosbagTimestamp'])\n",
    "        #state 0 , 1:0->1, 2: 1->1, 3:1->0\n",
    "    \n",
    "    \n",
    "    if column[column_name] == 1 and state==0:\n",
    "        state = 1\n",
    "        time = column[time_col_name]\n",
    "#         print(\"state changede to {},{}\".format(state,time))\n",
    "        prev_angle = value_extract(euler_trajectory_df,ref_time,angle_col_name,time_col_name)\n",
    "    \n",
    "    if column[column_name] == 0 and state==1:\n",
    "        now_angle = value_extract(euler_trajectory_df,column[time_col_name],angle_col_name,time_col_name)\n",
    "        angle_diff = now_angle - prev_angle\n",
    "        angle_list.append(angle_diff)\n",
    "#         print(angle_diff)\n",
    "        state = 0\n",
    "print(angle_list)"
   ]
  },
  {
   "cell_type": "code",
   "execution_count": 103,
   "metadata": {},
   "outputs": [],
   "source": [
    "# def angle_extractor(df, col_name):\n",
    "#     for i,j in "
   ]
  },
  {
   "cell_type": "code",
   "execution_count": 104,
   "metadata": {},
   "outputs": [
    {
     "data": {
      "text/html": [
       "<div>\n",
       "<style scoped>\n",
       "    .dataframe tbody tr th:only-of-type {\n",
       "        vertical-align: middle;\n",
       "    }\n",
       "\n",
       "    .dataframe tbody tr th {\n",
       "        vertical-align: top;\n",
       "    }\n",
       "\n",
       "    .dataframe thead th {\n",
       "        text-align: right;\n",
       "    }\n",
       "</style>\n",
       "<table border=\"1\" class=\"dataframe\">\n",
       "  <thead>\n",
       "    <tr style=\"text-align: right;\">\n",
       "      <th></th>\n",
       "      <th>0</th>\n",
       "    </tr>\n",
       "  </thead>\n",
       "  <tbody>\n",
       "    <tr>\n",
       "      <th>count</th>\n",
       "      <td>10.000000</td>\n",
       "    </tr>\n",
       "    <tr>\n",
       "      <th>mean</th>\n",
       "      <td>-27.002746</td>\n",
       "    </tr>\n",
       "    <tr>\n",
       "      <th>std</th>\n",
       "      <td>124.202967</td>\n",
       "    </tr>\n",
       "    <tr>\n",
       "      <th>min</th>\n",
       "      <td>-265.518960</td>\n",
       "    </tr>\n",
       "    <tr>\n",
       "      <th>25%</th>\n",
       "      <td>-32.362168</td>\n",
       "    </tr>\n",
       "    <tr>\n",
       "      <th>50%</th>\n",
       "      <td>32.196362</td>\n",
       "    </tr>\n",
       "    <tr>\n",
       "      <th>75%</th>\n",
       "      <td>43.790170</td>\n",
       "    </tr>\n",
       "    <tr>\n",
       "      <th>max</th>\n",
       "      <td>87.586122</td>\n",
       "    </tr>\n",
       "  </tbody>\n",
       "</table>\n",
       "</div>"
      ],
      "text/plain": [
       "                0\n",
       "count   10.000000\n",
       "mean   -27.002746\n",
       "std    124.202967\n",
       "min   -265.518960\n",
       "25%    -32.362168\n",
       "50%     32.196362\n",
       "75%     43.790170\n",
       "max     87.586122"
      ]
     },
     "execution_count": 104,
     "metadata": {},
     "output_type": "execute_result"
    }
   ],
   "source": [
    "angle_df = pd.DataFrame(angle_list)\n",
    "\n",
    "angle_df.describe()"
   ]
  },
  {
   "cell_type": "code",
   "execution_count": 105,
   "metadata": {},
   "outputs": [
    {
     "data": {
      "image/png": "[encoded data removed]",
      "text/plain": [
       "<Figure size 432x288 with 1 Axes>"
      ]
     },
     "metadata": {},
     "output_type": "display_data"
    },
    {
     "data": {
      "image/png": "[encoded data removed]",
      "text/plain": [
       "<Figure size 432x288 with 1 Axes>"
      ]
     },
     "metadata": {},
     "output_type": "display_data"
    }
   ],
   "source": [
    "# ax2= angle_df.plot()\n",
    "ax2=angle_df.plot.kde()\n",
    "# plt.savefig(image_path,bbox_inches='tight')\n",
    "ax2=angle_df.plot.hist(bins=20)\n",
    "# plt.savefig(image_path,bbox_inches='tight')"
   ]
  },
  {
   "cell_type": "code",
   "execution_count": 106,
   "metadata": {},
   "outputs": [],
   "source": [
    "# ## Plotting the angle distribution. \n",
    "# frequency_extraction_array = np.array(angle_list).reshape(-1,1)\n",
    "# x_d = np.linspace(-2, 2, 800)\n",
    "# #     \"\"\" # This is for the x axis,but mostly used for quering by KernelDensity\n",
    "# #     and as a resolution.\n",
    "# #     \"\"\"\n",
    "# ###-------------------------OPTIMUM BANDWIDTH -----------------------------------------\n",
    "# # from sklearn.model_selection import GridSearchCV\n",
    "# # from sklearn.neighbors import KernelDensity\n",
    "# # #todo: improvise the bandwidth sampling range be automating it according to the data type.\n",
    "# # grid = GridSearchCV(KernelDensity(),{'bandwidth':np.linspace(0,1.0,20)},cv = 2)\n",
    "# # grid.fit(frequency_extraction_array[:, ])\n",
    "# # bandwidth = float(grid.best_params_['bandwidth'])\n",
    "# # print(grid.best_params_)\n",
    "\n",
    "\n",
    "# bandwidth = 10\n",
    "# ###------------------------ APPLYING THE MODE----------------------------------------\n",
    "\n",
    "# ### Here we are trying to take the frequency data and fit the data .\n",
    "# kde = KernelDensity(kernel='gaussian', bandwidth=bandwidth).fit(frequency_extraction_array)\n",
    "# #using tophat kernel (rectangular)\n",
    "# # kde = KernelDensity(kernel='tophat', bandwidth=bandwidth).fit(frequency_extraction_array)\n",
    "# logprob = kde.score_samples(x_d[:, None])  ### score_samples is basicall log normal density dist.\n",
    "# exp_logprob = np.exp(logprob)\n",
    "# pdf_sample_mean = np.mean(exp_logprob)\n",
    "# pdf_sample_std = np.std(exp_logprob)\n",
    "# plt.fill_between(x_d, (exp_logprob),\n",
    "#                  alpha=0.5)  ### So, here, we find the exp(lognorm) for getting the standard normal distribution\n",
    "# plt.xlabel('Right Turn Angular Velocity rad/sec')\n",
    "# plt.ylabel(\"Non-Parametric KDE estimated values\")\n",
    "# plt.title(\"Non-parametric KDE for Right turn angular velocity\")\n",
    "# plt.show()"
   ]
  }
 ],
 "metadata": {
  "kernelspec": {
   "display_name": "Python 3.7.8 64-bit",
   "language": "python",
   "name": "python37864bit6932f59959ee44fe8357d6daa64078ea"
  },
  "language_info": {
   "codemirror_mode": {
    "name": "ipython",
    "version": 3
   },
   "file_extension": ".py",
   "mimetype": "text/x-python",
   "name": "python",
   "nbconvert_exporter": "python",
   "pygments_lexer": "ipython3",
   "version": "3.7.8-final"
  }
 },
 "nbformat": 4,
 "nbformat_minor": 2
}