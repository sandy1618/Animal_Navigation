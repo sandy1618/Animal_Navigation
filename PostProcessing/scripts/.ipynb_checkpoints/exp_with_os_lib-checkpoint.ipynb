{
 "cells": [
  {
   "cell_type": "code",
   "execution_count": 1,
   "metadata": {},
   "outputs": [],
   "source": [
    "import os\n",
    "\"\"\"\n",
    "    references: \n",
    "        https://python101.pythonlibrary.org/chapter16_os.html#os-walk\n",
    "        \n",
    "\"\"\""
   ]
  },
  {
   "cell_type": "code",
   "execution_count": 3,
   "metadata": {},
   "outputs": [
    {
     "data": {
      "text/plain": [
       "'/home/kvothe/sandy/Animal_Behavior_Prediciton/scripts'"
      ]
     },
     "execution_count": 3,
     "metadata": {},
     "output_type": "execute_result"
    }
   ],
   "source": [
    "os.getcwd()"
   ]
  },
  {
   "cell_type": "code",
   "execution_count": 10,
   "metadata": {},
   "outputs": [
    {
     "name": "stdout",
     "output_type": "stream",
     "text": [
      "LEDguidance_convert_bag.sh\n",
      "2019-12-04-20-31-36_rosbag_info.txt\n",
      "2019-12-04-20-31-36_spatial_imu.csv\n",
      "2019-12-04-20-31-36_spatial_posture.csv\n",
      "2019-12-04-20-31-36_joy.csv\n",
      "2019-12-04-20-31-36.bag\n",
      "2019-12-04-20-18-32.bag\n",
      "2019-12-04-20-18-32_joy.csv\n",
      "2019-12-04-20-18-32_spatial_imu.csv\n",
      "2019-12-04-20-18-32_rosbag_info.txt\n",
      "2019-12-04-20-18-32_spatial_posture.csv\n",
      "2019-12-04-20-33-31_spatial_imu.csv\n",
      "2019-12-04-20-33-31_rosbag_info.txt\n",
      "2019-12-04-20-33-31_joy.csv\n",
      "2019-12-04-20-33-31_spatial_posture.csv\n",
      "2019-12-04-20-33-31.bag\n"
     ]
    }
   ],
   "source": [
    "path = r'../data/'\n",
    "#getting all the files in data drc.\n",
    "for root,dirs,files in os.walk(path):\n",
    "    for _file in files :\n",
    "        print(_file)\n",
    "    "
   ]
  },
  {
   "cell_type": "code",
   "execution_count": 16,
   "metadata": {},
   "outputs": [
    {
     "data": {
      "text/html": [
       "<div>\n",
       "<style scoped>\n",
       "    .dataframe tbody tr th:only-of-type {\n",
       "        vertical-align: middle;\n",
       "    }\n",
       "\n",
       "    .dataframe tbody tr th {\n",
       "        vertical-align: top;\n",
       "    }\n",
       "\n",
       "    .dataframe thead th {\n",
       "        text-align: right;\n",
       "    }\n",
       "</style>\n",
       "<table border=\"1\" class=\"dataframe\">\n",
       "  <thead>\n",
       "    <tr style=\"text-align: right;\">\n",
       "      <th></th>\n",
       "      <th>%time</th>\n",
       "      <th>field.header.seq</th>\n",
       "      <th>field.header.stamp</th>\n",
       "      <th>field.header.frame_id</th>\n",
       "      <th>field.axes0</th>\n",
       "      <th>field.axes1</th>\n",
       "      <th>field.axes2</th>\n",
       "      <th>field.axes3</th>\n",
       "      <th>field.axes4</th>\n",
       "      <th>field.axes5</th>\n",
       "      <th>...</th>\n",
       "      <th>field.buttons1</th>\n",
       "      <th>field.buttons2</th>\n",
       "      <th>field.buttons3</th>\n",
       "      <th>field.buttons4</th>\n",
       "      <th>field.buttons5</th>\n",
       "      <th>field.buttons6</th>\n",
       "      <th>field.buttons7</th>\n",
       "      <th>field.buttons8</th>\n",
       "      <th>field.buttons9</th>\n",
       "      <th>field.buttons10</th>\n",
       "    </tr>\n",
       "  </thead>\n",
       "  <tbody>\n",
       "    <tr>\n",
       "      <th>0</th>\n",
       "      <td>1575458334242978652</td>\n",
       "      <td>15</td>\n",
       "      <td>1575458334240276040</td>\n",
       "      <td>NaN</td>\n",
       "      <td>0.0</td>\n",
       "      <td>0.0</td>\n",
       "      <td>0.0</td>\n",
       "      <td>0.0</td>\n",
       "      <td>0.0</td>\n",
       "      <td>0.0</td>\n",
       "      <td>...</td>\n",
       "      <td>0</td>\n",
       "      <td>1</td>\n",
       "      <td>0</td>\n",
       "      <td>0</td>\n",
       "      <td>0</td>\n",
       "      <td>0</td>\n",
       "      <td>0</td>\n",
       "      <td>0</td>\n",
       "      <td>0</td>\n",
       "      <td>0</td>\n",
       "    </tr>\n",
       "    <tr>\n",
       "      <th>1</th>\n",
       "      <td>1575458335013894273</td>\n",
       "      <td>16</td>\n",
       "      <td>1575458335012318198</td>\n",
       "      <td>NaN</td>\n",
       "      <td>0.0</td>\n",
       "      <td>0.0</td>\n",
       "      <td>0.0</td>\n",
       "      <td>0.0</td>\n",
       "      <td>0.0</td>\n",
       "      <td>0.0</td>\n",
       "      <td>...</td>\n",
       "      <td>0</td>\n",
       "      <td>0</td>\n",
       "      <td>0</td>\n",
       "      <td>0</td>\n",
       "      <td>0</td>\n",
       "      <td>0</td>\n",
       "      <td>0</td>\n",
       "      <td>0</td>\n",
       "      <td>0</td>\n",
       "      <td>0</td>\n",
       "    </tr>\n",
       "  </tbody>\n",
       "</table>\n",
       "<p>2 rows × 23 columns</p>\n",
       "</div>"
      ],
      "text/plain": [
       "                 %time  field.header.seq   field.header.stamp  \\\n",
       "0  1575458334242978652                15  1575458334240276040   \n",
       "1  1575458335013894273                16  1575458335012318198   \n",
       "\n",
       "   field.header.frame_id  field.axes0  field.axes1  field.axes2  field.axes3  \\\n",
       "0                    NaN          0.0          0.0          0.0          0.0   \n",
       "1                    NaN          0.0          0.0          0.0          0.0   \n",
       "\n",
       "   field.axes4  field.axes5  ...  field.buttons1  field.buttons2  \\\n",
       "0          0.0          0.0  ...               0               1   \n",
       "1          0.0          0.0  ...               0               0   \n",
       "\n",
       "   field.buttons3  field.buttons4  field.buttons5  field.buttons6  \\\n",
       "0               0               0               0               0   \n",
       "1               0               0               0               0   \n",
       "\n",
       "   field.buttons7  field.buttons8  field.buttons9  field.buttons10  \n",
       "0               0               0               0                0  \n",
       "1               0               0               0                0  \n",
       "\n",
       "[2 rows x 23 columns]"
      ]
     },
     "execution_count": 16,
     "metadata": {},
     "output_type": "execute_result"
    }
   ],
   "source": [
    "#TODO : TAKE TWO FILES AND CONVET THEM TO DATAFRAMES\n",
    "#todo : importing os and using os to get files\n",
    "joy_path = '../data/ros_bag/2019-12-04-20-18-32/2019-12-04-20-18-32_joy.csv'\n",
    "imu_path = '../data/ros_bag/2019-12-04-20-18-32/2019-12-04-20-18-32_spatial_imu.csv'\n",
    "# todo : using psandas to solve this and make two data frames s\n",
    "\n",
    "import pandas as pd\n",
    "\n",
    "joy_df = pd.read_csv(joy_path)\n",
    "\n",
    "joy_df.head(2)\n",
    "\n",
    "    \n",
    "    \n",
    "    \n",
    "    \n",
    "    "
   ]
  },
  {
   "cell_type": "code",
   "execution_count": 18,
   "metadata": {},
   "outputs": [
    {
     "data": {
      "text/plain": [
       "numpy.int64"
      ]
     },
     "execution_count": 18,
     "metadata": {},
     "output_type": "execute_result"
    }
   ],
   "source": [
    "type(joy_df.loc[:,'%time'][0])\n"
   ]
  }
 ],
 "metadata": {
  "kernelspec": {
   "display_name": "Python 3",
   "language": "python",
   "name": "python3"
  },
  "language_info": {
   "codemirror_mode": {
    "name": "ipython",
    "version": 3
   },
   "file_extension": ".py",
   "mimetype": "text/x-python",
   "name": "python",
   "nbconvert_exporter": "python",
   "pygments_lexer": "ipython3",
   "version": "3.6.8"
  }
 },
 "nbformat": 4,
 "nbformat_minor": 4
}
